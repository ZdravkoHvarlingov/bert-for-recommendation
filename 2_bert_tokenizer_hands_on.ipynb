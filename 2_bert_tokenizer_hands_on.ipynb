{
 "cells": [
  {
   "cell_type": "code",
   "execution_count": 1,
   "id": "725e2c77",
   "metadata": {
    "execution": {
     "iopub.execute_input": "2021-06-24T07:15:41.924013Z",
     "iopub.status.busy": "2021-06-24T07:15:41.922989Z",
     "iopub.status.idle": "2021-06-24T07:15:43.190114Z",
     "shell.execute_reply": "2021-06-24T07:15:43.189171Z"
    },
    "papermill": {
     "duration": 1.284177,
     "end_time": "2021-06-24T07:15:43.190114",
     "exception": false,
     "start_time": "2021-06-24T07:15:41.905937",
     "status": "completed"
    },
    "tags": []
   },
   "outputs": [],
   "source": [
    "from transformers import AutoTokenizer"
   ]
  },
  {
   "cell_type": "code",
   "execution_count": 2,
   "id": "a7aa1324",
   "metadata": {
    "execution": {
     "iopub.execute_input": "2021-06-24T07:15:43.208598Z",
     "iopub.status.busy": "2021-06-24T07:15:43.207618Z",
     "iopub.status.idle": "2021-06-24T07:15:43.211575Z",
     "shell.execute_reply": "2021-06-24T07:15:43.210575Z"
    },
    "papermill": {
     "duration": 0.012967,
     "end_time": "2021-06-24T07:15:43.211575",
     "exception": false,
     "start_time": "2021-06-24T07:15:43.198608",
     "status": "completed"
    },
    "tags": []
   },
   "outputs": [],
   "source": [
    "PRE_TRAINED_MODEL_NAME = 'bert-base-cased'"
   ]
  },
  {
   "cell_type": "code",
   "execution_count": 3,
   "id": "18cf7067",
   "metadata": {
    "execution": {
     "iopub.execute_input": "2021-06-24T07:15:43.230523Z",
     "iopub.status.busy": "2021-06-24T07:15:43.230523Z",
     "iopub.status.idle": "2021-06-24T07:15:46.243042Z",
     "shell.execute_reply": "2021-06-24T07:15:46.243042Z"
    },
    "papermill": {
     "duration": 3.022495,
     "end_time": "2021-06-24T07:15:46.243042",
     "exception": false,
     "start_time": "2021-06-24T07:15:43.220547",
     "status": "completed"
    },
    "tags": []
   },
   "outputs": [],
   "source": [
    "tokenizer = AutoTokenizer.from_pretrained(PRE_TRAINED_MODEL_NAME)"
   ]
  },
  {
   "cell_type": "code",
   "execution_count": 4,
   "id": "810b2109",
   "metadata": {
    "execution": {
     "iopub.execute_input": "2021-06-24T07:15:46.270228Z",
     "iopub.status.busy": "2021-06-24T07:15:46.269206Z",
     "iopub.status.idle": "2021-06-24T07:15:46.272221Z",
     "shell.execute_reply": "2021-06-24T07:15:46.271191Z"
    },
    "papermill": {
     "duration": 0.017984,
     "end_time": "2021-06-24T07:15:46.272221",
     "exception": false,
     "start_time": "2021-06-24T07:15:46.254237",
     "status": "completed"
    },
    "tags": []
   },
   "outputs": [],
   "source": [
    "sample_book1_desc = 'An awesome book about the nature. There is no more you can have!'\n",
    "sample_book2_desc = 'Do you want to experience some horror stories, if yes - do not hesitate to try this book out!'"
   ]
  },
  {
   "cell_type": "code",
   "execution_count": 5,
   "id": "ccee226a",
   "metadata": {
    "execution": {
     "iopub.execute_input": "2021-06-24T07:15:46.292135Z",
     "iopub.status.busy": "2021-06-24T07:15:46.291144Z",
     "iopub.status.idle": "2021-06-24T07:15:46.300114Z",
     "shell.execute_reply": "2021-06-24T07:15:46.300114Z"
    },
    "papermill": {
     "duration": 0.019945,
     "end_time": "2021-06-24T07:15:46.300114",
     "exception": false,
     "start_time": "2021-06-24T07:15:46.280169",
     "status": "completed"
    },
    "tags": []
   },
   "outputs": [
    {
     "name": "stdout",
     "output_type": "stream",
     "text": [
      " Sentence: An awesome book about the nature. There is no more you can have!\n",
      "   Tokens: ['An', 'awesome', 'book', 'about', 'the', 'nature', '.', 'There', 'is', 'no', 'more', 'you', 'can', 'have', '!']\n",
      "Token IDs: [1760, 14918, 1520, 1164, 1103, 2731, 119, 1247, 1110, 1185, 1167, 1128, 1169, 1138, 106]\n"
     ]
    }
   ],
   "source": [
    "tokens = tokenizer.tokenize(sample_book1_desc)\n",
    "token_ids = tokenizer.convert_tokens_to_ids(tokens)\n",
    "\n",
    "print(f' Sentence: {sample_book1_desc}')\n",
    "print(f'   Tokens: {tokens}')\n",
    "print(f'Token IDs: {token_ids}')"
   ]
  },
  {
   "cell_type": "code",
   "execution_count": 6,
   "id": "334c249d",
   "metadata": {
    "execution": {
     "iopub.execute_input": "2021-06-24T07:15:46.331032Z",
     "iopub.status.busy": "2021-06-24T07:15:46.326078Z",
     "iopub.status.idle": "2021-06-24T07:15:46.336018Z",
     "shell.execute_reply": "2021-06-24T07:15:46.336018Z"
    },
    "papermill": {
     "duration": 0.026927,
     "end_time": "2021-06-24T07:15:46.336018",
     "exception": false,
     "start_time": "2021-06-24T07:15:46.309091",
     "status": "completed"
    },
    "tags": []
   },
   "outputs": [
    {
     "data": {
      "text/plain": [
       "(('[SEP]', 102), ('[CLS]', 101), ('[PAD]', 0), ('[UNK]', 100))"
      ]
     },
     "execution_count": 6,
     "metadata": {},
     "output_type": "execute_result"
    }
   ],
   "source": [
    "(tokenizer.sep_token, tokenizer.sep_token_id), (tokenizer.cls_token, tokenizer.cls_token_id), (tokenizer.pad_token, tokenizer.pad_token_id), (tokenizer.unk_token, tokenizer.unk_token_id)"
   ]
  },
  {
   "cell_type": "code",
   "execution_count": 7,
   "id": "d87db928",
   "metadata": {
    "execution": {
     "iopub.execute_input": "2021-06-24T07:15:46.362948Z",
     "iopub.status.busy": "2021-06-24T07:15:46.362948Z",
     "iopub.status.idle": "2021-06-24T07:15:46.370931Z",
     "shell.execute_reply": "2021-06-24T07:15:46.370931Z"
    },
    "papermill": {
     "duration": 0.026927,
     "end_time": "2021-06-24T07:15:46.371924",
     "exception": false,
     "start_time": "2021-06-24T07:15:46.344997",
     "status": "completed"
    },
    "tags": []
   },
   "outputs": [
    {
     "name": "stdout",
     "output_type": "stream",
     "text": [
      "{'input_ids': [101, 1760, 14918, 1520, 1164, 1103, 2731, 119, 1247, 1110, 1185, 1167, 1128, 1169, 1138, 106, 102, 2091, 1128, 1328, 1106, 2541, 1199, 5367, 2801, 117, 1191, 4208, 118, 1202, 1136, 17467, 1106, 2222, 1142, 1520, 1149, 106, 102], 'token_type_ids': [0, 0, 0, 0, 0, 0, 0, 0, 0, 0, 0, 0, 0, 0, 0, 0, 0, 1, 1, 1, 1, 1, 1, 1, 1, 1, 1, 1, 1, 1, 1, 1, 1, 1, 1, 1, 1, 1, 1], 'attention_mask': [1, 1, 1, 1, 1, 1, 1, 1, 1, 1, 1, 1, 1, 1, 1, 1, 1, 1, 1, 1, 1, 1, 1, 1, 1, 1, 1, 1, 1, 1, 1, 1, 1, 1, 1, 1, 1, 1, 1]}\n"
     ]
    },
    {
     "data": {
      "text/plain": [
       "\"[CLS] An awesome book about the nature. There is no more you can have! [SEP] Do you want to experience some horror stories, if yes - don't hesitate to try this book out! [SEP]\""
      ]
     },
     "execution_count": 7,
     "metadata": {},
     "output_type": "execute_result"
    }
   ],
   "source": [
    "encoded_input = tokenizer(sample_book1_desc, sample_book2_desc)\n",
    "print(encoded_input)\n",
    "tokenizer.decode(encoded_input[\"input_ids\"])"
   ]
  },
  {
   "cell_type": "code",
   "execution_count": 8,
   "id": "29313fde",
   "metadata": {
    "execution": {
     "iopub.execute_input": "2021-06-24T07:15:46.400846Z",
     "iopub.status.busy": "2021-06-24T07:15:46.399851Z",
     "iopub.status.idle": "2021-06-24T07:15:46.403836Z",
     "shell.execute_reply": "2021-06-24T07:15:46.403836Z"
    },
    "papermill": {
     "duration": 0.019928,
     "end_time": "2021-06-24T07:15:46.404834",
     "exception": false,
     "start_time": "2021-06-24T07:15:46.384906",
     "status": "completed"
    },
    "tags": []
   },
   "outputs": [],
   "source": [
    "batch_sentences = [\"Hello I'm a single sentence. You are not!\",\n",
    "                   \"And another sentence\",\n",
    "                   \"And the very very last one\"]\n",
    "batch_of_second_sentences = [\"I'm a sentence that goes with the first sentence\",\n",
    "                             \"And I should be encoded with the second sentence\",\n",
    "                             \"And I go with the very last one\"]"
   ]
  },
  {
   "cell_type": "code",
   "execution_count": 9,
   "id": "add730f2",
   "metadata": {
    "execution": {
     "iopub.execute_input": "2021-06-24T07:15:46.427773Z",
     "iopub.status.busy": "2021-06-24T07:15:46.425810Z",
     "iopub.status.idle": "2021-06-24T07:15:46.434755Z",
     "shell.execute_reply": "2021-06-24T07:15:46.435752Z"
    },
    "papermill": {
     "duration": 0.020927,
     "end_time": "2021-06-24T07:15:46.435752",
     "exception": false,
     "start_time": "2021-06-24T07:15:46.414825",
     "status": "completed"
    },
    "tags": []
   },
   "outputs": [
    {
     "name": "stdout",
     "output_type": "stream",
     "text": [
      "{'input_ids': tensor([[  101,  8667,   146,   112,   182,   170,  1423,  5650,   119,  1192,\n",
      "          1132,  1136,   106,   102,   146,   112,   182,   170,  5650,  1115,\n",
      "          2947,  1114,  1103,  1148,  5650,   102],\n",
      "        [  101,  1262,  1330,  5650,   102,  1262,   146,  1431,  1129, 12544,\n",
      "          1114,  1103,  1248,  5650,   102,     0,     0,     0,     0,     0,\n",
      "             0,     0,     0,     0,     0,     0],\n",
      "        [  101,  1262,  1103,  1304,  1304,  1314,  1141,   102,  1262,   146,\n",
      "          1301,  1114,  1103,  1304,  1314,  1141,   102,     0,     0,     0,\n",
      "             0,     0,     0,     0,     0,     0]]), 'token_type_ids': tensor([[0, 0, 0, 0, 0, 0, 0, 0, 0, 0, 0, 0, 0, 0, 1, 1, 1, 1, 1, 1, 1, 1, 1, 1,\n",
      "         1, 1],\n",
      "        [0, 0, 0, 0, 0, 1, 1, 1, 1, 1, 1, 1, 1, 1, 1, 0, 0, 0, 0, 0, 0, 0, 0, 0,\n",
      "         0, 0],\n",
      "        [0, 0, 0, 0, 0, 0, 0, 0, 1, 1, 1, 1, 1, 1, 1, 1, 1, 0, 0, 0, 0, 0, 0, 0,\n",
      "         0, 0]]), 'attention_mask': tensor([[1, 1, 1, 1, 1, 1, 1, 1, 1, 1, 1, 1, 1, 1, 1, 1, 1, 1, 1, 1, 1, 1, 1, 1,\n",
      "         1, 1],\n",
      "        [1, 1, 1, 1, 1, 1, 1, 1, 1, 1, 1, 1, 1, 1, 1, 0, 0, 0, 0, 0, 0, 0, 0, 0,\n",
      "         0, 0],\n",
      "        [1, 1, 1, 1, 1, 1, 1, 1, 1, 1, 1, 1, 1, 1, 1, 1, 1, 0, 0, 0, 0, 0, 0, 0,\n",
      "         0, 0]])}\n"
     ]
    }
   ],
   "source": [
    "encoded_inputs = tokenizer(batch_sentences, batch_of_second_sentences, padding='longest', truncation='longest_first', return_tensors='pt')\n",
    "print(encoded_inputs)"
   ]
  },
  {
   "cell_type": "code",
   "execution_count": 10,
   "id": "c70d219d",
   "metadata": {
    "execution": {
     "iopub.execute_input": "2021-06-24T07:15:46.458723Z",
     "iopub.status.busy": "2021-06-24T07:15:46.457719Z",
     "iopub.status.idle": "2021-06-24T07:15:46.464675Z",
     "shell.execute_reply": "2021-06-24T07:15:46.463679Z"
    },
    "papermill": {
     "duration": 0.01895,
     "end_time": "2021-06-24T07:15:46.464675",
     "exception": false,
     "start_time": "2021-06-24T07:15:46.445725",
     "status": "completed"
    },
    "tags": []
   },
   "outputs": [
    {
     "name": "stdout",
     "output_type": "stream",
     "text": [
      "Inputs shape: torch.Size([3, 26])\n",
      "Sequence len: 26\n",
      "[CLS] Hello I'm a single sentence. You are not! [SEP] I'm a sentence that goes with the first sentence [SEP]\n",
      "Sequence len: 26\n",
      "[CLS] And another sentence [SEP] And I should be encoded with the second sentence [SEP] [PAD] [PAD] [PAD] [PAD] [PAD] [PAD] [PAD] [PAD] [PAD] [PAD] [PAD]\n",
      "Sequence len: 26\n",
      "[CLS] And the very very last one [SEP] And I go with the very last one [SEP] [PAD] [PAD] [PAD] [PAD] [PAD] [PAD] [PAD] [PAD] [PAD]\n"
     ]
    }
   ],
   "source": [
    "print(f'Inputs shape: {encoded_inputs[\"input_ids\"].shape}')\n",
    "for ids in encoded_inputs['input_ids']:\n",
    "    print(f'Sequence len: {len(ids)}')\n",
    "    print(tokenizer.decode(ids))"
   ]
  },
  {
   "cell_type": "code",
   "execution_count": null,
   "id": "f003ae57",
   "metadata": {
    "papermill": {
     "duration": 0.008977,
     "end_time": "2021-06-24T07:15:46.483625",
     "exception": false,
     "start_time": "2021-06-24T07:15:46.474648",
     "status": "completed"
    },
    "tags": []
   },
   "outputs": [],
   "source": []
  }
 ],
 "metadata": {
  "interpreter": {
   "hash": "236afb4c60c7ec613449c67b2c4cd5af5ca37658326c13f26b7a5944e23c45d9"
  },
  "kernelspec": {
   "display_name": "Python 3.7.4 64-bit ('venv': venv)",
   "name": "python3"
  },
  "language_info": {
   "codemirror_mode": {
    "name": "ipython",
    "version": 3
   },
   "file_extension": ".py",
   "mimetype": "text/x-python",
   "name": "python",
   "nbconvert_exporter": "python",
   "pygments_lexer": "ipython3",
   "version": "3.7.4"
  },
  "papermill": {
   "default_parameters": {},
   "duration": 8.397596,
   "end_time": "2021-06-24T07:15:48.719391",
   "environment_variables": {},
   "exception": null,
   "input_path": "bert_tokenizer_hands_on.ipynb",
   "output_path": "bert_tokenizer_hands_on.ipynb",
   "parameters": {},
   "start_time": "2021-06-24T07:15:40.321795",
   "version": "2.3.3"
  }
 },
 "nbformat": 4,
 "nbformat_minor": 5
}