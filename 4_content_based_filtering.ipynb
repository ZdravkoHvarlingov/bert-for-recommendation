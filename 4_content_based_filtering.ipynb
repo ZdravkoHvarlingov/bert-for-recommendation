{
 "cells": [
  {
   "cell_type": "code",
   "execution_count": 1,
   "metadata": {},
   "outputs": [],
   "source": [
    "import torch\n",
    "import json\n",
    "import random\n",
    "\n",
    "import numpy as np\n",
    "import torch.nn.functional as F\n",
    "\n",
    "from tqdm.notebook import tqdm\n",
    "from random import randrange\n",
    "from transformers import BertForNextSentencePrediction, AutoTokenizer"
   ]
  },
  {
   "cell_type": "code",
   "execution_count": 2,
   "metadata": {},
   "outputs": [],
   "source": [
    "RANDOM_SEED = 42\n",
    "PRE_TRAINED_MODEL_NAME = 'bert-base-cased'\n",
    "\n",
    "MAX_SEQUENCE_LENGTH = 256\n",
    "\n",
    "MODEL_PATH = '800k_100k_100k_best_model_state.pth'\n",
    "BOOKS_PATH = 'data/top_200000_eng_books_filtered.json'\n",
    "NUM_OF_BOOKS_TO_USE = 10000"
   ]
  },
  {
   "cell_type": "code",
   "execution_count": 3,
   "metadata": {},
   "outputs": [
    {
     "data": {
      "text/plain": [
       "device(type='cuda')"
      ]
     },
     "execution_count": 3,
     "metadata": {},
     "output_type": "execute_result"
    }
   ],
   "source": [
    "np.random.seed(RANDOM_SEED)\n",
    "torch.manual_seed(RANDOM_SEED)\n",
    "random.seed(RANDOM_SEED)\n",
    "\n",
    "device = torch.device(\"cuda\" if torch.cuda.is_available() else \"cpu\")\n",
    "device"
   ]
  },
  {
   "cell_type": "markdown",
   "metadata": {},
   "source": [
    "# Model and tokenizer loading"
   ]
  },
  {
   "cell_type": "code",
   "execution_count": 4,
   "metadata": {},
   "outputs": [
    {
     "name": "stderr",
     "output_type": "stream",
     "text": [
      "Some weights of the model checkpoint at bert-base-cased were not used when initializing BertForNextSentencePrediction: ['cls.predictions.bias', 'cls.predictions.transform.LayerNorm.bias', 'cls.predictions.transform.dense.bias', 'cls.predictions.transform.LayerNorm.weight', 'cls.predictions.transform.dense.weight', 'cls.predictions.decoder.weight']\n",
      "- This IS expected if you are initializing BertForNextSentencePrediction from the checkpoint of a model trained on another task or with another architecture (e.g. initializing a BertForSequenceClassification model from a BertForPreTraining model).\n",
      "- This IS NOT expected if you are initializing BertForNextSentencePrediction from the checkpoint of a model that you expect to be exactly identical (initializing a BertForSequenceClassification model from a BertForSequenceClassification model).\n"
     ]
    }
   ],
   "source": [
    "model = BertForNextSentencePrediction.from_pretrained(PRE_TRAINED_MODEL_NAME)\n",
    "model.load_state_dict(torch.load(MODEL_PATH))\n",
    "model = model.to(device)\n",
    "model.eval()\n",
    "\n",
    "tokenizer = AutoTokenizer.from_pretrained(PRE_TRAINED_MODEL_NAME)"
   ]
  },
  {
   "cell_type": "markdown",
   "metadata": {},
   "source": [
    "# Books loading"
   ]
  },
  {
   "cell_type": "code",
   "execution_count": 5,
   "metadata": {},
   "outputs": [],
   "source": [
    "def extract_first_n_books(n):\n",
    "    with open(BOOKS_PATH, 'r') as books_file:\n",
    "        books = json.load(books_file)\n",
    "\n",
    "    all_book_ids = list(books.keys())\n",
    "    books_to_use = {}\n",
    "    for idx in range(n):\n",
    "        book_id = all_book_ids[idx]\n",
    "        books_to_use[book_id] = books[book_id]\n",
    "\n",
    "    return books_to_use, all_book_ids[:n]"
   ]
  },
  {
   "cell_type": "code",
   "execution_count": 6,
   "metadata": {},
   "outputs": [
    {
     "name": "stdout",
     "output_type": "stream",
     "text": [
      "10000 books loaded.\n"
     ]
    }
   ],
   "source": [
    "books, book_ids = extract_first_n_books(NUM_OF_BOOKS_TO_USE)\n",
    "print(f'{len(books)} books loaded.')"
   ]
  },
  {
   "cell_type": "markdown",
   "metadata": {},
   "source": [
    "# Books similar to a source one"
   ]
  },
  {
   "cell_type": "code",
   "execution_count": 7,
   "metadata": {},
   "outputs": [
    {
     "name": "stdout",
     "output_type": "stream",
     "text": [
      "Source book selected: {'book_id': '12429335', 'title': 'Water Sings Blue: Ocean Poems', 'description': 'Come down to the shore with this rich and vivid celebration of the ocean! With watercolors gorgeous enough to wade in by award-winning artist Meilo So and playful, moving poems by Kate Coombs, Water Sings Blue evokes the beauty and power, the depth and mystery, and the endless resonance of the sea.', 'similar_books': ['18166919', '12962487']}\n"
     ]
    }
   ],
   "source": [
    "source_book = book_ids[randrange(len(books))]\n",
    "source_book = books[source_book]\n",
    "\n",
    "print(f'Source book selected: {source_book}')"
   ]
  },
  {
   "cell_type": "code",
   "execution_count": 8,
   "metadata": {},
   "outputs": [],
   "source": [
    "def get_top_k_most_similar(source_book, book_ids, books_data, k=10):\n",
    "    results = []\n",
    "    for book_id in tqdm(book_ids):\n",
    "        book = books_data[book_id]\n",
    "\n",
    "        encoded_sequences = tokenizer(\n",
    "            source_book['description'],\n",
    "            book['description'],\n",
    "            padding='longest',\n",
    "            truncation='longest_first',\n",
    "            return_tensors='pt',\n",
    "            max_length=MAX_SEQUENCE_LENGTH\n",
    "        )\n",
    "\n",
    "        outputs = model(\n",
    "            input_ids=encoded_sequences['input_ids'].to(device),\n",
    "            attention_mask=encoded_sequences['attention_mask'].to(device),\n",
    "            token_type_ids=encoded_sequences['token_type_ids'].to(device)\n",
    "        )\n",
    "        probs = F.softmax(outputs.logits, dim=1)\n",
    "\n",
    "        # Class 0 notes if sent B follows sent A\n",
    "        similarity_score = probs[0][0]\n",
    "        results.append((book_id, similarity_score.detach().item()))\n",
    "    \n",
    "    results.sort(key=lambda pair: pair[1], reverse=True)\n",
    "    return results[:k]"
   ]
  },
  {
   "cell_type": "code",
   "execution_count": 9,
   "metadata": {},
   "outputs": [
    {
     "data": {
      "application/vnd.jupyter.widget-view+json": {
       "model_id": "845597dc447046db85c4991706bb7f5f",
       "version_major": 2,
       "version_minor": 0
      },
      "text/plain": [
       "  0%|          | 0/10000 [00:00<?, ?it/s]"
      ]
     },
     "metadata": {},
     "output_type": "display_data"
    }
   ],
   "source": [
    "similar_books = get_top_k_most_similar(source_book, book_ids, books, 10)"
   ]
  },
  {
   "cell_type": "code",
   "execution_count": 10,
   "metadata": {},
   "outputs": [
    {
     "name": "stdout",
     "output_type": "stream",
     "text": [
      "Source book title: Water Sings Blue: Ocean Poems\n",
      "Source book description: Come down to the shore with this rich and vivid celebration of the ocean! With watercolors gorgeous enough to wade in by award-winning artist Meilo So and playful, moving poems by Kate Coombs, Water Sings Blue evokes the beauty and power, the depth and mystery, and the endless resonance of the sea.\n",
      "\n",
      "\n",
      "Top 10 most similar books:\n",
      "\n",
      "1.\n",
      "Title: Welou, My Brother\n",
      "Score 0-1: 0.9999364614486694\n",
      "Description: Welou, My Brotheris the story of a boy and his family, and their struggle to live between three cultures. They are Islanders, descended from labourers who were shanghaied from Vanuatu and put to work in the Queensland cane fields. Welou, his mother Ivy and father Wacvie, and his brothers and sisters live a simple and close family life centered on farming and domestic chores. In this book, Faith Bandler recreates the timeless, slow and relaxed rhythm of life of her childhood. It is a story that will be enjoyed by all ages, and is recommended for students of social and mulit-cultural studies.\n",
      "\n",
      "2.\n",
      "Title: The Fish House Door\n",
      "Score 0-1: 0.9999361038208008\n",
      "Description: Shawn comes from a long line of island lobstermen. His father, grandfather, and great-grandfather have all hauled traps, baited pockets, painted buoys, and cleaned their brushes on the door of the same fish house for decades. To Shawn, it's just a weathered old piece of wood with broken hinges. But when an art dealer comes to visit, he gives Shawn a new perspective on the fish house door, and a fresh look at the people and traditions that have shaped his past and will chart his future. The Fish House Door, illustrated by rising star Astrid Sheckels, won the 2010 Moonbeam Award (Gold Medal) for Best Picture Book in the All Ages category.\n",
      "\n",
      "3.\n",
      "Title: Mazin Grace\n",
      "Score 0-1: 0.9999346733093262\n",
      "Description: With the powerful, rhythmic sounds of Aboriginal English and Kokatha language woven through the narrative, Mazin Graceis the inspirational story of a feisty girl who refuses to be told who she is, determined to uncover the truth for herself. Growing up on the Mission isn't easy for clever Grace Oldman. When her classmates tease her for not having a father, she doesn't know what to say. Pappa Neddy says her dad is the Lord God in Heaven, but that doesn't help when the Mission kids call her a bastard. As Grace slowly pieces together clues that might lead to answers, she struggles to find a place in a community that rejects her for reasons she doesn't understand. In this novel, author Dylan Coleman fictionalizes her mother's childhood at the Koonibba Lutheran Mission in South Australia in the 1940s and 1950s.\n",
      "\n",
      "4.\n",
      "Title: Mouse & Lion\n",
      "Score 0-1: 0.9999345541000366\n",
      "Description: From the illustrator of the classic edition of Snow-White and the Seven Dwarfs On a ridge above the Kalihari, Lion naps, until Mouse bumbles into him, willy-nilly, startling him awake. After a show of teeth, Lion is softened by Mouse's pledge of loyalty and sets him free. When a cold moon brings a humbling lesson, Lion comes to recognize Mouse's keen skill, and deeper kindness. Mouse and Lion, Aesop's fabled duo, renew their ancient bond in this warm retelling by Rand Burkert, illuminated by the authentic natural detail of Nancy Ekholm Burkert's art.\n",
      "\n",
      "5.\n",
      "Title: Tjieng Tjang Tjerries & other stories\n",
      "Score 0-1: 0.9999340772628784\n",
      "Description: A strikingly written debut collection of vivid short stories set in and around Gansbaai, a small coastal town in South Africa's Western Cape. \"An impressive debut that brings across voices never heard before in South African English - not only in rhythm and timbre, but plumbing the unspoken. With such a remarkable ear, Jolyn Philips is a young writer to watch.\" - Antjie Krog \"It is rare that one encounters a debut as good as this one. Humane, humorous and completely original, these sparkling stories give a voice to a South African community too long ignored by the literary canon. Jolyn Phillips is a gifted young writer to watch.\"- Meg Vandermerwe (Zebra Crossing and This Place I Call Home)\n",
      "\n",
      "6.\n",
      "Title: The True Blue Scouts of Sugar Man Swamp\n",
      "Score 0-1: 0.9999338388442993\n",
      "Description: \"Librarians often say that every book is not for every child, but The True Blue Scouts of Sugar Man Swamp is\" (The New York Times). Meet Bingo and J'miah, raccoon brothers on a mission to save Sugar Man Swamp in this rollicking tale and National Book Award Finalist from Newbery Honoree Kathi Appelt. Raccoon brothers Bingo and J'miah are the newest recruits of the Official Sugar Man Swamp Scouts. The opportunity to serve the Sugar Man--the massive creature who delights in delicious sugar cane and magnanimously rules over the swamp--is an honor, and also a big responsibility, since the rest of the swamp critters rely heavily on the intel of these hardworking Scouts. Twelve-year-old Chap Brayburn is not a member of any such organization. But he loves the swamp something fierce, and he'll do anything to help protect it. And help is surely needed, because world-class alligator wrestler Jaeger Stitch wants to turn Sugar Man swamp into an Alligator World Wrestling Arena and Theme Park, and the troubles don't end there. There is also a gang of wild feral hogs on the march, headed straight toward them all. The Scouts are ready. All they have to do is wake up the Sugar Man. Problem is, no one's been able to wake that fellow up in a decade or four... Newbery Honoree and Kathi Appelt's story of care and conservation has received five starred reviews, was selected as a National Book Award finalist, and is funny as all get out and ripe for reading aloud.\n",
      "\n",
      "7.\n",
      "Title: Frog in Love\n",
      "Score 0-1: 0.9999306201934814\n",
      "Description: \"Hello Frog,\" said Piglet. \"You don't look very well. What's the matter with you?\" \"I don't know,\" said Frog. \"I feel like laughing and crying at the same time. And there's something going thump-thump inside me, here.\" It's not easy to be in love-but it's easy to be  in love with Frog! Frog is worried because his heart is beating too fast-could he be in love? But who is he in love with? This enchanting mini-book will delight children of all ages and strike a chord with anyone who knows what it is to be in love.\n",
      "\n",
      "8.\n",
      "Title: Martha in the Middle\n",
      "Score 0-1: 0.9999294281005859\n",
      "Description: Martha is tired of being in the middle -- until a frog points out its benefits -- in a funny story sure to have middle siblings feeling on top of the world. Being in the middle is no fun for Martha. She gets squashed between her siblings when they argue. She never gets called \"big and sensible\" or \"cutesy-wootsy.\" Sometimes she even feels invisible. One day she gets so fed up, she decides to run away. Luckily, Martha meets a wise frog who points out that the middle is the best bit -- the tasty seeds in the sunflower, the sweet peas in the pod, the juiciest part of a watermelon. With beguiling warmth and humor, Jan Fearnley reassures children that being in the middle of things is a choice spot after all.\n",
      "\n",
      "9.\n",
      "Title: Say What?\n",
      "Score 0-1: 0.9999287128448486\n",
      "Description: With an interactive text and bright, playful illustrations, explore what baby animals really mean when they make their adorable baby animal sounds. When a lion says ROAR, does he really mean MORE? When a cow says MOO, does she really mean YOU? How do we know what animals say when they say what they say with their sounds everyday? With an interactive text and bright, playful illustrations, Angela DiTerlizzi and Joey Chou explore what baby animals really mean when they make their adorable baby animal sounds.\n",
      "\n",
      "10.\n",
      "Title: Who Am I? The Diary Of Mary Talence, Sydney 1937\n",
      "Score 0-1: 0.9999287128448486\n",
      "Description: Part of the \"My Story\" series. Set in Sydney, 1937, this is the fictional diary of a young Aboriginal girl, a member of the Stolen Generation. She is given the diary by the Sister in charge of Bomaderry Aboriginal Children's Home and through its pages she describes her life - from her arrival there, aged five, through her struggle to understand why she was taken from her real mother, to her adoption at ten years of age by a white Catholic family in St.Ives. Mary Talence, birth name Amy Charles, is increasingly confused - and then ashamed - as she is taught that white skinned is good, black skinned is bad. She longs to understand why this is so but finds that logical questions - almost any questions - provoke anger and accusations of ingratitude from her white family. Her music - her beautiful voice and her ability to make up songs - is her greatest source of comfort. This is an honest, thought-provoking book that acknowledges the terrible wrong done to aboriginal children taken from their families whilst also recognising the combination of ignorance, genuinely good intentions and political convenience that brought about this dreadful policy. Very appropriate for integration with HSIE and highly recommended for general reading as a clear introduction to the reality of the Stolen Generations to primary students.\n",
      "\n"
     ]
    }
   ],
   "source": [
    "print(f'Source book title: {source_book[\"title\"]}')\n",
    "print(f'Source book description: {source_book[\"description\"]}\\n\\n')\n",
    "\n",
    "print('Top 10 most similar books:\\n')\n",
    "for idx, (book_id, score) in enumerate(similar_books):\n",
    "    similar_book = books[book_id]\n",
    "    print(f'{idx + 1}.')\n",
    "    print(f'Title: {similar_book[\"title\"]}')\n",
    "    print(f'Score 0-1: {score}')\n",
    "    print(f'Description: {similar_book[\"description\"]}\\n')"
   ]
  },
  {
   "cell_type": "markdown",
   "metadata": {},
   "source": [
    "# Books similar to a description"
   ]
  },
  {
   "cell_type": "code",
   "execution_count": 11,
   "metadata": {},
   "outputs": [],
   "source": [
    "description = \"Inventor Tony Stark is no ordinary billionaire. He may have a big house and lots of money, but he also has a powerful suit that he wears to help fight evil and protect people in need. Tony Stark is the Invincible Iron Man!\""
   ]
  },
  {
   "cell_type": "code",
   "execution_count": 12,
   "metadata": {},
   "outputs": [],
   "source": [
    "def get_top_k_most_similar_for_description(description, book_ids, books_data, k=10):\n",
    "    results = []\n",
    "    for book_id in tqdm(book_ids):\n",
    "        book = books_data[book_id]\n",
    "\n",
    "        encoded_sequences = tokenizer(\n",
    "            description,\n",
    "            book['description'],\n",
    "            padding='longest',\n",
    "            truncation='longest_first',\n",
    "            return_tensors='pt',\n",
    "            max_length=MAX_SEQUENCE_LENGTH\n",
    "        )\n",
    "\n",
    "        outputs = model(\n",
    "            input_ids=encoded_sequences['input_ids'].to(device),\n",
    "            attention_mask=encoded_sequences['attention_mask'].to(device),\n",
    "            token_type_ids=encoded_sequences['token_type_ids'].to(device)\n",
    "        )\n",
    "        probs = F.softmax(outputs.logits, dim=1)\n",
    "\n",
    "        # Class 0 notes if sent B follows sent A\n",
    "        similarity_score = probs[0][0]\n",
    "        results.append((book_id, similarity_score.detach().item()))\n",
    "    \n",
    "    results.sort(key=lambda pair: pair[1], reverse=True)\n",
    "    return results[:k]"
   ]
  },
  {
   "cell_type": "code",
   "execution_count": 13,
   "metadata": {},
   "outputs": [
    {
     "data": {
      "application/vnd.jupyter.widget-view+json": {
       "model_id": "4913825c01e9441b9722caebb4a23c67",
       "version_major": 2,
       "version_minor": 0
      },
      "text/plain": [
       "  0%|          | 0/10000 [00:00<?, ?it/s]"
      ]
     },
     "metadata": {},
     "output_type": "display_data"
    }
   ],
   "source": [
    "similar_books_to_desc = get_top_k_most_similar_for_description(description, book_ids, books, 10)"
   ]
  },
  {
   "cell_type": "code",
   "execution_count": 14,
   "metadata": {},
   "outputs": [
    {
     "name": "stdout",
     "output_type": "stream",
     "text": [
      "Source description: Inventor Tony Stark is no ordinary billionaire. He may have a big house and lots of money, but he also has a powerful suit that he wears to help fight evil and protect people in need. Tony Stark is the Invincible Iron Man!\n",
      "\n",
      "\n",
      "Top 10 most similar books based on the description:\n",
      "\n",
      "1.\n",
      "Title: The Compleat Terminal City\n",
      "Score 0-1: 0.9999097585678101\n",
      "Description: Visionary designer and comics creator Dean Motter (Mister X, Electropolis, Batman: Nine Lives) returns with the purest expression to date of his patented retro futurism! Terminal City is a place where transistor-tube robots rub elbows with old-time gangsters, where bright, shiny technologies cast deep noir shadows. Teaming Motter with celebrated artist Michael Lark (Daredevil, Gotham Central), this massive collection reprints the original series, along with its sequel, Terminal City: Aerial Graffiti! * All fourteen issues of the classic series, collected for the first time! * Eisner-and Harvey Award-nominated series! This is one of the best marriages of story and art I've seen in years and an absolute delight to read. -Alex Ross, artist of Marvelsand Kingdom Come\n",
      "\n",
      "2.\n",
      "Title: Batman: The Dark Knight #13\n",
      "Score 0-1: 0.9998916387557983\n",
      "Description: Batman is pushed to his limits as he faces a fear toxin unlike any he has ever encountered! What is Batman most afraid of? Find out here!\n",
      "\n",
      "3.\n",
      "Title: Inhumans\n",
      "Score 0-1: 0.9998874664306641\n",
      "Description: The Inhumans are one of Marvel's most enduring oddities. A race of genetic freaks living secluded in their island kingdom of Attilan, their mutations are self-endowed; as a coming of age ritual, each Inhuman exposes themself to the Terrigen Mists, a strange substance that imparts unearthly powers...some extraordinary, some monstrous. But now Attilan is under attack from without and within. Can the Royal Family, led by the mute Black Bolt, repel the foreign invaders who assail their outer defense, as well as the internal threat of Black Bolt's insane brother, Maximus the Mad? Paul Jenkins and Jae Lee infuse one of Marvel's oldest families with a modern sensibility, including international politics, class struggles and the age-old struggle of growing up. Dark and grimly compelling, it remains one of Marvel Knights' most beloved stories. COLLECTING:Inhumans (1998) 1-12\n",
      "\n",
      "4.\n",
      "Title: Robert E. Howard's Hawks of Outremer\n",
      "Score 0-1: 0.9998866319656372\n",
      "Description: Conan creator Robert E. Howard's epic story in graphic novel form for the first time ever! Adapted from the story by Robert E. Howard, creator of the legendary character CONAN THE BARBARIAN! Cormac FitzGeoffrey, a wandering warrior born and bred on the battlefield, is a renowned fighter, a ruthless adversary, and a man that is no stranger to the ways of bloodshed and violence. Cormac counts his friends on only one hand, so when he learns that his most recent liege has been murdered; nothing will stop his quest for revenge. By oath, a path of vengeance will be marked by the blood of his enemies. Featuring covers by fan-favorite THE SAVAGE SWORD OF CONAN artist Joe Jusko!\n",
      "\n",
      "5.\n",
      "Title: Captain America: Winter Soldier (The Ultimate Graphic Novels Collection: Publication Order, #7)\n",
      "Score 0-1: 0.9998862743377686\n",
      "Description: The questions plaguing Captain America's dreams and memories have been answered in the most brutal way possible. And in the wake of this brutality, General Lukin makes his first all-out assault - tearing open old wounds and threatening to make new scars that will never heal!\n",
      "\n",
      "6.\n",
      "Title: The Invincible Iron Man, Vol. 11: The Future\n",
      "Score 0-1: 0.9998860359191895\n",
      "Description: Tony Stark has always been obsessed with the future. Whether starting his first company, designing the Mark I Iron Man armor or launching Stark Resilient, his optimism has always been guided by the question, \"What comes next?\" Six months after quitting Resilient, he's found the answer. The sanctity of his mind violated by the Mandarin, he is a man beaten down to his knees, a prisoner within his own body, an indentured servant to an insane cause known only to his captor. For Tony Stark, this is the future - and there's no way out. COLLECTING: Invincible Iron Man 521-527\n",
      "\n",
      "7.\n",
      "Title: Wishing Well\n",
      "Score 0-1: 0.9998855590820312\n",
      "Description: Thor had been staring the whole time. Now he flung himself off the table and across the room. He seized Loki by the shoulders. \"Brother!\" he said, ecstatically. \"Has the spell -- the spell has worked!\" Loki stared back at him. \"What spell?\" he spat. And added, choked off, \"...dear brother.\" 6,034 words, complete Avengers (film)\n",
      "\n",
      "8.\n",
      "Title: X-Force: Phalanx Covenant\n",
      "Score 0-1: 0.9998852014541626\n",
      "Description: It's the incredible conclusion to Fabian Nicieza's definitive X-Force run! When the techno-organic Phalanx kidnap the X-Men and establish a foothold on Earth, X-Force must team with X-Factor and Excalibur to battle the aliens...but who or what is Douglock? And how will X-Force react to fighting alongside what appears to be their late friend Doug Ramsey? Then: Cable's sentient computer the Professor has been granted a physical body! So why is Cable getting sicker by the day? COLLECTING:X-Factor (1986) 106, X-Force (1991) 38-43, Excalibur (1988) 82\n",
      "\n",
      "9.\n",
      "Title: Power Play (Action Figures, #6)\n",
      "Score 0-1: 0.9998821020126343\n",
      "Description: One of our super-heroes is missing. It took a devastating attack on Kingsport to reunite the Hero Squad, but their reunion proves short-lived after Lightstorm vanishes following the battle, leaving the team without its most powerful member at the worst possible time. Damage Inc. is back and more dangerous than ever, thanks to the mysterious mastermind known only as the Foreman arming them with enough firepower to take on the Hero Squad -- but for what sinister purpose? The Squad is determined to find out, but the answers could cost them dearly. Psyche takes center stage for this game-changing chapter in the Action Figures saga, which includes the bonus short story, Action Figures - Live Free or Die. This is when everything changes!\n",
      "\n",
      "10.\n",
      "Title: Black Knight: The Fall of Dane Whitman\n",
      "Score 0-1: 0.999881386756897\n",
      "Description: What do you do when it's your destiny to be damned? For centuries, that is the grave question that has plagued each wielder of the Ebony Blade -and all of them ultimately succumbed to the sword's curse. Now, as his own addiction to the weapon grows ever stronger, this shocking truth is laid bare to its current owner, the former Avenger Dane Whitman. Will this revelation be the reason he ends up in the strange and dangerous realm known as Weirdworld? Or is there something else? When the Uncanny Avengers hunt him down, will Dane's past actions finally catch up with him? And in the ensuing battle, will his stay in Weirdworld come to a premature end? COLLECTING: Black Knight 1-5, Original Sins 2 (Black Knight story)\n",
      "\n"
     ]
    }
   ],
   "source": [
    "print(f'Source description: {description}\\n\\n')\n",
    "\n",
    "print('Top 10 most similar books based on the description:\\n')\n",
    "for idx, (book_id, score) in enumerate(similar_books_to_desc):\n",
    "    similar_book = books[book_id]\n",
    "    print(f'{idx + 1}.')\n",
    "    print(f'Title: {similar_book[\"title\"]}')\n",
    "    print(f'Score 0-1: {score}')\n",
    "    print(f'Description: {similar_book[\"description\"]}\\n')"
   ]
  },
  {
   "cell_type": "code",
   "execution_count": null,
   "metadata": {},
   "outputs": [],
   "source": []
  }
 ],
 "metadata": {
  "interpreter": {
   "hash": "236afb4c60c7ec613449c67b2c4cd5af5ca37658326c13f26b7a5944e23c45d9"
  },
  "kernelspec": {
   "display_name": "Python 3",
   "language": "python",
   "name": "python3"
  },
  "language_info": {
   "codemirror_mode": {
    "name": "ipython",
    "version": 3
   },
   "file_extension": ".py",
   "mimetype": "text/x-python",
   "name": "python",
   "nbconvert_exporter": "python",
   "pygments_lexer": "ipython3",
   "version": "3.6.9"
  }
 },
 "nbformat": 4,
 "nbformat_minor": 2
}
