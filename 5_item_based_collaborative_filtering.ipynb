{
 "cells": [
  {
   "cell_type": "code",
   "execution_count": 1,
   "metadata": {},
   "outputs": [],
   "source": [
    "import gzip\n",
    "import torch\n",
    "import json\n",
    "import random\n",
    "\n",
    "import numpy as np\n",
    "import torch.nn.functional as F\n",
    "\n",
    "from tqdm.notebook import tqdm\n",
    "from random import randrange\n",
    "from collections import defaultdict\n",
    "from random import randrange, shuffle\n",
    "from transformers import BertForNextSentencePrediction, AutoTokenizer"
   ]
  },
  {
   "cell_type": "code",
   "execution_count": 2,
   "metadata": {},
   "outputs": [],
   "source": [
    "RANDOM_SEED = 42\n",
    "PRE_TRAINED_MODEL_NAME = 'bert-base-cased'\n",
    "\n",
    "MAX_SEQUENCE_LENGTH = 256\n",
    "\n",
    "MODEL_PATH = '800k_100k_100k_best_model_state.pth'\n",
    "BOOKS_PATH = 'data/top_200000_eng_books_filtered.json'\n",
    "REVIEWS_PATH = 'data/goodreads_reviews_dedup.json.gz'\n",
    "\n",
    "NUM_OF_USER_REVIEWS = 1000000\n",
    "NUM_USERS_TO_EVALUATE = 100\n",
    "K_MOST_SIMILAR_TO_CONSIDER = 10"
   ]
  },
  {
   "cell_type": "code",
   "execution_count": 3,
   "metadata": {},
   "outputs": [
    {
     "data": {
      "text/plain": [
       "device(type='cuda')"
      ]
     },
     "execution_count": 3,
     "metadata": {},
     "output_type": "execute_result"
    }
   ],
   "source": [
    "np.random.seed(RANDOM_SEED)\n",
    "torch.manual_seed(RANDOM_SEED)\n",
    "random.seed(RANDOM_SEED)\n",
    "\n",
    "device = torch.device(\"cuda\" if torch.cuda.is_available() else \"cpu\")\n",
    "device"
   ]
  },
  {
   "cell_type": "markdown",
   "metadata": {},
   "source": [
    "# User reviews data loading"
   ]
  },
  {
   "cell_type": "code",
   "execution_count": 4,
   "metadata": {},
   "outputs": [],
   "source": [
    "def load_data(file_name, n):\n",
    "    count = 0\n",
    "\n",
    "    user_reviews = defaultdict(list)\n",
    "    with gzip.open(file_name) as fin:\n",
    "        for l in fin:\n",
    "            review = json.loads(l)\n",
    "            user_reviews[review['user_id']].append(review)\n",
    "            count += 1\n",
    "            \n",
    "            # break if reaches the 100th line\n",
    "            if count >= n:\n",
    "                    break\n",
    "    \n",
    "    return user_reviews"
   ]
  },
  {
   "cell_type": "code",
   "execution_count": 5,
   "metadata": {},
   "outputs": [
    {
     "name": "stdout",
     "output_type": "stream",
     "text": [
      "Number of unique users among the specified number of reviews: 20152\n"
     ]
    }
   ],
   "source": [
    "reviews = load_data(REVIEWS_PATH, NUM_OF_USER_REVIEWS)\n",
    "print(f'Number of unique users among the specified number of reviews: {len(reviews)}')"
   ]
  },
  {
   "cell_type": "code",
   "execution_count": 6,
   "metadata": {},
   "outputs": [
    {
     "name": "stdout",
     "output_type": "stream",
     "text": [
      "Maximum number of reviews for a single user among top 100 users with most ratings: 5345\n",
      "Minimum number of reviews for a single user among top 100 users with most ratings: 892\n"
     ]
    }
   ],
   "source": [
    "user_reviews = list(reviews.items())\n",
    "user_reviews.sort(key=lambda pair: len(pair[1]), reverse=True)\n",
    "user_reviews = user_reviews[:NUM_USERS_TO_EVALUATE]\n",
    "for user_reviews_pair in user_reviews:\n",
    "    shuffle(user_reviews_pair[1])\n",
    "\n",
    "print(f'Maximum number of reviews for a single user among top {NUM_USERS_TO_EVALUATE} users with most ratings: {len(user_reviews[0][1])}')\n",
    "print(f'Minimum number of reviews for a single user among top {NUM_USERS_TO_EVALUATE} users with most ratings: {len(user_reviews[NUM_USERS_TO_EVALUATE - 1][1])}')"
   ]
  },
  {
   "cell_type": "code",
   "execution_count": 7,
   "metadata": {},
   "outputs": [
    {
     "name": "stdout",
     "output_type": "stream",
     "text": [
      "{'user_id': '8e7e5b546a63cb9add8431ee6914cf59', 'book_id': '22138435', 'review_id': '3f47f8fcd54034bbde53ec9d12d557c9', 'rating': 4, 'review_text': 'I liked it, the simple rhyme scheme, the graphic art style, the whole thing. \\n Library copy', 'date_added': 'Thu Jan 22 05:57:11 -0800 2015', 'date_updated': 'Mon Feb 23 10:09:54 -0800 2015', 'read_at': 'Mon Feb 09 00:00:00 -0800 2015', 'started_at': 'Sun Feb 08 00:00:00 -0800 2015', 'n_votes': 0, 'n_comments': 0}\n",
      "\n",
      "{'user_id': '8e7e5b546a63cb9add8431ee6914cf59', 'book_id': '7163889', 'review_id': '0940680fc4d04b912525833b4f27a93e', 'rating': 5, 'review_text': \"Less than 24 hours after receiving our copies, the eldest and I have already finished it, and I've read the first 20 pages aloud to the KitKatPandaBatWolf. Oh, we love these books. And this morning I realized why. Unlike so many books for the new novel reader (those Daisy Meadows books, for example) there's a little bit of snark here. Not a lot. Just enough to keep the fantasy grounded. The girls are confronted with big mysteries, but also with the mundane aspects of life. There are mysterious gifts, and groceries to buy. Evil people to thwart, and regular folks doing their jobs. They may share magical powers with their respective cats, but there are still litter boxes to scoop. \\n I love this series.\", 'date_added': 'Wed Apr 16 06:48:06 -0700 2014', 'date_updated': 'Fri Jan 15 23:19:52 -0800 2016', 'read_at': '', 'started_at': '', 'n_votes': 0, 'n_comments': 0}\n",
      "\n",
      "{'user_id': '8e7e5b546a63cb9add8431ee6914cf59', 'book_id': '1391990', 'review_id': '825593c7da0fa32856a0128dd1630b91', 'rating': 4, 'review_text': \"Anne is the manic pixie dream girl of 1908. There's no malice in her, just lots of daydreaming. She's a good girl, studious and hard-working, helpful and sweet, all the classic virtues except she does talk a lot. And everyone adores her, because she's also quite humble, and as an orphan, so very thankful for everything. She's also fun for the reader, because Anne has a tendency to blurt out everything. Like her middle-aged guardian Marilla, the reader looks on with a smile playing over pressed lips, trying not to laugh at her absurdly romantic notions and truthful evaluations of others. \\n Like Mark Twain, I was charmed.\", 'date_added': 'Mon Jul 14 13:25:37 -0700 2014', 'date_updated': 'Mon Jul 14 13:25:37 -0700 2014', 'read_at': '', 'started_at': '', 'n_votes': 8, 'n_comments': 0}\n",
      "\n",
      "{'user_id': '8e7e5b546a63cb9add8431ee6914cf59', 'book_id': '94799', 'review_id': '6e42984a53e20f84a87cd6d5fe7f9e5f', 'rating': 5, 'review_text': \"The Spouse and I both thought this was was outstanding. As an adventure story it's most engaging, and, as a war account, it is well detailed without bogging too much.\", 'date_added': 'Wed Jul 09 08:30:23 -0700 2014', 'date_updated': 'Wed Jul 16 07:48:27 -0700 2014', 'read_at': 'Sat Dec 10 00:00:00 -0800 2005', 'started_at': '', 'n_votes': 1, 'n_comments': 0}\n",
      "\n",
      "{'user_id': '8e7e5b546a63cb9add8431ee6914cf59', 'book_id': '64666', 'review_id': '2ea64cc150a683611c35be3fa44d4ced', 'rating': 0, 'review_text': \"I gave up after two stalled efforts to interest myself. One thing I learned: the description of Tourette's symptoms sounds a lot like some descriptions of autism symptoms. Whether or not that means anything, I don't know. \\n Library copy.\", 'date_added': 'Thu Sep 17 06:05:52 -0700 2009', 'date_updated': 'Wed Jul 16 13:56:12 -0700 2014', 'read_at': 'Fri Jan 25 05:47:14 -0800 2013', 'started_at': 'Thu Dec 27 00:00:00 -0800 2012', 'n_votes': 1, 'n_comments': 1}\n",
      "\n"
     ]
    }
   ],
   "source": [
    "num_examples = 5\n",
    "for idx in range(num_examples):\n",
    "    print(f'{user_reviews[0][1][idx]}\\n')"
   ]
  },
  {
   "cell_type": "markdown",
   "metadata": {},
   "source": [
    "# Books loading"
   ]
  },
  {
   "cell_type": "code",
   "execution_count": 8,
   "metadata": {},
   "outputs": [
    {
     "name": "stdout",
     "output_type": "stream",
     "text": [
      "Loaded first 200000 books.\n"
     ]
    }
   ],
   "source": [
    "with open(BOOKS_PATH, 'r') as books_file:\n",
    "    books = json.load(books_file)\n",
    "\n",
    "print(f'Loaded first {len(books)} books.')"
   ]
  },
  {
   "cell_type": "code",
   "execution_count": 9,
   "metadata": {},
   "outputs": [
    {
     "name": "stdout",
     "output_type": "stream",
     "text": [
      "Maximum number of reviews for a single user among top 100 users with most ratings: 816\n",
      "Minimum number of reviews for a single user among top 100 users with most ratings: 11\n"
     ]
    }
   ],
   "source": [
    "filtered_user_reviews = []\n",
    "for user_reviews_pair in user_reviews:\n",
    "    filtered_reviews = [book_review for book_review in user_reviews_pair[1] if book_review['book_id'] in books]\n",
    "    filtered_user_reviews.append((user_reviews_pair[0], filtered_reviews))\n",
    "filtered_user_reviews.sort(key=lambda pair: len(pair[1]), reverse=True)\n",
    "\n",
    "print(f'Maximum number of reviews for a single user among top {NUM_USERS_TO_EVALUATE} users with most ratings: {len(filtered_user_reviews[0][1])}')\n",
    "print(f'Minimum number of reviews for a single user among top {NUM_USERS_TO_EVALUATE} users with most ratings: {len(filtered_user_reviews[NUM_USERS_TO_EVALUATE - 1][1])}')"
   ]
  },
  {
   "cell_type": "code",
   "execution_count": 10,
   "metadata": {},
   "outputs": [
    {
     "name": "stdout",
     "output_type": "stream",
     "text": [
      "{'user_id': '37b3e60b4e4152c580fd798d405150ff', 'book_id': '6839093', 'review_id': 'b66a3eefb08c74170fab1ef71c383615', 'rating': 3, 'review_text': \"I'm really not thrilled with the book's central premise, but in the latter half of the volume, the story started building toward something more interesting that _might_ entice me to return.\", 'date_added': 'Mon Jun 24 21:35:07 -0700 2013', 'date_updated': 'Mon Jun 24 21:35:36 -0700 2013', 'read_at': 'Wed Oct 19 00:00:00 -0700 2011', 'started_at': '', 'n_votes': 0, 'n_comments': 0}\n",
      "\n",
      "{'user_id': '37b3e60b4e4152c580fd798d405150ff', 'book_id': '2108198', 'review_id': '6b6109fd53966b4e07b4bb4a0e20c46a', 'rating': 4, 'review_text': \"A cute little book with nice Norse mythology. It's a little bit weak in the middle, but overall a good read.\", 'date_added': 'Fri Jun 21 13:33:08 -0700 2013', 'date_updated': 'Fri Jun 21 13:33:34 -0700 2013', 'read_at': 'Tue Apr 06 00:00:00 -0700 2010', 'started_at': '', 'n_votes': 0, 'n_comments': 0}\n",
      "\n",
      "{'user_id': '37b3e60b4e4152c580fd798d405150ff', 'book_id': '22383', 'review_id': 'e18d225e12ffb3f123131a3c882eb386', 'rating': 4, 'review_text': 'This book is a bit wobby as we trade off between the two main sequences of Seven Soldiers books. Fortunately, Bulleteer and Frankenstein both start off strong.', 'date_added': 'Fri Jul 05 14:05:26 -0700 2013', 'date_updated': 'Fri Jul 05 14:05:57 -0700 2013', 'read_at': 'Sun Jul 04 00:00:00 -0700 2010', 'started_at': '', 'n_votes': 0, 'n_comments': 0}\n",
      "\n",
      "{'user_id': '37b3e60b4e4152c580fd798d405150ff', 'book_id': '320813', 'review_id': '0b4c71e1914062561fa9b9a18fa8079d', 'rating': 1, 'review_text': 'I gave up 100 pages in. Too little focus on the protagonist.', 'date_added': 'Sat Dec 15 22:59:12 -0800 2012', 'date_updated': 'Sun Oct 11 22:07:33 -0700 2015', 'read_at': 'Sun Jan 01 00:00:00 -0800 2006', 'started_at': '', 'n_votes': 0, 'n_comments': 0}\n",
      "\n",
      "{'user_id': '37b3e60b4e4152c580fd798d405150ff', 'book_id': '37060', 'review_id': '92525ecd712e99beb6e9c6a83bdd9f1c', 'rating': 4, 'review_text': \"An interesting story of a life lived. I originally picked it up because of its English origin and because of the scope of time that it covered. In reading it I enjoyed the main character, but it was the muddled back-and-forth through history that I liked most. Gardam really mixes it up, giving us memories, flashbacks, and chapter-length remembrances, and in the process manages to muddy the edges of Filth's history enough that we (presumably like he) sometimes get confused about what happened when. \\n Beyond that the events portrayed are interesting, and if they gave less attention to the English way of life than I would have liked, still touched upon it in an interesting way. \\n Not sure if it grabbed me enough to read the follow-ups though.\", 'date_added': 'Tue Jul 23 21:59:11 -0700 2013', 'date_updated': 'Sun Sep 08 19:20:08 -0700 2013', 'read_at': 'Sun Jul 28 00:34:04 -0700 2013', 'started_at': 'Tue Jul 23 00:00:00 -0700 2013', 'n_votes': 0, 'n_comments': 0}\n",
      "\n"
     ]
    }
   ],
   "source": [
    "num_examples = 5\n",
    "for idx in range(num_examples):\n",
    "    print(f'{filtered_user_reviews[0][1][idx]}\\n')"
   ]
  },
  {
   "cell_type": "markdown",
   "metadata": {},
   "source": [
    "# Model and tokenizer loading"
   ]
  },
  {
   "cell_type": "code",
   "execution_count": 11,
   "metadata": {},
   "outputs": [
    {
     "name": "stderr",
     "output_type": "stream",
     "text": [
      "Some weights of the model checkpoint at bert-base-cased were not used when initializing BertForNextSentencePrediction: ['cls.predictions.transform.dense.bias', 'cls.predictions.transform.LayerNorm.bias', 'cls.predictions.bias', 'cls.predictions.transform.LayerNorm.weight', 'cls.predictions.decoder.weight', 'cls.predictions.transform.dense.weight']\n",
      "- This IS expected if you are initializing BertForNextSentencePrediction from the checkpoint of a model trained on another task or with another architecture (e.g. initializing a BertForSequenceClassification model from a BertForPreTraining model).\n",
      "- This IS NOT expected if you are initializing BertForNextSentencePrediction from the checkpoint of a model that you expect to be exactly identical (initializing a BertForSequenceClassification model from a BertForSequenceClassification model).\n"
     ]
    }
   ],
   "source": [
    "model = BertForNextSentencePrediction.from_pretrained(PRE_TRAINED_MODEL_NAME)\n",
    "model.load_state_dict(torch.load(MODEL_PATH))\n",
    "model = model.to(device)\n",
    "model.eval()\n",
    "\n",
    "tokenizer = AutoTokenizer.from_pretrained(PRE_TRAINED_MODEL_NAME)"
   ]
  },
  {
   "cell_type": "markdown",
   "metadata": {},
   "source": [
    "# Item based collaborative filtering evaluation"
   ]
  },
  {
   "cell_type": "code",
   "execution_count": 12,
   "metadata": {},
   "outputs": [],
   "source": [
    "def calculate_books_similarity(book1_id, book2_id, books):\n",
    "    book1, book2 = books[book1_id], books[book2_id]\n",
    "    encoded_sequences = tokenizer(\n",
    "        book1['description'],\n",
    "        book2['description'],\n",
    "        padding='longest',\n",
    "        truncation='longest_first',\n",
    "        return_tensors='pt',\n",
    "        max_length=MAX_SEQUENCE_LENGTH\n",
    "    )\n",
    "\n",
    "    outputs = model(\n",
    "        input_ids=encoded_sequences['input_ids'].to(device),\n",
    "        attention_mask=encoded_sequences['attention_mask'].to(device),\n",
    "        token_type_ids=encoded_sequences['token_type_ids'].to(device)\n",
    "    )\n",
    "    probs = F.softmax(outputs.logits, dim=1)\n",
    "\n",
    "    # Class 0 notes if sent B follows sent A\n",
    "    similarity_score = probs[0][0]\n",
    "    return similarity_score.detach().item()"
   ]
  },
  {
   "cell_type": "code",
   "execution_count": 13,
   "metadata": {},
   "outputs": [],
   "source": [
    "def evaluate_user(user_reviews_pair, books):\n",
    "    user_id = user_reviews_pair[0]\n",
    "    reviews = user_reviews_pair[1]\n",
    "\n",
    "    # We want to estimate the rating of the first rated book\n",
    "    # hence we get it and remove it from the rest of the reviews\n",
    "    review_to_estimate = reviews[0]\n",
    "    reviews = reviews[1:]\n",
    "    similarities = []\n",
    "    for review in reviews:\n",
    "        similarity = calculate_books_similarity(review_to_estimate['book_id'], review['book_id'], books)\n",
    "        similarities.append((similarity, review['rating']))\n",
    "    similarities.sort(key=lambda pair: pair[0], reverse=True)\n",
    "    similarities = similarities[:K_MOST_SIMILAR_TO_CONSIDER]\n",
    "    \n",
    "    sims_torch = torch.tensor([sim for sim, _ in similarities], dtype=torch.float)\n",
    "    ratings_torch = torch.tensor([real_rating for _, real_rating in similarities], dtype=torch.float)\n",
    "    estimated_rating = torch.dot(sims_torch, ratings_torch) / torch.sum(sims_torch)\n",
    "\n",
    "    print(f'Similarities and real ratings: {similarities}')\n",
    "    print(f'Real rating: {review_to_estimate[\"rating\"]}')\n",
    "    print(f'Estimated rating: {estimated_rating}\\n')\n",
    "\n",
    "    return abs(review_to_estimate['rating'] - estimated_rating)"
   ]
  },
  {
   "cell_type": "code",
   "execution_count": 14,
   "metadata": {
    "tags": [
     "outputPrepend"
    ]
   },
   "outputs": [
    {
     "data": {
      "application/vnd.jupyter.widget-view+json": {
       "model_id": "8fb563836c7f4fbcb4e31a5a014298a7",
       "version_major": 2,
       "version_minor": 0
      },
      "text/plain": [
       "  0%|          | 0/100 [00:00<?, ?it/s]"
      ]
     },
     "metadata": {},
     "output_type": "display_data"
    },
    {
     "name": "stdout",
     "output_type": "stream",
     "text": [
      "Similarities and real ratings: [(0.9999223947525024, 4), (0.9999150037765503, 5), (0.9999055862426758, 5), (0.999904990196228, 4), (0.9999024868011475, 4), (0.9998922348022461, 4), (0.9998916387557983, 3), (0.999889612197876, 5), (0.9998887777328491, 4), (0.9998857975006104, 5)]\n",
      "Real rating: 3\n",
      "Estimated rating: 4.3000006675720215\n",
      "\n",
      "Similarities and real ratings: [(0.9999351501464844, 3), (0.9999350309371948, 4), (0.9999346733093262, 4), (0.9999301433563232, 5), (0.9999288320541382, 5), (0.9999279975891113, 4), (0.9999253749847412, 5), (0.9999208450317383, 2), (0.9999198913574219, 5), (0.9999198913574219, 5)]\n",
      "Real rating: 5\n",
      "Estimated rating: 4.1999993324279785\n",
      "\n",
      "Similarities and real ratings: [(0.999936580657959, 4), (0.9999362230300903, 4), (0.9999357461929321, 5), (0.9999352693557739, 2), (0.9999344348907471, 4), (0.9999339580535889, 5), (0.9999333620071411, 3), (0.999933123588562, 5), (0.9999330043792725, 5), (0.9999328851699829, 5)]\n",
      "Real rating: 4\n",
      "Estimated rating: 4.199999809265137\n",
      "\n",
      "Similarities and real ratings: [(0.9999403953552246, 1), (0.9999332427978516, 4), (0.9999326467514038, 3), (0.9999316930770874, 1), (0.9999314546585083, 3), (0.9999285936355591, 4), (0.9999275207519531, 3), (0.9999256134033203, 1), (0.9999239444732666, 0), (0.999923586845398, 4)]\n",
      "Real rating: 4\n",
      "Estimated rating: 2.3999998569488525\n",
      "\n",
      "Similarities and real ratings: [(0.999934196472168, 4), (0.9999338388442993, 3), (0.9999334812164307, 1), (0.9999313354492188, 1), (0.9999294281005859, 2), (0.9999279975891113, 3), (0.9999226331710815, 2), (0.9999215602874756, 5), (0.9999208450317383, 4), (0.9999184608459473, 5)]\n",
      "Real rating: 2\n",
      "Estimated rating: 2.999995708465576\n",
      "\n",
      "Similarities and real ratings: [(0.9999301433563232, 4), (0.9999271631240845, 2), (0.9999270439147949, 3), (0.999925971031189, 3), (0.9999254941940308, 3), (0.9999253749847412, 5), (0.9999252557754517, 4), (0.9999251365661621, 2), (0.999924898147583, 3), (0.9999247789382935, 3)]\n",
      "Real rating: 4\n",
      "Estimated rating: 3.200000047683716\n",
      "\n",
      "Similarities and real ratings: [(0.9999338388442993, 4), (0.9999337196350098, 4), (0.9999334812164307, 3), (0.9999315738677979, 4), (0.9999305009841919, 4), (0.9999293088912964, 5), (0.9999289512634277, 5), (0.9999262094497681, 4), (0.9999257326126099, 5), (0.999923586845398, 5)]\n",
      "Real rating: 5\n",
      "Estimated rating: 4.299998760223389\n",
      "\n",
      "Similarities and real ratings: [(0.999900221824646, 3), (0.999889612197876, 4), (0.9998857975006104, 4), (0.9998656511306763, 4), (0.9998629093170166, 3), (0.9998552799224854, 5), (0.9998420476913452, 4), (0.9995642304420471, 4), (0.9993383288383484, 3), (0.9992885589599609, 3)]\n",
      "Real rating: 4\n",
      "Estimated rating: 3.7000656127929688\n",
      "\n",
      "Similarities and real ratings: [(0.9999179840087891, 3), (0.9999121427536011, 2), (0.9999001026153564, 3), (0.999897837638855, 3), (0.9998530149459839, 4), (0.9998511075973511, 4), (0.9998416900634766, 4), (0.9998345375061035, 5), (0.9998185038566589, 3), (0.9997518658638, 5)]\n",
      "Real rating: 4\n",
      "Estimated rating: 3.5999655723571777\n",
      "\n",
      "Similarities and real ratings: [(0.9999358654022217, 4), (0.9999353885650635, 5), (0.9999351501464844, 5), (0.9999349117279053, 5), (0.9999347925186157, 5), (0.9999326467514038, 4), (0.9999321699142456, 5), (0.999932050704956, 5), (0.999932050704956, 5), (0.9999315738677979, 5)]\n",
      "Real rating: 5\n",
      "Estimated rating: 4.799999713897705\n",
      "\n",
      "Similarities and real ratings: [(0.999922513961792, 3), (0.9999220371246338, 3), (0.9999198913574219, 4), (0.9999186992645264, 0), (0.9999122619628906, 4), (0.9999088048934937, 3), (0.9999078512191772, 4), (0.999907374382019, 4), (0.9999064207077026, 4), (0.9999048709869385, 4)]\n",
      "Real rating: 3\n",
      "Estimated rating: 3.2999961376190186\n",
      "\n",
      "Similarities and real ratings: [(0.9999291896820068, 3), (0.9999290704727173, 3), (0.9999282360076904, 5), (0.9999281167984009, 4), (0.9999278783798218, 3), (0.9999265670776367, 4), (0.999925971031189, 4), (0.9999253749847412, 4), (0.999924898147583, 5), (0.9999243021011353, 4)]\n",
      "Real rating: 5\n",
      "Estimated rating: 3.8999996185302734\n",
      "\n",
      "Similarities and real ratings: [(0.9999402761459351, 4), (0.9999363422393799, 5), (0.9999351501464844, 4), (0.9999347925186157, 5), (0.9999326467514038, 5), (0.9999308586120605, 0), (0.9999302625656128, 4), (0.9999302625656128, 5), (0.9999300241470337, 5), (0.9999297857284546, 5)]\n",
      "Real rating: 5\n",
      "Estimated rating: 4.200000286102295\n",
      "\n",
      "Similarities and real ratings: [(0.9999382495880127, 4), (0.9999346733093262, 4), (0.9999345541000366, 3), (0.999933123588562, 2), (0.9999325275421143, 4), (0.9999316930770874, 4), (0.9999301433563232, 2), (0.999929666519165, 2), (0.9999295473098755, 4), (0.9999285936355591, 4)]\n",
      "Real rating: 4\n",
      "Estimated rating: 3.3000006675720215\n",
      "\n",
      "Similarities and real ratings: [(0.9999397993087769, 3), (0.9999387264251709, 4), (0.9999369382858276, 4), (0.9999357461929321, 5), (0.9999352693557739, 4), (0.999934196472168, 3), (0.9999340772628784, 4), (0.9999337196350098, 4), (0.999932050704956, 4), (0.9999297857284546, 4)]\n",
      "Real rating: 2\n",
      "Estimated rating: 3.9000000953674316\n",
      "\n",
      "Similarities and real ratings: [(0.9999309778213501, 5), (0.9999146461486816, 5), (0.9999114274978638, 4), (0.9999041557312012, 5), (0.9998993873596191, 4), (0.99989914894104, 4), (0.9998958110809326, 5), (0.9998927116394043, 4), (0.9998921155929565, 4), (0.9998760223388672, 3)]\n",
      "Real rating: 4\n",
      "Estimated rating: 4.300006866455078\n",
      "\n",
      "Similarities and real ratings: [(0.999935507774353, 5), (0.9999352693557739, 5), (0.9999337196350098, 4), (0.9999322891235352, 4), (0.999932050704956, 4), (0.999931812286377, 5), (0.9999310970306396, 4), (0.9999285936355591, 5), (0.9999284744262695, 5), (0.9999241828918457, 5)]\n",
      "Real rating: 4\n",
      "Estimated rating: 4.599999904632568\n",
      "\n",
      "Similarities and real ratings: [(0.999942421913147, 5), (0.9999419450759888, 5), (0.9999419450759888, 3), (0.9999417066574097, 4), (0.9999409914016724, 5), (0.9999408721923828, 4), (0.999940037727356, 5), (0.999940037727356, 5), (0.9999395608901978, 5), (0.9999393224716187, 4)]\n",
      "Real rating: 3\n",
      "Estimated rating: 4.5\n",
      "\n",
      "Similarities and real ratings: [(0.9999277591705322, 4), (0.9999228715896606, 3), (0.9999223947525024, 4), (0.9999176263809204, 5), (0.9999154806137085, 3), (0.9999117851257324, 4), (0.9999117851257324, 3), (0.9999078512191772, 5), (0.9999067783355713, 3), (0.9999034404754639, 4)]\n",
      "Real rating: 3\n",
      "Estimated rating: 3.799999713897705\n",
      "\n",
      "Similarities and real ratings: [(0.9999257326126099, 5), (0.9999231100082397, 5), (0.9999150037765503, 4), (0.9999146461486816, 4), (0.999906063079834, 5), (0.9999053478240967, 5), (0.9999052286148071, 5), (0.9999046325683594, 4), (0.9999032020568848, 5), (0.9999028444290161, 5)]\n",
      "Real rating: 5\n",
      "Estimated rating: 4.699999809265137\n",
      "\n",
      "Similarities and real ratings: [(0.9999127388000488, 5), (0.9999115467071533, 5), (0.9999105930328369, 3), (0.9998829364776611, 5), (0.9998321533203125, 3), (0.9996011853218079, 5), (0.9995612502098083, 4), (0.9981260895729065, 3), (0.9975632429122925, 3), (0.9954380393028259, 5)]\n",
      "Real rating: 3\n",
      "Estimated rating: 4.100034236907959\n",
      "\n",
      "Similarities and real ratings: [(0.9999420642852783, 5), (0.9999419450759888, 5), (0.9999402761459351, 5), (0.9999402761459351, 4), (0.999940037727356, 5), (0.999940037727356, 5), (0.9999395608901978, 4), (0.9999390840530396, 5), (0.9999387264251709, 5), (0.9999386072158813, 5)]\n",
      "Real rating: 4\n",
      "Estimated rating: 4.800000190734863\n",
      "\n",
      "Similarities and real ratings: [(0.9999394416809082, 1), (0.9999393224716187, 2), (0.9999384880065918, 4), (0.9999366998672485, 4), (0.9999357461929321, 4), (0.9999352693557739, 3), (0.9999326467514038, 4), (0.9999321699142456, 4), (0.9999313354492188, 2), (0.9999313354492188, 4)]\n",
      "Real rating: 1\n",
      "Estimated rating: 3.1999988555908203\n",
      "\n",
      "Similarities and real ratings: [(0.9998891353607178, 4), (0.9998051524162292, 4), (0.9997325539588928, 4), (0.999714195728302, 3), (0.9997064471244812, 4), (0.9996806383132935, 4), (0.9996527433395386, 4), (0.9996377229690552, 4), (0.9995954632759094, 4), (0.999582827091217, 4)]\n",
      "Real rating: 4\n",
      "Estimated rating: 3.899998664855957\n",
      "\n",
      "Similarities and real ratings: [(0.9999364614486694, 4), (0.9999357461929321, 5), (0.9999352693557739, 3), (0.9999351501464844, 5), (0.9999350309371948, 4), (0.9999343156814575, 4), (0.9999338388442993, 4), (0.9999336004257202, 4), (0.9999332427978516, 3), (0.999933123588562, 4)]\n",
      "Real rating: 3\n",
      "Estimated rating: 4.0\n",
      "\n"
     ]
    },
    {
     "name": "stdout",
     "output_type": "stream",
     "text": [
      "Similarities and real ratings: [(0.9999340772628784, 5), (0.9999333620071411, 5), (0.999932050704956, 5), (0.999931812286377, 5), (0.9999303817749023, 1), (0.9999303817749023, 5), (0.9999301433563232, 4), (0.9999301433563232, 3), (0.9999299049377441, 4), (0.9999289512634277, 2)]\n",
      "Real rating: 3\n",
      "Estimated rating: 3.9000015258789062\n",
      "\n",
      "Similarities and real ratings: [(0.9999328851699829, 4), (0.9999324083328247, 4), (0.9999319314956665, 4), (0.999931812286377, 4), (0.9999284744262695, 3), (0.9999278783798218, 4), (0.9999268054962158, 4), (0.9999256134033203, 3), (0.9999252557754517, 4), (0.9999231100082397, 4)]\n",
      "Real rating: 3\n",
      "Estimated rating: 3.8000006675720215\n",
      "\n",
      "Similarities and real ratings: [(0.9998149275779724, 4), (0.999718964099884, 3), (0.9987132549285889, 4), (0.9966124892234802, 5), (0.9642419815063477, 4), (0.08868501335382462, 5), (0.023146022111177444, 4), (0.013803047128021717, 4), (0.00932248029857874, 3), (0.009224471636116505, 2)]\n",
      "Real rating: 5\n",
      "Estimated rating: 4.011327266693115\n",
      "\n",
      "Similarities and real ratings: [(0.9999432563781738, 3), (0.9999427795410156, 0), (0.9999415874481201, 3), (0.9999390840530396, 3), (0.9999387264251709, 0), (0.9999374151229858, 5), (0.9999366998672485, 3), (0.9999364614486694, 3), (0.9999321699142456, 4), (0.999931812286377, 5)]\n",
      "Real rating: 3\n",
      "Estimated rating: 2.899996519088745\n",
      "\n",
      "Similarities and real ratings: [(0.9999368190765381, 4), (0.9999316930770874, 4), (0.9999306201934814, 4), (0.9999284744262695, 2), (0.9999264478683472, 4), (0.9999219179153442, 3), (0.999921441078186, 4), (0.9999023675918579, 4), (0.9999018907546997, 5), (0.9998821020126343, 4)]\n",
      "Real rating: 4\n",
      "Estimated rating: 3.7999954223632812\n",
      "\n",
      "Similarities and real ratings: [(0.9999337196350098, 4), (0.9999303817749023, 4), (0.9999138116836548, 0), (0.9998962879180908, 4), (0.9998947381973267, 4), (0.9998937845230103, 5), (0.999881386756897, 0), (0.9998794794082642, 4), (0.9998694658279419, 5), (0.9998687505722046, 0)]\n",
      "Real rating: 3\n",
      "Estimated rating: 3.000006914138794\n",
      "\n",
      "Similarities and real ratings: [(0.9999306201934814, 4), (0.9999266862869263, 5), (0.9999257326126099, 4), (0.9999233484268188, 4), (0.9999206066131592, 3), (0.9999169111251831, 5), (0.9999144077301025, 5), (0.9999099969863892, 4), (0.9999092817306519, 4), (0.9999085664749146, 5)]\n",
      "Real rating: 5\n",
      "Estimated rating: 4.299998760223389\n",
      "\n",
      "Similarities and real ratings: [(0.9999321699142456, 3), (0.9999303817749023, 2), (0.9999294281005859, 4), (0.9999291896820068, 3), (0.9999277591705322, 4), (0.9999274015426636, 3), (0.9999257326126099, 3), (0.9999256134033203, 3), (0.9999256134033203, 5), (0.9999253749847412, 4)]\n",
      "Real rating: 3\n",
      "Estimated rating: 3.3999993801116943\n",
      "\n",
      "Similarities and real ratings: [(0.9999428987503052, 3), (0.9999411106109619, 4), (0.9999394416809082, 2), (0.9999383687973022, 4), (0.9999375343322754, 3), (0.9999344348907471, 3), (0.9999291896820068, 3), (0.9999284744262695, 4), (0.9999278783798218, 4), (0.9999263286590576, 3)]\n",
      "Real rating: 5\n",
      "Estimated rating: 3.299999237060547\n",
      "\n",
      "Similarities and real ratings: [(0.9999325275421143, 4), (0.9999312162399292, 4), (0.9999290704727173, 5), (0.9999274015426636, 4), (0.9999258518218994, 3), (0.9999244213104248, 4), (0.999923825263977, 3), (0.9999233484268188, 4), (0.9999182224273682, 4), (0.9999130964279175, 2)]\n",
      "Real rating: 3\n",
      "Estimated rating: 3.7000021934509277\n",
      "\n",
      "Similarities and real ratings: [(0.9999393224716187, 3), (0.9999361038208008, 4), (0.9999361038208008, 3), (0.9999359846115112, 3), (0.9999353885650635, 4), (0.9999332427978516, 4), (0.999933123588562, 3), (0.9999314546585083, 2), (0.9999312162399292, 3), (0.9999252557754517, 3)]\n",
      "Real rating: 5\n",
      "Estimated rating: 3.200000762939453\n",
      "\n",
      "Similarities and real ratings: [(0.9999345541000366, 4), (0.9999343156814575, 3), (0.9999328851699829, 5), (0.9999271631240845, 4), (0.999925971031189, 5), (0.999925971031189, 3), (0.9999257326126099, 4), (0.9999251365661621, 5), (0.9999241828918457, 4), (0.9999217987060547, 4)]\n",
      "Real rating: 4\n",
      "Estimated rating: 4.09999942779541\n",
      "\n",
      "Similarities and real ratings: [(0.9999353885650635, 4), (0.9999334812164307, 3), (0.9999332427978516, 2), (0.9999330043792725, 3), (0.9999312162399292, 5), (0.9999305009841919, 4), (0.9999276399612427, 4), (0.9999251365661621, 3), (0.9999216794967651, 3), (0.9999209642410278, 4)]\n",
      "Real rating: 4\n",
      "Estimated rating: 3.499999761581421\n",
      "\n",
      "Similarities and real ratings: [(0.9999303817749023, 5), (0.9998912811279297, 4), (0.9998873472213745, 4), (0.9998871088027954, 5), (0.9998762607574463, 3), (0.9998613595962524, 2), (0.9998563528060913, 2), (0.9998527765274048, 2), (0.9998515844345093, 2), (0.9998514652252197, 4)]\n",
      "Real rating: 3\n",
      "Estimated rating: 3.3000216484069824\n",
      "\n",
      "Similarities and real ratings: [(0.999935507774353, 4), (0.9999289512634277, 5), (0.9999269247055054, 5), (0.9999268054962158, 5), (0.9999139308929443, 4), (0.9999123811721802, 0), (0.9999037981033325, 4), (0.9998972415924072, 3), (0.9998871088027954, 5), (0.9998804330825806, 0)]\n",
      "Real rating: 4\n",
      "Estimated rating: 3.5000159740448\n",
      "\n",
      "Similarities and real ratings: [(0.9999377727508545, 4), (0.999930739402771, 4), (0.9999282360076904, 4), (0.999921441078186, 3), (0.9999194145202637, 4), (0.9999173879623413, 4), (0.999915361404419, 3), (0.9999111890792847, 4), (0.999909520149231, 5), (0.9999078512191772, 4)]\n",
      "Real rating: 4\n",
      "Estimated rating: 3.8999991416931152\n",
      "\n",
      "Similarities and real ratings: [(0.9999386072158813, 4), (0.9999340772628784, 5), (0.9999339580535889, 5), (0.9999233484268188, 5), (0.9999226331710815, 5), (0.9999202489852905, 5), (0.9999173879623413, 5), (0.9999172687530518, 5), (0.999915361404419, 5), (0.9999128580093384, 5)]\n",
      "Real rating: 0\n",
      "Estimated rating: 4.899998664855957\n",
      "\n",
      "Similarities and real ratings: [(0.9999397993087769, 1), (0.9999319314956665, 2), (0.9999213218688965, 5), (0.9999196529388428, 2), (0.9999196529388428, 5), (0.9999182224273682, 5), (0.9999150037765503, 1), (0.9999146461486816, 2), (0.9999092817306519, 1), (0.9999043941497803, 5)]\n",
      "Real rating: 5\n",
      "Estimated rating: 2.8999955654144287\n",
      "\n",
      "Similarities and real ratings: [(0.9999340772628784, 5), (0.9999243021011353, 5), (0.9999219179153442, 5), (0.9999197721481323, 5), (0.9999117851257324, 5), (0.9999115467071533, 5), (0.9999101161956787, 5), (0.9999097585678101, 5), (0.9999068975448608, 5), (0.9999052286148071, 5)]\n",
      "Real rating: 5\n",
      "Estimated rating: 5.0\n",
      "\n",
      "Similarities and real ratings: [(0.9999358654022217, 5), (0.9999349117279053, 5), (0.9999347925186157, 5), (0.9999339580535889, 5), (0.9999333620071411, 5), (0.9999333620071411, 4), (0.9999332427978516, 5), (0.9999327659606934, 4), (0.999932050704956, 4), (0.999931812286377, 5)]\n",
      "Real rating: 4\n",
      "Estimated rating: 4.700000286102295\n",
      "\n",
      "Similarities and real ratings: [(0.9999332427978516, 4), (0.9999277591705322, 4), (0.9999271631240845, 4), (0.9999251365661621, 4), (0.9999151229858398, 3), (0.9999134540557861, 2), (0.999913215637207, 5), (0.9998906850814819, 4), (0.9998849630355835, 3), (0.9998807907104492, 3)]\n",
      "Real rating: 2\n",
      "Estimated rating: 3.6000051498413086\n",
      "\n",
      "Similarities and real ratings: [(0.9999266862869263, 3), (0.9999251365661621, 4), (0.9999212026596069, 5), (0.9999051094055176, 4), (0.9999032020568848, 5), (0.9998824596405029, 3), (0.9998756647109985, 3), (0.999874472618103, 5), (0.9998488426208496, 5), (0.9998481273651123, 5)]\n",
      "Real rating: 4\n",
      "Estimated rating: 4.199992656707764\n",
      "\n",
      "Similarities and real ratings: [(0.9999352693557739, 4), (0.9999345541000366, 4), (0.9999309778213501, 4), (0.9999228715896606, 4), (0.9999222755432129, 4), (0.9999217987060547, 0), (0.9999200105667114, 4), (0.9999186992645264, 4), (0.9999184608459473, 4), (0.9999178647994995, 4)]\n",
      "Real rating: 3\n",
      "Estimated rating: 3.600001096725464\n",
      "\n",
      "Similarities and real ratings: [(0.9999450445175171, 5), (0.9999445676803589, 3), (0.999943733215332, 2), (0.9999425411224365, 2), (0.9999397993087769, 4), (0.9999396800994873, 5), (0.9999370574951172, 0), (0.999934196472168, 2), (0.9999337196350098, 4), (0.9999327659606934, 4)]\n",
      "Real rating: 4\n",
      "Estimated rating: 3.1000006198883057\n",
      "\n",
      "Similarities and real ratings: [(0.9999275207519531, 4), (0.9999264478683472, 5), (0.9999200105667114, 3), (0.9997630715370178, 4), (0.9997072815895081, 5), (0.9996720552444458, 4), (0.9995812773704529, 4), (0.9993415474891663, 4), (0.9990435242652893, 5), (0.998913049697876, 4)]\n",
      "Real rating: 3\n",
      "Estimated rating: 4.199960231781006\n",
      "\n"
     ]
    },
    {
     "name": "stdout",
     "output_type": "stream",
     "text": [
      "Similarities and real ratings: [(0.9999181032180786, 3), (0.9998934268951416, 0), (0.9998698234558105, 3), (0.9998693466186523, 3), (0.9998679161071777, 2), (0.9998606443405151, 3), (0.9998587369918823, 2), (0.9998550415039062, 4), (0.9998418092727661, 4), (0.9998334646224976, 3)]\n",
      "Real rating: 4\n",
      "Estimated rating: 2.6999893188476562\n",
      "\n",
      "Similarities and real ratings: [(0.999935507774353, 4), (0.9999338388442993, 5), (0.9999295473098755, 2), (0.9999207258224487, 5), (0.9999203681945801, 5), (0.9999133348464966, 4), (0.9999102354049683, 4), (0.9998990297317505, 5), (0.9998900890350342, 2), (0.9998778104782104, 3)]\n",
      "Real rating: 5\n",
      "Estimated rating: 3.9000072479248047\n",
      "\n",
      "Similarities and real ratings: [(0.999936580657959, 5), (0.9999361038208008, 5), (0.999935507774353, 5), (0.9999349117279053, 5), (0.9999321699142456, 5), (0.9999308586120605, 4), (0.9999270439147949, 5), (0.9999262094497681, 5), (0.9999233484268188, 5), (0.9999229907989502, 5)]\n",
      "Real rating: 5\n",
      "Estimated rating: 4.899999618530273\n",
      "\n",
      "Similarities and real ratings: [(0.9995094537734985, 5), (0.17959323525428772, 3), (0.0023139922413975, 4), (0.0021586110815405846, 2), (0.0011547639733180404, 3), (0.0002849653537850827, 3), (0.00023886603594291955, 4), (0.00022301859280560166, 4), (0.00020305239013396204, 3), (0.00014692990225739777, 2)]\n",
      "Real rating: 4\n",
      "Estimated rating: 4.686155796051025\n",
      "\n",
      "Similarities and real ratings: [(0.9999369382858276, 4), (0.9999344348907471, 0), (0.9999326467514038, 0), (0.9999274015426636, 0), (0.9999265670776367, 0), (0.9999239444732666, 0), (0.9999209642410278, 0), (0.9999197721481323, 0), (0.999919056892395, 0), (0.9999178647994995, 0)]\n",
      "Real rating: 0\n",
      "Estimated rating: 0.40000438690185547\n",
      "\n",
      "Similarities and real ratings: [(0.9999387264251709, 3), (0.9999382495880127, 4), (0.999935507774353, 5), (0.999934196472168, 5), (0.9999337196350098, 5), (0.9999308586120605, 3), (0.9999308586120605, 5), (0.999930739402771, 5), (0.9999303817749023, 4), (0.9999288320541382, 4)]\n",
      "Real rating: 5\n",
      "Estimated rating: 4.299999713897705\n",
      "\n",
      "Similarities and real ratings: [(0.9999263286590576, 4), (0.9999065399169922, 3), (0.999901533126831, 3), (0.999887228012085, 4), (0.9998842477798462, 3), (0.999883770942688, 4), (0.9998810291290283, 4), (0.9998809099197388, 4), (0.9998804330825806, 3), (0.9998779296875, 3)]\n",
      "Real rating: 3\n",
      "Estimated rating: 3.5\n",
      "\n",
      "Similarities and real ratings: [(0.9999336004257202, 4), (0.999932050704956, 4), (0.9999300241470337, 3), (0.9999290704727173, 3), (0.9999268054962158, 4), (0.9999265670776367, 4), (0.9999234676361084, 3), (0.9999170303344727, 3), (0.9999110698699951, 4), (0.9999032020568848, 4)]\n",
      "Real rating: 3\n",
      "Estimated rating: 3.59999942779541\n",
      "\n",
      "Similarities and real ratings: [(0.9999369382858276, 4), (0.9999362230300903, 3), (0.9999351501464844, 5), (0.9999346733093262, 4), (0.9999337196350098, 5), (0.9999330043792725, 4), (0.9999266862869263, 4), (0.9999254941940308, 4), (0.9999243021011353, 4), (0.9999228715896606, 5)]\n",
      "Real rating: 4\n",
      "Estimated rating: 4.199999809265137\n",
      "\n",
      "Similarities and real ratings: [(0.9999406337738037, 4), (0.9999396800994873, 4), (0.9999381303787231, 4), (0.9999371767044067, 4), (0.9999368190765381, 2), (0.9999333620071411, 4), (0.9999302625656128, 4), (0.9999262094497681, 4), (0.9999256134033203, 0), (0.999923825263977, 4)]\n",
      "Real rating: 4\n",
      "Estimated rating: 3.4000020027160645\n",
      "\n",
      "Similarities and real ratings: [(0.999923825263977, 4), (0.9999206066131592, 4), (0.999916672706604, 5), (0.9999158382415771, 4), (0.9999136924743652, 3), (0.9999061822891235, 5), (0.9999039173126221, 2), (0.9998776912689209, 3), (0.9998205304145813, 4), (0.999783456325531, 4)]\n",
      "Real rating: 4\n",
      "Estimated rating: 3.8000001907348633\n",
      "\n",
      "Similarities and real ratings: [(0.9999011754989624, 3), (0.999077320098877, 4), (0.9990133047103882, 3), (0.9882813096046448, 4), (0.6150857210159302, 4), (0.13168500363826752, 4), (0.08965248614549637, 4), (0.07470837980508804, 5), (0.04510975629091263, 4), (0.0402333065867424, 4)]\n",
      "Real rating: 5\n",
      "Estimated rating: 3.613826274871826\n",
      "\n",
      "Similarities and real ratings: [(0.9999374151229858, 4), (0.9999362230300903, 5), (0.9999344348907471, 5), (0.9999330043792725, 5), (0.9999330043792725, 4), (0.9999305009841919, 3), (0.9999270439147949, 5), (0.9999262094497681, 5), (0.9999208450317383, 4), (0.9999179840087891, 5)]\n",
      "Real rating: 5\n",
      "Estimated rating: 4.499999523162842\n",
      "\n",
      "Similarities and real ratings: [(0.9999374151229858, 3), (0.9999362230300903, 4), (0.9999345541000366, 5), (0.9999343156814575, 3), (0.9999334812164307, 3), (0.9999333620071411, 2), (0.999933123588562, 4), (0.9999315738677979, 4), (0.9999314546585083, 4), (0.9999313354492188, 3)]\n",
      "Real rating: 5\n",
      "Estimated rating: 3.500000476837158\n",
      "\n",
      "Similarities and real ratings: [(0.9999444484710693, 5), (0.9999330043792725, 5), (0.9999245405197144, 5), (0.9999244213104248, 5), (0.9999204874038696, 4), (0.9999040365219116, 5), (0.9998505115509033, 4), (0.9998359680175781, 4), (0.9995631575584412, 4), (0.9994304776191711, 5)]\n",
      "Real rating: 4\n",
      "Estimated rating: 4.60001277923584\n",
      "\n",
      "Similarities and real ratings: [(0.9999227523803711, 4), (0.9998563528060913, 5), (0.9998384714126587, 5), (0.9998090863227844, 4), (0.999775230884552, 5), (0.9997711777687073, 4), (0.9997485280036926, 5), (0.9997207522392273, 4), (0.9996914863586426, 4), (0.9995369911193848, 5)]\n",
      "Real rating: 4\n",
      "Estimated rating: 4.4999918937683105\n",
      "\n",
      "Similarities and real ratings: [(0.9999376535415649, 4), (0.9999275207519531, 4), (0.9999268054962158, 4), (0.9999043941497803, 4), (0.9998916387557983, 4), (0.9998878240585327, 4), (0.999873161315918, 4), (0.9998635053634644, 4), (0.9998401403427124, 4), (0.9997468590736389, 4)]\n",
      "Real rating: 4\n",
      "Estimated rating: 4.0\n",
      "\n",
      "Similarities and real ratings: [(0.9999090433120728, 5), (0.9998875856399536, 5), (0.9998859167098999, 4), (0.9998821020126343, 5), (0.9998792409896851, 5), (0.9998445510864258, 5), (0.9998408555984497, 4), (0.9998358488082886, 3), (0.9997698664665222, 5), (0.9997527003288269, 5)]\n",
      "Real rating: 5\n",
      "Estimated rating: 4.59999942779541\n",
      "\n",
      "Similarities and real ratings: [(0.9999332427978516, 4), (0.9999300241470337, 4), (0.9999165534973145, 4), (0.9999104738235474, 5), (0.9999102354049683, 5), (0.9999074935913086, 3), (0.9999061822891235, 5), (0.9998992681503296, 4), (0.99989914894104, 4), (0.9998403787612915, 4)]\n",
      "Real rating: 5\n",
      "Estimated rating: 4.200001239776611\n",
      "\n",
      "Similarities and real ratings: [(0.9999395608901978, 4), (0.9999350309371948, 4), (0.999932050704956, 4), (0.9999226331710815, 4), (0.9999136924743652, 3), (0.9999037981033325, 4), (0.9999022483825684, 3), (0.9998950958251953, 4), (0.9998617172241211, 3), (0.999861478805542, 4)]\n",
      "Real rating: 4\n",
      "Estimated rating: 3.7000043392181396\n",
      "\n",
      "Similarities and real ratings: [(0.9999325275421143, 4), (0.9998766183853149, 5), (0.4171285927295685, 4), (0.00373783428221941, 3), (0.0015400272095575929, 4), (0.0009508481016382575, 4), (0.0006822176510468125, 0), (0.0006751649198122323, 3), (0.0006416787509806454, 3), (0.00036837131483480334, 2)]\n",
      "Real rating: 5\n",
      "Estimated rating: 4.408716678619385\n",
      "\n",
      "Similarities and real ratings: [(0.9998904466629028, 5), (0.9998877048492432, 4), (0.9998449087142944, 4), (0.9998183846473694, 3), (0.9997913241386414, 4), (0.9997590184211731, 4), (0.9997580647468567, 4), (0.9996985197067261, 3), (0.9996974468231201, 5), (0.9995823502540588, 4)]\n",
      "Real rating: 4\n",
      "Estimated rating: 4.000007152557373\n",
      "\n",
      "Similarities and real ratings: [(0.9999399185180664, 5), (0.9999357461929321, 1), (0.999935507774353, 3), (0.9999332427978516, 3), (0.9999302625656128, 4), (0.999929666519165, 4), (0.999923825263977, 5), (0.9999219179153442, 3), (0.9999189376831055, 4), (0.9999046325683594, 3)]\n",
      "Real rating: 3\n",
      "Estimated rating: 3.5\n",
      "\n",
      "Similarities and real ratings: [(0.9999258518218994, 3), (0.9999198913574219, 3), (0.9999196529388428, 5), (0.9999191761016846, 4), (0.9999189376831055, 0), (0.9999165534973145, 4), (0.9999158382415771, 5), (0.9999151229858398, 5), (0.9999151229858398, 4), (0.9999147653579712, 0)]\n",
      "Real rating: 0\n",
      "Estimated rating: 3.299999952316284\n",
      "\n",
      "Similarities and real ratings: [(0.9999310970306396, 4), (0.9999299049377441, 3), (0.9998807907104492, 4), (0.9998668432235718, 4), (0.9997718930244446, 3), (0.9997497200965881, 4), (0.9996857643127441, 3), (0.9993413090705872, 4), (0.9992691874504089, 3), (0.9991562366485596, 4)]\n",
      "Real rating: 4\n",
      "Estimated rating: 3.5999972820281982\n",
      "\n"
     ]
    },
    {
     "name": "stdout",
     "output_type": "stream",
     "text": [
      "Similarities and real ratings: [(0.99993896484375, 2), (0.9999388456344604, 4), (0.9999326467514038, 4), (0.999927282333374, 3), (0.9999257326126099, 0), (0.9999160766601562, 4), (0.9999148845672607, 4), (0.9999104738235474, 4), (0.9999020099639893, 4), (0.999896764755249, 3)]\n",
      "Real rating: 1\n",
      "Estimated rating: 3.199995756149292\n",
      "\n",
      "Similarities and real ratings: [(0.9999325275421143, 3), (0.9999315738677979, 3), (0.9999302625656128, 5), (0.9999301433563232, 2), (0.9999241828918457, 5), (0.9999220371246338, 4), (0.999919056892395, 5), (0.9999008178710938, 4), (0.999900221824646, 1), (0.9998823404312134, 5)]\n",
      "Real rating: 2\n",
      "Estimated rating: 3.699998378753662\n",
      "\n",
      "Similarities and real ratings: [(0.999752938747406, 5), (0.9988570213317871, 4), (0.9987429976463318, 4), (0.9983898401260376, 4), (0.9975073933601379, 2), (0.9973190426826477, 5), (0.9907773733139038, 4), (0.9890027046203613, 4), (0.9760870337486267, 4), (0.974953830242157, 2)]\n",
      "Real rating: 4\n",
      "Estimated rating: 3.803671360015869\n",
      "\n",
      "Similarities and real ratings: [(0.9999223947525024, 5), (0.9999107122421265, 4), (0.9998986721038818, 3), (0.999890923500061, 5), (0.9998101592063904, 4), (0.9997329115867615, 4), (0.9996559619903564, 3), (0.9996271133422852, 3), (0.9991668462753296, 5), (0.9988260865211487, 5)]\n",
      "Real rating: 4\n",
      "Estimated rating: 4.099897861480713\n",
      "\n",
      "Similarities and real ratings: [(0.9999439716339111, 4), (0.9999387264251709, 4), (0.999936580657959, 5), (0.9999364614486694, 5), (0.9999351501464844, 2), (0.9999326467514038, 5), (0.9999055862426758, 4), (0.9998886585235596, 5), (0.9998761415481567, 4), (0.9998372793197632, 5)]\n",
      "Real rating: 3\n",
      "Estimated rating: 4.299992561340332\n",
      "\n",
      "Similarities and real ratings: [(0.9999351501464844, 4), (0.9999315738677979, 5), (0.9999266862869263, 5), (0.9999263286590576, 5), (0.999923586845398, 0), (0.9999157190322876, 4), (0.9999136924743652, 4), (0.999913215637207, 5), (0.9999125003814697, 2), (0.9999006986618042, 0)]\n",
      "Real rating: 4\n",
      "Estimated rating: 3.4000096321105957\n",
      "\n",
      "Similarities and real ratings: [(0.9997281432151794, 4), (0.9993892908096313, 4), (0.9992951154708862, 4), (0.999263346195221, 5), (0.9991238713264465, 4), (0.9983422756195068, 5), (0.9981689453125, 4), (0.9978797435760498, 5), (0.9977178573608398, 4), (0.9952024221420288, 4)]\n",
      "Real rating: 5\n",
      "Estimated rating: 4.30002498626709\n",
      "\n",
      "Similarities and real ratings: [(0.9999313354492188, 3), (0.9999171495437622, 4), (0.9999127388000488, 5), (0.9996196031570435, 4), (0.9994412064552307, 3), (0.999213457107544, 3), (0.9989169836044312, 3), (0.9989138841629028, 4), (0.9988002777099609, 4), (0.9987389445304871, 4)]\n",
      "Real rating: 4\n",
      "Estimated rating: 3.700043201446533\n",
      "\n",
      "Similarities and real ratings: [(0.9998975992202759, 5), (0.999729573726654, 4), (0.9990977048873901, 3), (0.9985244870185852, 3), (0.9972320199012756, 4), (0.9967201352119446, 4), (0.9951518774032593, 4), (0.994602620601654, 4), (0.9943374991416931, 4), (0.9937223792076111, 3)]\n",
      "Real rating: 4\n",
      "Estimated rating: 3.800236225128174\n",
      "\n",
      "Similarities and real ratings: [(0.9999353885650635, 4), (0.9999089241027832, 5), (0.9998179078102112, 3), (0.9997746348381042, 5), (0.9996565580368042, 4), (0.9996169805526733, 5), (0.9995521903038025, 4), (0.9995149374008179, 4), (0.9994320273399353, 3), (0.9991666078567505, 4)]\n",
      "Real rating: 1\n",
      "Estimated rating: 4.100041389465332\n",
      "\n",
      "Similarities and real ratings: [(0.9999401569366455, 0), (0.9999371767044067, 4), (0.9999358654022217, 3), (0.999932050704956, 5), (0.9999315738677979, 3), (0.9999251365661621, 5), (0.9998675584793091, 3), (0.9998262524604797, 3), (0.9998090863227844, 4), (0.9997156262397766, 4)]\n",
      "Real rating: 3\n",
      "Estimated rating: 3.3999826908111572\n",
      "\n",
      "Similarities and real ratings: [(0.9999231100082397, 5), (0.999887228012085, 4), (0.9998854398727417, 4), (0.9998212456703186, 3), (0.999804675579071, 3), (0.9997376799583435, 3), (0.9990645051002502, 2), (0.9984714388847351, 3), (0.9977352619171143, 2), (0.9966011047363281, 1)]\n",
      "Real rating: 3\n",
      "Estimated rating: 3.000962734222412\n",
      "\n",
      "Similarities and real ratings: [(0.9999412298202515, 4), (0.9999386072158813, 3), (0.9999347925186157, 3), (0.9999334812164307, 4), (0.9999326467514038, 4), (0.9999308586120605, 4), (0.9999295473098755, 4), (0.9999260902404785, 4), (0.9999254941940308, 4), (0.9999252557754517, 4)]\n",
      "Real rating: 4\n",
      "Estimated rating: 3.799999237060547\n",
      "\n",
      "Similarities and real ratings: [(0.9999265670776367, 2), (0.9999223947525024, 5), (0.9998875856399536, 5), (0.999881386756897, 4), (0.999864935874939, 3), (0.9998618364334106, 3), (0.9998598098754883, 3), (0.9997852444648743, 3), (0.9997692704200745, 3), (0.999763548374176, 5)]\n",
      "Real rating: 3\n",
      "Estimated rating: 3.599998950958252\n",
      "\n",
      "Similarities and real ratings: [(0.9999439716339111, 5), (0.9999426603317261, 5), (0.999940037727356, 3), (0.9999390840530396, 0), (0.9999368190765381, 5), (0.9999344348907471, 4), (0.9999300241470337, 0), (0.9999277591705322, 5), (0.9999229907989502, 3), (0.9999185800552368, 5)]\n",
      "Real rating: 2\n",
      "Estimated rating: 3.5\n",
      "\n",
      "Similarities and real ratings: [(0.9999340772628784, 5), (0.9999338388442993, 3), (0.9999291896820068, 3), (0.9999278783798218, 3), (0.9999265670776367, 1), (0.9999139308929443, 4), (0.9999090433120728, 5), (0.9998973608016968, 0), (0.9998729228973389, 4), (0.9997691512107849, 5)]\n",
      "Real rating: 3\n",
      "Estimated rating: 3.299975872039795\n",
      "\n",
      "Similarities and real ratings: [(0.9999338388442993, 3), (0.9999319314956665, 3), (0.9999310970306396, 3), (0.9999291896820068, 5), (0.9999285936355591, 3), (0.9999284744262695, 3), (0.99992835521698, 4), (0.9999279975891113, 3), (0.999927282333374, 4), (0.9999269247055054, 4)]\n",
      "Real rating: 3\n",
      "Estimated rating: 3.4999990463256836\n",
      "\n",
      "Similarities and real ratings: [(0.9998915195465088, 4), (0.9996987581253052, 4), (0.9993851184844971, 4), (0.9978755712509155, 5), (0.9976605176925659, 4), (0.9976280331611633, 3), (0.9973430037498474, 4), (0.9967408776283264, 4), (0.9954549074172974, 3), (0.9944671392440796, 5)]\n",
      "Real rating: 4\n",
      "Estimated rating: 3.999925374984741\n",
      "\n",
      "Similarities and real ratings: [(0.9998143315315247, 2), (0.9988200068473816, 3), (0.9987088441848755, 3), (0.9981626868247986, 4), (0.9980539083480835, 2), (0.9975175857543945, 3), (0.9961112141609192, 3), (0.9957738518714905, 3), (0.9951533079147339, 3), (0.9931477904319763, 3)]\n",
      "Real rating: 2\n",
      "Estimated rating: 2.8997411727905273\n",
      "\n",
      "Similarities and real ratings: [(0.9999215602874756, 3), (0.9999202489852905, 4), (0.999920129776001, 5), (0.999920129776001, 5), (0.999920129776001, 5), (0.999920129776001, 5), (0.9999171495437622, 3), (0.9999146461486816, 3), (0.9999104738235474, 5), (0.9999083280563354, 4)]\n",
      "Real rating: 5\n",
      "Estimated rating: 4.200000762939453\n",
      "\n",
      "Similarities and real ratings: [(0.9998406171798706, 5), (0.9997679591178894, 5), (0.9996060729026794, 4), (0.9986407160758972, 0), (0.998461127281189, 5), (0.9984288811683655, 0), (0.9980693459510803, 0), (0.9979642629623413, 5), (0.9978933930397034, 5), (0.997584342956543, 0)]\n",
      "Real rating: 0\n",
      "Estimated rating: 2.9007930755615234\n",
      "\n",
      "Similarities and real ratings: [(0.9999399185180664, 3), (0.999936580657959, 4), (0.9999325275421143, 2), (0.9999308586120605, 4), (0.9999279975891113, 4), (0.9999231100082397, 5), (0.9999179840087891, 3), (0.9999034404754639, 5), (0.9998823404312134, 5), (0.9994438290596008, 1)]\n",
      "Real rating: 3\n",
      "Estimated rating: 3.6001150608062744\n",
      "\n",
      "Similarities and real ratings: [(0.9999390840530396, 4), (0.9999344348907471, 3), (0.9804145097732544, 4), (0.002561969216912985, 5), (0.0011066050501540303, 4), (0.00038011418655514717, 3), (0.00020679301815107465, 4), (0.00015965625061653554, 4), (0.00014025230484548956, 3), (8.32894365885295e-05, 3)]\n",
      "Real rating: 3\n",
      "Estimated rating: 3.665661334991455\n",
      "\n",
      "Similarities and real ratings: [(0.9999390840530396, 5), (0.9999319314956665, 5), (0.9996309280395508, 4), (0.9991301894187927, 3), (0.9967457056045532, 4), (0.9855089783668518, 3), (0.004883159883320332, 4), (0.0016299874987453222, 3), (0.0008543134317733347, 4), (0.0008046377915889025, 4)]\n",
      "Real rating: 4\n",
      "Estimated rating: 4.0022711753845215\n",
      "\n",
      "Similarities and real ratings: [(0.9998145699501038, 2), (0.9991549253463745, 3), (0.8661929368972778, 3), (0.0002619899169076234, 5), (0.0001272055960725993, 5), (6.72726528136991e-05, 4), (5.644989141728729e-05, 5), (5.2094499551458284e-05, 4), (5.134434104547836e-05, 1), (5.015620627091266e-05, 3)]\n",
      "Real rating: 4\n",
      "Estimated rating: 2.651442050933838\n",
      "\n",
      "Mean absolute rating - estimated rating difference: 0.8106635808944702\n"
     ]
    }
   ],
   "source": [
    "abs_diffs = []\n",
    "for user_reviews_pair in tqdm(filtered_user_reviews):\n",
    "    abs_diff = evaluate_user(user_reviews_pair, books)\n",
    "    abs_diffs.append(abs_diff)\n",
    "\n",
    "mean_abs_diff = torch.sum(torch.tensor(abs_diffs)) / len(abs_diffs)\n",
    "print(f'Mean absolute rating - estimated rating difference: {mean_abs_diff}')"
   ]
  },
  {
   "cell_type": "code",
   "execution_count": null,
   "metadata": {},
   "outputs": [],
   "source": []
  }
 ],
 "metadata": {
  "interpreter": {
   "hash": "236afb4c60c7ec613449c67b2c4cd5af5ca37658326c13f26b7a5944e23c45d9"
  },
  "kernelspec": {
   "display_name": "Python 3",
   "language": "python",
   "name": "python3"
  },
  "language_info": {
   "codemirror_mode": {
    "name": "ipython",
    "version": 3
   },
   "file_extension": ".py",
   "mimetype": "text/x-python",
   "name": "python",
   "nbconvert_exporter": "python",
   "pygments_lexer": "ipython3",
   "version": "3.6.9"
  }
 },
 "nbformat": 4,
 "nbformat_minor": 2
}
