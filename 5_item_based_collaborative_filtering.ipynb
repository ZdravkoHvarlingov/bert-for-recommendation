{
 "metadata": {
  "language_info": {
   "codemirror_mode": {
    "name": "ipython",
    "version": 3
   },
   "file_extension": ".py",
   "mimetype": "text/x-python",
   "name": "python",
   "nbconvert_exporter": "python",
   "pygments_lexer": "ipython3",
   "version": "3.7.4"
  },
  "orig_nbformat": 4,
  "kernelspec": {
   "name": "python3",
   "display_name": "Python 3.7.4 64-bit ('venv': venv)"
  },
  "interpreter": {
   "hash": "236afb4c60c7ec613449c67b2c4cd5af5ca37658326c13f26b7a5944e23c45d9"
  }
 },
 "nbformat": 4,
 "nbformat_minor": 2,
 "cells": [
  {
   "cell_type": "code",
   "execution_count": 47,
   "metadata": {},
   "outputs": [],
   "source": [
    "import gzip\n",
    "import torch\n",
    "import json\n",
    "import random\n",
    "\n",
    "import numpy as np\n",
    "import torch.nn.functional as F\n",
    "\n",
    "from tqdm.notebook import tqdm\n",
    "from random import randrange\n",
    "from collections import defaultdict\n",
    "from random import randrange, shuffle\n",
    "from transformers import BertForNextSentencePrediction, AutoTokenizer"
   ]
  },
  {
   "cell_type": "code",
   "execution_count": 52,
   "metadata": {},
   "outputs": [],
   "source": [
    "RANDOM_SEED = 42\n",
    "PRE_TRAINED_MODEL_NAME = 'bert-base-cased'\n",
    "\n",
    "MAX_SEQUENCE_LENGTH = 256\n",
    "\n",
    "MODEL_PATH = 'data/best_model_state_10k_8ep_title_desc.bin'\n",
    "BOOKS_PATH = 'data/top_200000_eng_books_filtered.json'\n",
    "REVIEWS_PATH = 'data/goodreads_reviews_dedup.json.gz'\n",
    "\n",
    "NUM_OF_USER_REVIEWS = 1000000\n",
    "NUM_USERS_TO_EVALUATE = 100\n",
    "K_MOST_SIMILAR_TO_CONSIDER = 10"
   ]
  },
  {
   "cell_type": "code",
   "execution_count": 16,
   "metadata": {},
   "outputs": [
    {
     "output_type": "execute_result",
     "data": {
      "text/plain": [
       "device(type='cuda')"
      ]
     },
     "metadata": {},
     "execution_count": 16
    }
   ],
   "source": [
    "np.random.seed(RANDOM_SEED)\n",
    "torch.manual_seed(RANDOM_SEED)\n",
    "random.seed(RANDOM_SEED)\n",
    "\n",
    "device = torch.device(\"cuda\" if torch.cuda.is_available() else \"cpu\")\n",
    "device"
   ]
  },
  {
   "source": [
    "# User reviews data loading"
   ],
   "cell_type": "markdown",
   "metadata": {}
  },
  {
   "cell_type": "code",
   "execution_count": 17,
   "metadata": {},
   "outputs": [],
   "source": [
    "def load_data(file_name, n):\n",
    "    count = 0\n",
    "\n",
    "    user_reviews = defaultdict(list)\n",
    "    with gzip.open(file_name) as fin:\n",
    "        for l in fin:\n",
    "            review = json.loads(l)\n",
    "            user_reviews[review['user_id']].append(review)\n",
    "            count += 1\n",
    "            \n",
    "            # break if reaches the 100th line\n",
    "            if count >= n:\n",
    "                    break\n",
    "    \n",
    "    return user_reviews"
   ]
  },
  {
   "cell_type": "code",
   "execution_count": 18,
   "metadata": {},
   "outputs": [
    {
     "output_type": "stream",
     "name": "stdout",
     "text": [
      "Number of unique users among the specified number of reviews: 20152\n"
     ]
    }
   ],
   "source": [
    "reviews = load_data(REVIEWS_PATH, NUM_OF_USER_REVIEWS)\n",
    "print(f'Number of unique users among the specified number of reviews: {len(reviews)}')"
   ]
  },
  {
   "cell_type": "code",
   "execution_count": 34,
   "metadata": {},
   "outputs": [
    {
     "output_type": "stream",
     "name": "stdout",
     "text": [
      "Maximum number of reviews for a single user among top 100 users with most ratings: 5345\nMinimum number of reviews for a single user among top 100 users with most ratings: 892\n"
     ]
    }
   ],
   "source": [
    "user_reviews = list(reviews.items())\n",
    "user_reviews.sort(key=lambda pair: len(pair[1]), reverse=True)\n",
    "user_reviews = user_reviews[:NUM_USERS_TO_EVALUATE]\n",
    "for user_reviews_pair in user_reviews:\n",
    "    shuffle(user_reviews_pair[1])\n",
    "\n",
    "print(f'Maximum number of reviews for a single user among top {NUM_USERS_TO_EVALUATE} users with most ratings: {len(user_reviews[0][1])}')\n",
    "print(f'Minimum number of reviews for a single user among top {NUM_USERS_TO_EVALUATE} users with most ratings: {len(user_reviews[NUM_USERS_TO_EVALUATE - 1][1])}')"
   ]
  },
  {
   "cell_type": "code",
   "execution_count": 35,
   "metadata": {},
   "outputs": [
    {
     "output_type": "stream",
     "name": "stdout",
     "text": [
      "{'user_id': '8e7e5b546a63cb9add8431ee6914cf59', 'book_id': '4374400', 'review_id': 'f3e2013a3417bd15b3eed4c766eaeac3', 'rating': 5, 'review_text': \"I can't be even a tiny bit objective about this, I don't think. Mia's family and friends are in many ways like my own. I don't identify with her, but with her mother, and with the musical milieu and the changing jobs of the adults in the story. \\n So I cried. I wept for an hour straight last night as I read, tears slowing to a trickle for the funnier scenes,but never stopping entirely. I cried as if Forman had hooked up electrodes directly to my tear ducts.\", 'date_added': 'Wed Jul 09 08:31:00 -0700 2014', 'date_updated': 'Wed Jul 16 07:48:37 -0700 2014', 'read_at': '', 'started_at': '', 'n_votes': 0, 'n_comments': 0}\n\n{'user_id': '8e7e5b546a63cb9add8431ee6914cf59', 'book_id': '24765', 'review_id': '03cdbbd9133d42fb39b885b8c9dc63cc', 'rating': 4, 'review_text': 'Westerfeld\\'s tricky plot reversals continue to delight. Like classic science fiction he explores what technology does to society. This book is perhaps most influenced by \"Clockwork Orange\", which might be a good recommendation for a YA reader who hasn\\'t gone that far back in the canon yet. I also really liked the link to the present in the genre, where the excerpt from \"Extras\" suggests a world like Cory Doctorow\\'s \"Down and Out in the Magic Kingdom\". \\n I\\'m looking forward to \"Extras\", not least because it has a character named Hiro. Nice little shout-out to \"Snow Crash\".', 'date_added': 'Tue Jul 08 13:05:38 -0700 2014', 'date_updated': 'Tue Jul 08 13:05:38 -0700 2014', 'read_at': 'Wed Feb 04 00:00:00 -0800 2009', 'started_at': '', 'n_votes': 0, 'n_comments': 0}\n\n{'user_id': '8e7e5b546a63cb9add8431ee6914cf59', 'book_id': '18231', 'review_id': 'da0e2ccba8977301fc531b971d79ec2b', 'rating': 3, 'review_text': \"There's nothing life mother-in-law strife among the wealthy. At least, I hope there isn't.\", 'date_added': 'Tue Jul 08 06:06:17 -0700 2014', 'date_updated': 'Tue Jul 08 06:06:17 -0700 2014', 'read_at': 'Fri Jan 01 00:00:00 -0800 1988', 'started_at': '', 'n_votes': 0, 'n_comments': 0}\n\n{'user_id': '8e7e5b546a63cb9add8431ee6914cf59', 'book_id': '11737012', 'review_id': 'fff5f336e6fa386d9fad376d2bc9b42f', 'rating': 3, 'review_text': \"Go see Stephen's review.\", 'date_added': 'Fri Aug 03 00:00:00 -0700 2012', 'date_updated': 'Wed Jul 16 10:28:55 -0700 2014', 'read_at': 'Fri Aug 03 00:00:00 -0700 2012', 'started_at': '', 'n_votes': 0, 'n_comments': 0}\n\n{'user_id': '8e7e5b546a63cb9add8431ee6914cf59', 'book_id': '1632801', 'review_id': '717e558809918dbb491c9050749faff2', 'rating': 3, 'review_text': \"Something else that I dearly loved back in the day, and now realize is almost entirely crap. The stories are truly amazing if you don't bother to do any research.\", 'date_added': 'Tue Jul 08 13:03:01 -0700 2014', 'date_updated': 'Tue Jul 08 13:03:01 -0700 2014', 'read_at': 'Thu Jan 01 00:00:00 -0800 1976', 'started_at': '', 'n_votes': 0, 'n_comments': 0}\n\n"
     ]
    }
   ],
   "source": [
    "num_examples = 5\n",
    "for idx in range(num_examples):\n",
    "    print(f'{user_reviews[0][1][idx]}\\n')"
   ]
  },
  {
   "source": [
    "# Books loading"
   ],
   "cell_type": "markdown",
   "metadata": {}
  },
  {
   "cell_type": "code",
   "execution_count": 36,
   "metadata": {},
   "outputs": [
    {
     "output_type": "stream",
     "name": "stdout",
     "text": [
      "Loaded first 200000 books.\n"
     ]
    }
   ],
   "source": [
    "with open(BOOKS_PATH, 'r') as books_file:\n",
    "    books = json.load(books_file)\n",
    "\n",
    "print(f'Loaded first {len(books)} books.')"
   ]
  },
  {
   "cell_type": "code",
   "execution_count": 37,
   "metadata": {},
   "outputs": [
    {
     "output_type": "stream",
     "name": "stdout",
     "text": [
      "Maximum number of reviews for a single user among top 100 users with most ratings: 816\nMinimum number of reviews for a single user among top 100 users with most ratings: 11\n"
     ]
    }
   ],
   "source": [
    "filtered_user_reviews = []\n",
    "for user_reviews_pair in user_reviews:\n",
    "    filtered_reviews = [book_review for book_review in user_reviews_pair[1] if book_review['book_id'] in books]\n",
    "    filtered_user_reviews.append((user_reviews_pair[0], filtered_reviews))\n",
    "filtered_user_reviews.sort(key=lambda pair: len(pair[1]), reverse=True)\n",
    "\n",
    "print(f'Maximum number of reviews for a single user among top {NUM_USERS_TO_EVALUATE} users with most ratings: {len(filtered_user_reviews[0][1])}')\n",
    "print(f'Minimum number of reviews for a single user among top {NUM_USERS_TO_EVALUATE} users with most ratings: {len(filtered_user_reviews[NUM_USERS_TO_EVALUATE - 1][1])}')"
   ]
  },
  {
   "cell_type": "code",
   "execution_count": 38,
   "metadata": {},
   "outputs": [
    {
     "output_type": "stream",
     "name": "stdout",
     "text": [
      "{'user_id': '37b3e60b4e4152c580fd798d405150ff', 'book_id': '22383', 'review_id': 'e18d225e12ffb3f123131a3c882eb386', 'rating': 4, 'review_text': 'This book is a bit wobby as we trade off between the two main sequences of Seven Soldiers books. Fortunately, Bulleteer and Frankenstein both start off strong.', 'date_added': 'Fri Jul 05 14:05:26 -0700 2013', 'date_updated': 'Fri Jul 05 14:05:57 -0700 2013', 'read_at': 'Sun Jul 04 00:00:00 -0700 2010', 'started_at': '', 'n_votes': 0, 'n_comments': 0}\n\n{'user_id': '37b3e60b4e4152c580fd798d405150ff', 'book_id': '22349', 'review_id': '632a31f93a316e7958ec722c341a6807', 'rating': 5, 'review_text': 'The stories continue to gain momentum, with the finales to Guardian and Shining Knight both being quite good. The crossovers, especially regarding the Newsboy Army are also very intriguing.', 'date_added': 'Fri Jul 05 14:04:56 -0700 2013', 'date_updated': 'Fri Jul 05 14:06:09 -0700 2013', 'read_at': 'Fri Jul 02 00:00:00 -0700 2010', 'started_at': '', 'n_votes': 0, 'n_comments': 0}\n\n{'user_id': '37b3e60b4e4152c580fd798d405150ff', 'book_id': '110139', 'review_id': 'ea62e638001580f396bf95e32b1260bf', 'rating': 3, 'review_text': \"Not nearly as fond of this as the actual Kodiak books. I'd be tempted to skip it on a reread\", 'date_added': 'Mon Apr 01 10:39:12 -0700 2013', 'date_updated': 'Mon Apr 01 10:40:10 -0700 2013', 'read_at': '', 'started_at': '', 'n_votes': 0, 'n_comments': 0}\n\n{'user_id': '37b3e60b4e4152c580fd798d405150ff', 'book_id': '26067583', 'review_id': 'f78f6a62081151909df2597ab23a62fa', 'rating': 3, 'review_text': \"Sadly, this comic has very quickly lost its luster. Much of the problem is that Stewart and Fletcher already feel like they're coasting. This volume doesn't have the innovation of the original, it leans too hard on its art, and it's largely discarded the wonderful focuses on Babs' intelligence that we saw in the first volume. \\n The other problem is that there are two real clunkers in this volume. There's an annual that's interminable and feels like a bad excuse to spotlight the rest of the Bat family. Then the wedding in the last issue is almost derailed by Grayson acting like a total stalker in a really creepy way. Basically, it feels like the authors need to stay away from anyone but Batgirl herself. \\n On the bright side, when the comic manages to find its supporting cast again, after the first few issues, they're great, especially in the lead-up to that wedding. And, the art remains terrific. But after a great first volume, this was much more mediocre.\", 'date_added': 'Tue Jan 17 01:04:20 -0800 2017', 'date_updated': 'Tue Jan 17 01:08:49 -0800 2017', 'read_at': 'Tue Jan 17 01:08:49 -0800 2017', 'started_at': 'Mon Jan 16 00:00:00 -0800 2017', 'n_votes': 1, 'n_comments': 0}\n\n{'user_id': '37b3e60b4e4152c580fd798d405150ff', 'book_id': '9143014', 'review_id': '81616eabbfb113462652304bfad55668', 'rating': 4, 'review_text': \"A story with nice connections to both the Captain's origins and the Secret Avengers. It also does well for placing Rogers in a more soldier-like role.\", 'date_added': 'Sun Sep 02 18:50:19 -0700 2012', 'date_updated': 'Sun Sep 02 18:50:36 -0700 2012', 'read_at': 'Fri Apr 20 00:00:00 -0700 2012', 'started_at': '', 'n_votes': 0, 'n_comments': 0}\n\n"
     ]
    }
   ],
   "source": [
    "num_examples = 5\n",
    "for idx in range(num_examples):\n",
    "    print(f'{filtered_user_reviews[0][1][idx]}\\n')"
   ]
  },
  {
   "source": [
    "# Model and tokenizer loading"
   ],
   "cell_type": "markdown",
   "metadata": {}
  },
  {
   "cell_type": "code",
   "execution_count": 4,
   "metadata": {},
   "outputs": [
    {
     "output_type": "stream",
     "name": "stderr",
     "text": [
      "Some weights of the model checkpoint at bert-base-cased were not used when initializing BertForNextSentencePrediction: ['cls.predictions.transform.LayerNorm.weight', 'cls.predictions.transform.dense.bias', 'cls.predictions.bias', 'cls.predictions.decoder.weight', 'cls.predictions.transform.dense.weight', 'cls.predictions.transform.LayerNorm.bias']\n- This IS expected if you are initializing BertForNextSentencePrediction from the checkpoint of a model trained on another task or with another architecture (e.g. initializing a BertForSequenceClassification model from a BertForPreTraining model).\n- This IS NOT expected if you are initializing BertForNextSentencePrediction from the checkpoint of a model that you expect to be exactly identical (initializing a BertForSequenceClassification model from a BertForSequenceClassification model).\n"
     ]
    }
   ],
   "source": [
    "model = BertForNextSentencePrediction.from_pretrained(PRE_TRAINED_MODEL_NAME)\n",
    "model.load_state_dict(torch.load(MODEL_PATH))\n",
    "model = model.to(device)\n",
    "model.eval()\n",
    "\n",
    "tokenizer = AutoTokenizer.from_pretrained(PRE_TRAINED_MODEL_NAME)"
   ]
  },
  {
   "source": [
    "# Item based collaborative filtering evaluation"
   ],
   "cell_type": "markdown",
   "metadata": {}
  },
  {
   "cell_type": "code",
   "execution_count": 55,
   "metadata": {},
   "outputs": [],
   "source": [
    "def calculate_books_similarity(book1_id, book2_id, books):\n",
    "    book1, book2 = books[book1_id], books[book2_id]\n",
    "    encoded_sequences = tokenizer(\n",
    "        book1['description'],\n",
    "        book2['description'],\n",
    "        padding='longest',\n",
    "        truncation='longest_first',\n",
    "        return_tensors='pt',\n",
    "        max_length=MAX_SEQUENCE_LENGTH\n",
    "    )\n",
    "\n",
    "    outputs = model(\n",
    "        input_ids=encoded_sequences['input_ids'].to(device),\n",
    "        attention_mask=encoded_sequences['attention_mask'].to(device),\n",
    "        token_type_ids=encoded_sequences['token_type_ids'].to(device)\n",
    "    )\n",
    "    probs = F.softmax(outputs.logits, dim=1)\n",
    "\n",
    "    # Class 0 notes if sent B follows sent A\n",
    "    similarity_score = probs[0][0]\n",
    "    return similarity_score.detach().item()"
   ]
  },
  {
   "cell_type": "code",
   "execution_count": 60,
   "metadata": {},
   "outputs": [],
   "source": [
    "def evaluate_user(user_reviews_pair, books):\n",
    "    user_id = user_reviews_pair[0]\n",
    "    reviews = user_reviews_pair[1]\n",
    "\n",
    "    # We want to estimate the rating of the first rated book\n",
    "    # hence we get it and remove it from the rest of the reviews\n",
    "    review_to_estimate = reviews[0]\n",
    "    reviews = reviews[1:]\n",
    "    similarities = []\n",
    "    for review in reviews:\n",
    "        similarity = calculate_books_similarity(review_to_estimate['book_id'], review['book_id'], books)\n",
    "        similarities.append((similarity, review['rating']))\n",
    "    similarities.sort(key=lambda pair: pair[0], reverse=True)\n",
    "    similarities = similarities[:K_MOST_SIMILAR_TO_CONSIDER]\n",
    "    \n",
    "    sims_torch = torch.tensor([sim for sim, _ in similarities], dtype=torch.float)\n",
    "    ratings_torch = torch.tensor([real_rating for _, real_rating in similarities], dtype=torch.float)\n",
    "    estimated_rating = torch.dot(sims_torch, ratings_torch) / torch.sum(sims_torch)\n",
    "\n",
    "    print(f'Similarities and real ratings: {similarities}')\n",
    "    print(f'Real rating: {review_to_estimate[\"rating\"]}')\n",
    "    print(f'Estimated rating: {estimated_rating}\\n')\n",
    "\n",
    "    return abs(review_to_estimate['rating'] - estimated_rating)"
   ]
  },
  {
   "cell_type": "code",
   "execution_count": 61,
   "metadata": {
    "tags": [
     "outputPrepend"
    ]
   },
   "outputs": [
    {
     "output_type": "display_data",
     "data": {
      "text/plain": "  0%|          | 0/100 [00:00<?, ?it/s]",
      "application/vnd.jupyter.widget-view+json": {
       "version_major": 2,
       "version_minor": 0,
       "model_id": "cc8f25bef4b14726836ecedf356c3cad"
      }
     },
     "metadata": {}
    },
    {
     "output_type": "stream",
     "name": "stdout",
     "text": [
      "4), (0.9997041821479797, 3), (0.9996845722198486, 4), (0.9996647834777832, 4), (0.9996498823165894, 4), (0.9996355772018433, 4), (0.9996016621589661, 4), (0.9995859265327454, 4), (0.9995842576026917, 4)]\n",
      "Real rating: 4\n",
      "Estimated rating: 3.899995803833008\n",
      "\n",
      "Similarities and real ratings: [(0.9998377561569214, 5), (0.9998227953910828, 5), (0.9998143315315247, 5), (0.9998142123222351, 5), (0.9998136162757874, 5), (0.9998125433921814, 5), (0.9998108744621277, 5), (0.9998094439506531, 5), (0.9998090863227844, 5), (0.9998086094856262, 5)]\n",
      "Real rating: 5\n",
      "Estimated rating: 5.000000476837158\n",
      "\n",
      "Similarities and real ratings: [(0.9998161196708679, 4), (0.9998113512992859, 4), (0.9998109936714172, 4), (0.9998109936714172, 5), (0.9998101592063904, 4), (0.9998064637184143, 5), (0.9998055100440979, 3), (0.9998053908348083, 5), (0.9998016953468323, 4), (0.9998001456260681, 2)]\n",
      "Real rating: 4\n",
      "Estimated rating: 4.000001430511475\n",
      "\n",
      "Similarities and real ratings: [(0.9998219609260559, 5), (0.9998213648796082, 4), (0.99982088804245, 5), (0.9998190999031067, 5), (0.999812662601471, 5), (0.9998118281364441, 5), (0.9998071789741516, 5), (0.9998031258583069, 5), (0.9997990727424622, 5), (0.9997974038124084, 5)]\n",
      "Real rating: 5\n",
      "Estimated rating: 4.899999141693115\n",
      "\n",
      "Similarities and real ratings: [(0.9998154044151306, 3), (0.9998146891593933, 4), (0.9998106360435486, 4), (0.9998052716255188, 5), (0.999803364276886, 5), (0.9998000264167786, 4), (0.9997988343238831, 5), (0.9997976422309875, 5), (0.9997943043708801, 4), (0.9997918009757996, 4)]\n",
      "Real rating: 4\n",
      "Estimated rating: 4.299997806549072\n",
      "\n",
      "Similarities and real ratings: [(0.9998247027397156, 3), (0.9997981190681458, 4), (0.9997946619987488, 3), (0.9997902512550354, 2), (0.9997681975364685, 2), (0.9997664093971252, 3), (0.9997578263282776, 4), (0.9997530579566956, 5), (0.9997426867485046, 3), (0.9997147917747498, 1)]\n",
      "Real rating: 2\n",
      "Estimated rating: 3.0000076293945312\n",
      "\n",
      "Similarities and real ratings: [(0.9998639822006226, 3), (0.9998631477355957, 3), (0.9998581409454346, 5), (0.9998577833175659, 5), (0.9998522996902466, 4), (0.9998476505279541, 4), (0.9998466968536377, 5), (0.9998438358306885, 4), (0.9998427629470825, 3), (0.9998416900634766, 2)]\n",
      "Real rating: 5\n",
      "Estimated rating: 3.800001621246338\n",
      "\n",
      "Similarities and real ratings: [(0.9998277425765991, 4), (0.9998219609260559, 0), (0.9998217225074768, 4), (0.9998201727867126, 4), (0.9998200535774231, 0), (0.9998185038566589, 4), (0.9998185038566589, 5), (0.9998175501823425, 3), (0.999815046787262, 4), (0.9998148083686829, 3)]\n",
      "Real rating: 3\n",
      "Estimated rating: 3.09999942779541\n",
      "\n",
      "Similarities and real ratings: [(0.9998243451118469, 4), (0.9998086094856262, 5), (0.9998000264167786, 5), (0.999792754650116, 4), (0.9997791647911072, 3), (0.9997761845588684, 2), (0.9997711777687073, 4), (0.9997687935829163, 4), (0.9997683167457581, 3), (0.9997618794441223, 4)]\n",
      "Real rating: 5\n",
      "Estimated rating: 3.8000073432922363\n",
      "\n",
      "Similarities and real ratings: [(0.9998243451118469, 5), (0.9998236298561096, 3), (0.9998235106468201, 4), (0.9998216032981873, 5), (0.9998156428337097, 4), (0.9998149275779724, 4), (0.9998144507408142, 2), (0.9998103976249695, 4), (0.9998093247413635, 4), (0.9998089671134949, 4)]\n",
      "Real rating: 4\n",
      "Estimated rating: 3.900001049041748\n",
      "\n",
      "Similarities and real ratings: [(0.9998365640640259, 3), (0.9998176693916321, 4), (0.9998146891593933, 3), (0.9998098015785217, 0), (0.9998096823692322, 3), (0.9997977614402771, 2), (0.999795138835907, 2), (0.9997932314872742, 4), (0.9997842907905579, 0), (0.9997778534889221, 3)]\n",
      "Real rating: 3\n",
      "Estimated rating: 2.40000581741333\n",
      "\n",
      "Similarities and real ratings: [(0.9998306035995483, 4), (0.999813973903656, 5), (0.9997983574867249, 5), (0.999797523021698, 4), (0.9997773766517639, 5), (0.9997755885124207, 4), (0.9997745156288147, 5), (0.9997722506523132, 5), (0.9997649788856506, 1), (0.9997605681419373, 3)]\n",
      "Real rating: 5\n",
      "Estimated rating: 4.100009441375732\n",
      "\n",
      "Similarities and real ratings: [(0.9997872710227966, 5), (0.9997867941856384, 5), (0.9997850060462952, 5), (0.9997738003730774, 5), (0.9997685551643372, 5), (0.9997648596763611, 5), (0.9997532963752747, 5), (0.9997319579124451, 5), (0.9997308850288391, 5), (0.9997288584709167, 5)]\n",
      "Real rating: 5\n",
      "Estimated rating: 4.999999523162842\n",
      "\n",
      "Similarities and real ratings: [(0.9998723268508911, 4), (0.9998670816421509, 0), (0.9998617172241211, 3), (0.9998582601547241, 3), (0.9998573064804077, 3), (0.9998562335968018, 4), (0.9998558759689331, 3), (0.9998544454574585, 2), (0.9998544454574585, 3), (0.9998520612716675, 3)]\n",
      "Real rating: 3\n",
      "Estimated rating: 2.7999989986419678\n",
      "\n",
      "Similarities and real ratings: [(0.9998272061347961, 4), (0.9997993111610413, 0), (0.9997920393943787, 0), (0.9997884631156921, 0), (0.9997833371162415, 0), (0.9997829794883728, 5), (0.9997826218605042, 3), (0.9997803568840027, 0), (0.9997796416282654, 0), (0.9997794032096863, 0)]\n",
      "Real rating: 0\n",
      "Estimated rating: 1.2000095844268799\n",
      "\n",
      "Similarities and real ratings: [(0.9998389482498169, 4), (0.9998158812522888, 5), (0.9998137354850769, 4), (0.9998123049736023, 3), (0.9998100399971008, 4), (0.9998014569282532, 3), (0.9998014569282532, 3), (0.999800980091095, 4), (0.9997962117195129, 5), (0.9997958540916443, 4)]\n",
      "Real rating: 5\n",
      "Estimated rating: 3.9000003337860107\n",
      "\n",
      "Similarities and real ratings: [(0.9998763799667358, 3), (0.9998737573623657, 4), (0.9998729228973389, 4), (0.9998677968978882, 4), (0.9998664855957031, 3), (0.9998629093170166, 4), (0.999862551689148, 3), (0.999860405921936, 2), (0.9998592138290405, 3), (0.9998579025268555, 4)]\n",
      "Real rating: 3\n",
      "Estimated rating: 3.400000810623169\n",
      "\n",
      "Similarities and real ratings: [(0.9998779296875, 4), (0.9998705387115479, 4), (0.9998674392700195, 3), (0.99986732006073, 5), (0.9998660087585449, 3), (0.9998601675033569, 4), (0.9998600482940674, 4), (0.9998588562011719, 4), (0.999849796295166, 4), (0.9998453855514526, 3)]\n",
      "Real rating: 2\n",
      "Estimated rating: 3.8000011444091797\n",
      "\n",
      "Similarities and real ratings: [(0.9998537302017212, 4), (0.9998331069946289, 0), (0.9998311996459961, 4), (0.9998278617858887, 4), (0.9998189806938171, 5), (0.9998131394386292, 3), (0.9998121857643127, 3), (0.9998089671134949, 5), (0.9997591376304626, 2), (0.9997535347938538, 4)]\n",
      "Real rating: 3\n",
      "Estimated rating: 3.4000020027160645\n",
      "\n",
      "Similarities and real ratings: [(0.9998250603675842, 3), (0.9998098015785217, 4), (0.9997914433479309, 3), (0.99977046251297, 2), (0.9997655749320984, 2), (0.9997518658638, 4), (0.9997487664222717, 3), (0.9997431635856628, 3), (0.9997265934944153, 4), (0.9997203946113586, 3)]\n",
      "Real rating: 5\n",
      "Estimated rating: 3.0999984741210938\n",
      "\n",
      "Similarities and real ratings: [(0.9998389482498169, 4), (0.999828577041626, 2), (0.9998237490653992, 3), (0.9998143315315247, 4), (0.9998109936714172, 4), (0.9998077750205994, 4), (0.9998026490211487, 3), (0.9997996687889099, 4), (0.9997846484184265, 4), (0.999783456325531, 2)]\n",
      "Real rating: 5\n",
      "Estimated rating: 3.40000057220459\n",
      "\n",
      "Similarities and real ratings: [(0.9998419284820557, 4), (0.999841570854187, 4), (0.9998341798782349, 4), (0.9998288154602051, 5), (0.9998278617858887, 5), (0.9998267292976379, 4), (0.9998260140419006, 5), (0.9998219609260559, 5), (0.9998212456703186, 5), (0.9998210072517395, 5)]\n",
      "Real rating: 4\n",
      "Estimated rating: 4.599997043609619\n",
      "\n",
      "Similarities and real ratings: [(0.9998158812522888, 5), (0.9998134970664978, 5), (0.999805748462677, 5), (0.9998013377189636, 5), (0.9997969269752502, 4), (0.9997944235801697, 5), (0.9997830986976624, 5), (0.9997797608375549, 5), (0.9997773766517639, 5), (0.9997738003730774, 2)]\n",
      "Real rating: 5\n",
      "Estimated rating: 4.600005626678467\n",
      "\n",
      "Similarities and real ratings: [(0.9998534917831421, 4), (0.9998441934585571, 3), (0.9998421669006348, 4), (0.9998400211334229, 4), (0.9998387098312378, 3), (0.9998182654380798, 4), (0.9998132586479187, 3), (0.9998100399971008, 3), (0.999808132648468, 3), (0.9998071789741516, 3)]\n",
      "Real rating: 5\n",
      "Estimated rating: 3.4000041484832764\n",
      "\n",
      "Similarities and real ratings: [(0.9998076558113098, 3), (0.9998040795326233, 4), (0.9998018145561218, 3), (0.9998006224632263, 5), (0.9997983574867249, 4), (0.9997971653938293, 4), (0.9997953772544861, 5), (0.9997945427894592, 4), (0.9997909665107727, 4), (0.9997897744178772, 4)]\n",
      "Real rating: 0\n",
      "Estimated rating: 3.999998092651367\n",
      "\n",
      "Similarities and real ratings: [(0.9998435974121094, 5), (0.9998387098312378, 4), (0.9998383522033691, 4), (0.9998379945755005, 3), (0.9998353719711304, 5), (0.9998352527618408, 4), (0.999832272529602, 5), (0.9998306035995483, 5), (0.9998296499252319, 5), (0.9998284578323364, 5)]\n",
      "Real rating: 5\n",
      "Estimated rating: 4.499998569488525\n",
      "\n",
      "Similarities and real ratings: [(0.9998401403427124, 3), (0.9998378753662109, 4), (0.999829888343811, 4), (0.9998101592063904, 4), (0.9997890591621399, 4), (0.9997832179069519, 4), (0.9997674822807312, 4), (0.999736487865448, 3), (0.999731719493866, 4), (0.9997220635414124, 4)]\n",
      "Real rating: 4\n",
      "Estimated rating: 3.7999989986419678\n",
      "\n",
      "Similarities and real ratings: [(0.9998140931129456, 5), (0.9997702240943909, 4), (0.999769389629364, 5), (0.9997656941413879, 4), (0.999761164188385, 4), (0.9997542500495911, 4), (0.9997485280036926, 5), (0.9997443556785583, 5), (0.9997343420982361, 4), (0.9997031092643738, 5)]\n",
      "Real rating: 5\n",
      "Estimated rating: 4.499999523162842\n",
      "\n",
      "Similarities and real ratings: [(0.9998262524604797, 4), (0.9998243451118469, 5), (0.9998219609260559, 5), (0.9998217225074768, 4), (0.9998195767402649, 4), (0.999817430973053, 5), (0.9998099207878113, 5), (0.9998070597648621, 4), (0.9998027682304382, 4), (0.9998018145561218, 4)]\n",
      "Real rating: 5\n",
      "Estimated rating: 4.40000057220459\n",
      "\n",
      "Similarities and real ratings: [(0.9998435974121094, 4), (0.9998254179954529, 4), (0.999756395816803, 4), (0.9997434020042419, 4), (0.9997345805168152, 3), (0.9997327923774719, 4), (0.9997183680534363, 4), (0.9997000694274902, 3), (0.9996993541717529, 4), (0.9996992349624634, 3)]\n",
      "Real rating: 3\n",
      "Estimated rating: 3.700009822845459\n",
      "\n",
      "Similarities and real ratings: [(0.9997981190681458, 3), (0.9997922778129578, 4), (0.999790608882904, 4), (0.9997889399528503, 5), (0.9997854828834534, 3), (0.9997833371162415, 4), (0.9997679591178894, 3), (0.9997599720954895, 4), (0.9997599720954895, 2), (0.9997579455375671, 4)]\n",
      "Real rating: 4\n",
      "Estimated rating: 3.600003242492676\n",
      "\n",
      "Similarities and real ratings: [(0.9998451471328735, 4), (0.999836802482605, 5), (0.9998289346694946, 5), (0.9998273253440857, 5), (0.9998262524604797, 4), (0.9998255372047424, 5), (0.9998229146003723, 4), (0.9998199343681335, 5), (0.9998192191123962, 4), (0.9998167157173157, 5)]\n",
      "Real rating: 5\n",
      "Estimated rating: 4.59999942779541\n",
      "\n",
      "Similarities and real ratings: [(0.999832272529602, 4), (0.9998047947883606, 3), (0.9998028874397278, 4), (0.9997994303703308, 5), (0.9997976422309875, 3), (0.9997958540916443, 2), (0.9997944235801697, 5), (0.9997677206993103, 3), (0.9997625946998596, 4), (0.9997609257698059, 3)]\n",
      "Real rating: 5\n",
      "Estimated rating: 3.600004196166992\n",
      "\n",
      "Similarities and real ratings: [(0.9998772144317627, 3), (0.999854326248169, 4), (0.9998511075973511, 5), (0.999845027923584, 0), (0.999840497970581, 5), (0.9998351335525513, 0), (0.9998327493667603, 4), (0.9998289346694946, 4), (0.999821126461029, 3), (0.9998121857643127, 0)]\n",
      "Real rating: 4\n",
      "Estimated rating: 2.8000099658966064\n",
      "\n",
      "Similarities and real ratings: [(0.9998575448989868, 3), (0.9998490810394287, 4), (0.9998466968536377, 4), (0.999845027923584, 5), (0.9998445510864258, 3), (0.9998440742492676, 4), (0.9998393058776855, 3), (0.9998393058776855, 5), (0.9998384714126587, 4), (0.9998383522033691, 3)]\n",
      "Real rating: 4\n",
      "Estimated rating: 3.7999985218048096\n",
      "\n",
      "Similarities and real ratings: [(0.9998156428337097, 3), (0.9998062252998352, 4), (0.9998058676719666, 3), (0.9998030066490173, 5), (0.9997984766960144, 2), (0.9997944235801697, 4), (0.9997935891151428, 4), (0.9997851252555847, 0), (0.9997844099998474, 4), (0.9997822642326355, 4)]\n",
      "Real rating: 4\n",
      "Estimated rating: 3.300001621246338\n",
      "\n",
      "Similarities and real ratings: [(0.9998579025268555, 4), (0.9998553991317749, 4), (0.9998524188995361, 3), (0.9998445510864258, 5), (0.9998420476913452, 4), (0.9998403787612915, 2), (0.9998372793197632, 5), (0.9998311996459961, 4), (0.9998297691345215, 1), (0.9998294115066528, 2)]\n",
      "Real rating: 4\n",
      "Estimated rating: 3.400005578994751\n",
      "\n",
      "Similarities and real ratings: [(0.9998329877853394, 4), (0.9998314380645752, 4), (0.9998308420181274, 4), (0.9998239874839783, 4), (0.9998225569725037, 4), (0.9998186230659485, 5), (0.9998177886009216, 5), (0.9998155236244202, 4), (0.9998154044151306, 2), (0.9998151659965515, 5)]\n",
      "Real rating: 5\n",
      "Estimated rating: 4.09999942779541\n",
      "\n",
      "Similarities and real ratings: [(0.9998617172241211, 3), (0.9998583793640137, 4), (0.9998549222946167, 5), (0.999854326248169, 5), (0.9998533725738525, 3), (0.9998518228530884, 5), (0.9998469352722168, 4), (0.9998461008071899, 3), (0.9998449087142944, 5), (0.9998441934585571, 4)]\n",
      "Real rating: 4\n",
      "Estimated rating: 4.099998950958252\n",
      "\n",
      "Similarities and real ratings: [(0.9997727274894714, 4), (0.999565064907074, 3), (0.9993693232536316, 4), (0.999367892742157, 4), (0.9992308616638184, 3), (0.9987626075744629, 3), (0.998748779296875, 4), (0.9987127780914307, 4), (0.9986271858215332, 4), (0.9985305070877075, 4)]\n",
      "Real rating: 2\n",
      "Estimated rating: 3.699964761734009\n",
      "\n",
      "Similarities and real ratings: [(0.999841570854187, 4), (0.9998162388801575, 0), (0.9998146891593933, 4), (0.999810516834259, 2), (0.9997983574867249, 2), (0.9997860789299011, 4), (0.9997802376747131, 3), (0.9997633099555969, 3), (0.9997170567512512, 3), (0.999713122844696, 4)]\n",
      "Real rating: 3\n",
      "Estimated rating: 2.8999879360198975\n",
      "\n",
      "Similarities and real ratings: [(0.9998582601547241, 5), (0.9998424053192139, 4), (0.9998348951339722, 5), (0.9998308420181274, 5), (0.9998289346694946, 4), (0.9998277425765991, 4), (0.9998132586479187, 4), (0.9998100399971008, 4), (0.999795138835907, 5), (0.9997847676277161, 5)]\n",
      "Real rating: 5\n",
      "Estimated rating: 4.499999523162842\n",
      "\n",
      "Similarities and real ratings: [(0.9997897744178772, 3), (0.9996720552444458, 3), (0.9984366297721863, 4), (0.9982764720916748, 5), (0.9976166486740112, 5), (0.9917114973068237, 3), (0.987659752368927, 4), (0.9659296274185181, 2), (0.9403399229049683, 4), (0.9390947222709656, 5)]\n",
      "Real rating: 0\n",
      "Estimated rating: 3.7975211143493652\n",
      "\n",
      "Similarities and real ratings: [(0.9998171925544739, 4), (0.9998130202293396, 4), (0.9998102784156799, 5), (0.9998038411140442, 5), (0.9997972846031189, 4), (0.9997968077659607, 4), (0.9997891783714294, 4), (0.9997817873954773, 5), (0.9997805953025818, 4), (0.9997801184654236, 5)]\n",
      "Real rating: 4\n",
      "Estimated rating: 4.399998664855957\n",
      "\n",
      "Similarities and real ratings: [(0.9998501539230347, 4), (0.9998490810394287, 3), (0.9998447895050049, 4), (0.9998413324356079, 4), (0.9998359680175781, 3), (0.9998321533203125, 1), (0.9998302459716797, 2), (0.9998266100883484, 4), (0.9998229146003723, 5), (0.9998175501823425, 4)]\n",
      "Real rating: 4\n",
      "Estimated rating: 3.3999993801116943\n",
      "\n",
      "Similarities and real ratings: [(0.9998363256454468, 0), (0.9998306035995483, 3), (0.9998263716697693, 4), (0.9998196959495544, 4), (0.9997884631156921, 5), (0.9997842907905579, 4), (0.9997798800468445, 4), (0.9997743964195251, 4), (0.9997686743736267, 3), (0.999751627445221, 3)]\n",
      "Real rating: 4\n",
      "Estimated rating: 3.399986982345581\n",
      "\n",
      "Similarities and real ratings: [(0.9998199343681335, 1), (0.9996926784515381, 3), (0.9996687173843384, 2), (0.9995809197425842, 2), (0.9992127418518066, 2), (0.9991299510002136, 3), (0.9990887641906738, 3), (0.998950719833374, 4), (0.9982838034629822, 3), (0.9975160360336304, 2)]\n",
      "Real rating: 3\n",
      "Estimated rating: 2.49988055229187\n",
      "\n",
      "Similarities and real ratings: [(0.9998611211776733, 4), (0.999840259552002, 3), (0.9998387098312378, 4), (0.9998373985290527, 4), (0.9998352527618408, 4), (0.9998308420181274, 4), (0.9998244643211365, 4), (0.9997770190238953, 4), (0.9997652173042297, 2), (0.999748170375824, 4)]\n",
      "Real rating: 4\n",
      "Estimated rating: 3.7000081539154053\n",
      "\n",
      "Similarities and real ratings: [(0.9997493624687195, 3), (0.9996602535247803, 3), (0.9984298348426819, 4), (0.9983047246932983, 3), (0.997309684753418, 3), (0.9964812994003296, 5), (0.9948845505714417, 3), (0.9946460723876953, 4), (0.9934727549552917, 4), (0.9924945831298828, 4)]\n",
      "Real rating: 3\n",
      "Estimated rating: 3.599271774291992\n",
      "\n",
      "Similarities and real ratings: [(0.999840497970581, 4), (0.9998193383216858, 5), (0.9998132586479187, 2), (0.9998072981834412, 3), (0.9998056292533875, 3), (0.9997943043708801, 5), (0.9997902512550354, 0), (0.999788224697113, 5), (0.9997861981391907, 5), (0.9997780919075012, 5)]\n",
      "Real rating: 3\n",
      "Estimated rating: 3.6999974250793457\n",
      "\n",
      "Similarities and real ratings: [(0.9997876286506653, 3), (0.9996540546417236, 4), (0.9996439218521118, 4), (0.9994869232177734, 0), (0.9992693066596985, 4), (0.9980872273445129, 2), (0.9978629946708679, 3), (0.9962754249572754, 5), (0.9932489395141602, 3), (0.9926697015762329, 2)]\n",
      "Real rating: 4\n",
      "Estimated rating: 3.000190496444702\n",
      "\n",
      "Similarities and real ratings: [(0.999866247177124, 4), (0.9998582601547241, 3), (0.9998569488525391, 3), (0.9998522996902466, 4), (0.9998437166213989, 3), (0.9998435974121094, 3), (0.9998206496238708, 5), (0.9998152852058411, 4), (0.999815046787262, 4), (0.99981290102005, 4)]\n",
      "Real rating: 4\n",
      "Estimated rating: 3.69999361038208\n",
      "\n",
      "Similarities and real ratings: [(0.9998362064361572, 5), (0.9997960925102234, 4), (0.9997946619987488, 3), (0.9997860789299011, 3), (0.9997817873954773, 4), (0.9997668862342834, 4), (0.9997617602348328, 5), (0.9997554421424866, 4), (0.9997360110282898, 4), (0.999710738658905, 4)]\n",
      "Real rating: 5\n",
      "Estimated rating: 4.000001907348633\n",
      "\n",
      "Similarities and real ratings: [(0.9998677968978882, 3), (0.9998595714569092, 2), (0.9998576641082764, 4), (0.9998483657836914, 4), (0.9998266100883484, 5), (0.9998196959495544, 4), (0.9998040795326233, 4), (0.9998021721839905, 3), (0.9998006224632263, 3), (0.9997747540473938, 5)]\n",
      "Real rating: 0\n",
      "Estimated rating: 3.699989080429077\n",
      "\n",
      "Similarities and real ratings: [(0.9998489618301392, 4), (0.9998350143432617, 4), (0.9998235106468201, 5), (0.9998106360435486, 3), (0.9998002648353577, 3), (0.9998001456260681, 4), (0.9997990727424622, 5), (0.999782145023346, 5), (0.9997782111167908, 3), (0.9997758269309998, 5)]\n",
      "Real rating: 5\n",
      "Estimated rating: 4.099998474121094\n",
      "\n",
      "Similarities and real ratings: [(0.9998416900634766, 4), (0.9998316764831543, 0), (0.9998279809951782, 5), (0.9998263716697693, 4), (0.999824583530426, 5), (0.9998229146003723, 4), (0.9998043179512024, 5), (0.9997723698616028, 0), (0.9997721314430237, 4), (0.9997566342353821, 5)]\n",
      "Real rating: 4\n",
      "Estimated rating: 3.6000030040740967\n",
      "\n",
      "Similarities and real ratings: [(0.9998441934585571, 4), (0.9997479319572449, 5), (0.9997430443763733, 4), (0.9997294545173645, 3), (0.999650239944458, 3), (0.9996022582054138, 5), (0.9993388056755066, 5), (0.9991803765296936, 5), (0.9967268705368042, 3), (0.996325671672821, 4)]\n",
      "Real rating: 5\n",
      "Estimated rating: 4.100277423858643\n",
      "\n",
      "Similarities and real ratings: [(0.9998644590377808, 4), (0.9995747208595276, 4), (0.9994837045669556, 4), (0.9979333877563477, 3), (0.9977964162826538, 3), (0.9973944425582886, 5), (0.9685158133506775, 4), (0.30456534028053284, 4), (0.06627305597066879, 3), (0.02192094177007675, 4)]\n",
      "Real rating: 4\n",
      "Estimated rating: 3.8552207946777344\n",
      "\n",
      "Similarities and real ratings: [(0.9997859597206116, 4), (0.9997683167457581, 3), (0.9988014698028564, 4), (0.9981620907783508, 4), (0.9932336211204529, 3), (0.0042709712870419025, 3), (0.0032622511498630047, 3), (0.0019103595986962318, 3), (0.0014843017561361194, 4), (0.0008654464036226273, 4)]\n",
      "Real rating: 4\n",
      "Estimated rating: 3.599635124206543\n",
      "\n",
      "Similarities and real ratings: [(0.9998268485069275, 3), (0.9998262524604797, 4), (0.9998168349266052, 3), (0.9997666478157043, 2), (0.9987767338752747, 1), (0.9971568584442139, 5), (0.4671866297721863, 3), (0.004315060563385487, 5), (0.0041239215061068535, 4), (0.002678285352885723, 4)]\n",
      "Real rating: 5\n",
      "Estimated rating: 3.001892566680908\n",
      "\n",
      "Mean absolute rating - estimated rating difference: 0.7893927693367004\n"
     ]
    }
   ],
   "source": [
    "abs_diffs = []\n",
    "for user_reviews_pair in tqdm(filtered_user_reviews):\n",
    "    abs_diff = evaluate_user(user_reviews_pair, books)\n",
    "    abs_diffs.append(abs_diff)\n",
    "\n",
    "mean_abs_diff = torch.sum(torch.tensor(abs_diffs)) / len(abs_diffs)\n",
    "print(f'Mean absolute rating - estimated rating difference: {mean_abs_diff}')"
   ]
  },
  {
   "cell_type": "code",
   "execution_count": null,
   "metadata": {},
   "outputs": [],
   "source": []
  }
 ]
}