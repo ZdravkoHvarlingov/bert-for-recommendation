{
 "metadata": {
  "language_info": {
   "codemirror_mode": {
    "name": "ipython",
    "version": 3
   },
   "file_extension": ".py",
   "mimetype": "text/x-python",
   "name": "python",
   "nbconvert_exporter": "python",
   "pygments_lexer": "ipython3",
   "version": "3.7.4"
  },
  "orig_nbformat": 4,
  "kernelspec": {
   "name": "python3",
   "display_name": "Python 3.7.4 64-bit ('venv': venv)"
  },
  "interpreter": {
   "hash": "236afb4c60c7ec613449c67b2c4cd5af5ca37658326c13f26b7a5944e23c45d9"
  }
 },
 "nbformat": 4,
 "nbformat_minor": 2,
 "cells": [
  {
   "cell_type": "code",
   "execution_count": 1,
   "metadata": {},
   "outputs": [],
   "source": [
    "import torch\n",
    "import json\n",
    "import random\n",
    "\n",
    "import numpy as np\n",
    "import torch.nn.functional as F\n",
    "\n",
    "from tqdm import tqdm\n",
    "from random import randrange\n",
    "from transformers import BertForNextSentencePrediction, AutoTokenizer"
   ]
  },
  {
   "cell_type": "code",
   "execution_count": 2,
   "metadata": {},
   "outputs": [],
   "source": [
    "RANDOM_SEED = 42\n",
    "PRE_TRAINED_MODEL_NAME = 'bert-base-cased'\n",
    "\n",
    "MAX_SEQUENCE_LENGTH = 256\n",
    "\n",
    "MODEL_PATH = 'data/best_model_state_10k_8ep_title_desc.bin'\n",
    "BOOKS_PATH = 'data/top_200000_eng_books_filtered.json'\n",
    "NUM_OF_BOOKS_TO_USE = 10000"
   ]
  },
  {
   "cell_type": "code",
   "execution_count": 3,
   "metadata": {},
   "outputs": [
    {
     "output_type": "execute_result",
     "data": {
      "text/plain": [
       "device(type='cuda')"
      ]
     },
     "metadata": {},
     "execution_count": 3
    }
   ],
   "source": [
    "np.random.seed(RANDOM_SEED)\n",
    "torch.manual_seed(RANDOM_SEED)\n",
    "random.seed(RANDOM_SEED)\n",
    "\n",
    "device = torch.device(\"cuda\" if torch.cuda.is_available() else \"cpu\")\n",
    "device"
   ]
  },
  {
   "source": [
    "# Model and tokenizer loading"
   ],
   "cell_type": "markdown",
   "metadata": {}
  },
  {
   "cell_type": "code",
   "execution_count": 4,
   "metadata": {},
   "outputs": [
    {
     "output_type": "stream",
     "name": "stderr",
     "text": [
      "Some weights of the model checkpoint at bert-base-cased were not used when initializing BertForNextSentencePrediction: ['cls.predictions.transform.LayerNorm.bias', 'cls.predictions.transform.LayerNorm.weight', 'cls.predictions.decoder.weight', 'cls.predictions.bias', 'cls.predictions.transform.dense.bias', 'cls.predictions.transform.dense.weight']\n- This IS expected if you are initializing BertForNextSentencePrediction from the checkpoint of a model trained on another task or with another architecture (e.g. initializing a BertForSequenceClassification model from a BertForPreTraining model).\n- This IS NOT expected if you are initializing BertForNextSentencePrediction from the checkpoint of a model that you expect to be exactly identical (initializing a BertForSequenceClassification model from a BertForSequenceClassification model).\n"
     ]
    }
   ],
   "source": [
    "model = BertForNextSentencePrediction.from_pretrained(PRE_TRAINED_MODEL_NAME)\n",
    "model.load_state_dict(torch.load(MODEL_PATH))\n",
    "model = model.to(device)\n",
    "model.eval()\n",
    "\n",
    "tokenizer = AutoTokenizer.from_pretrained(PRE_TRAINED_MODEL_NAME)"
   ]
  },
  {
   "source": [
    "# Books loading"
   ],
   "cell_type": "markdown",
   "metadata": {}
  },
  {
   "cell_type": "code",
   "execution_count": 5,
   "metadata": {},
   "outputs": [],
   "source": [
    "def extract_first_n_books(n):\n",
    "    with open(BOOKS_PATH, 'r') as books_file:\n",
    "        books = json.load(books_file)\n",
    "\n",
    "    all_book_ids = list(books.keys())\n",
    "    books_to_use = {}\n",
    "    for idx in range(n):\n",
    "        book_id = all_book_ids[idx]\n",
    "        books_to_use[book_id] = books[book_id]\n",
    "\n",
    "    return books_to_use, all_book_ids[:n]"
   ]
  },
  {
   "cell_type": "code",
   "execution_count": 6,
   "metadata": {},
   "outputs": [
    {
     "output_type": "stream",
     "name": "stdout",
     "text": [
      "10000 books loaded.\n"
     ]
    }
   ],
   "source": [
    "books, book_ids = extract_first_n_books(NUM_OF_BOOKS_TO_USE)\n",
    "print(f'{len(books)} books loaded.')"
   ]
  },
  {
   "source": [
    "# Books similar to a source one"
   ],
   "cell_type": "markdown",
   "metadata": {}
  },
  {
   "cell_type": "code",
   "execution_count": 7,
   "metadata": {},
   "outputs": [
    {
     "output_type": "stream",
     "name": "stdout",
     "text": [
      "Source book selected: {'book_id': '12429335', 'title': 'Water Sings Blue: Ocean Poems', 'description': 'Come down to the shore with this rich and vivid celebration of the ocean! With watercolors gorgeous enough to wade in by award-winning artist Meilo So and playful, moving poems by Kate Coombs, Water Sings Blue evokes the beauty and power, the depth and mystery, and the endless resonance of the sea.', 'similar_books': ['18166919', '12962487']}\n"
     ]
    }
   ],
   "source": [
    "source_book = book_ids[randrange(len(books))]\n",
    "source_book = books[source_book]\n",
    "\n",
    "print(f'Source book selected: {source_book}')"
   ]
  },
  {
   "cell_type": "code",
   "execution_count": 12,
   "metadata": {},
   "outputs": [],
   "source": [
    "def get_top_k_most_similar(source_book, book_ids, books_data, k=10):\n",
    "    results = []\n",
    "    for book_id in tqdm(book_ids):\n",
    "        book = books_data[book_id]\n",
    "\n",
    "        encoded_sequences = tokenizer(\n",
    "            source_book['description'],\n",
    "            book['description'],\n",
    "            padding='longest',\n",
    "            truncation='longest_first',\n",
    "            return_tensors='pt',\n",
    "            max_length=MAX_SEQUENCE_LENGTH\n",
    "        )\n",
    "\n",
    "        outputs = model(\n",
    "            input_ids=encoded_sequences['input_ids'].to(device),\n",
    "            attention_mask=encoded_sequences['attention_mask'].to(device),\n",
    "            token_type_ids=encoded_sequences['token_type_ids'].to(device)\n",
    "        )\n",
    "        probs = F.softmax(outputs.logits, dim=1)\n",
    "\n",
    "        # Class 0 notes if sent B follows sent A\n",
    "        similarity_score = probs[0][0]\n",
    "        results.append((book_id, similarity_score.detach().item()))\n",
    "    \n",
    "    results.sort(key=lambda pair: pair[1], reverse=True)\n",
    "    return results[:k]"
   ]
  },
  {
   "cell_type": "code",
   "execution_count": 13,
   "metadata": {},
   "outputs": [
    {
     "output_type": "stream",
     "name": "stderr",
     "text": [
      "100%|██████████| 10000/10000 [05:47<00:00, 28.79it/s]\n"
     ]
    }
   ],
   "source": [
    "similar_books = get_top_k_most_similar(source_book, book_ids, books, 10)"
   ]
  },
  {
   "cell_type": "code",
   "execution_count": 14,
   "metadata": {},
   "outputs": [
    {
     "output_type": "stream",
     "name": "stdout",
     "text": [
      "Source book title: Water Sings Blue: Ocean Poems\nSource book description: Come down to the shore with this rich and vivid celebration of the ocean! With watercolors gorgeous enough to wade in by award-winning artist Meilo So and playful, moving poems by Kate Coombs, Water Sings Blue evokes the beauty and power, the depth and mystery, and the endless resonance of the sea.\n\n\nTop 10 most similar books:\n\n1.\nTitle: Water Sings Blue: Ocean Poems\nScore 0-1: 0.9998713731765747\nDescription: Come down to the shore with this rich and vivid celebration of the ocean! With watercolors gorgeous enough to wade in by award-winning artist Meilo So and playful, moving poems by Kate Coombs, Water Sings Blue evokes the beauty and power, the depth and mystery, and the endless resonance of the sea.\n\n2.\nTitle: Whitaker on Watercolor\nScore 0-1: 0.9998642206192017\nDescription: An instruction book of watercolor techniques by watercolorist Frederic Whitaker.\n\n3.\nTitle: Creative Coloring Inspirations: Art Activity Pages to Relax and Enjoy!\nScore 0-1: 0.9998613595962524\nDescription: Life is a wonderful adventure, and all of our dreams can come true! Hold on to your dreams with Color a Doodle Inspirations, the coloring book that offers hope and encouragement on every page. Inside you ll find 30 relaxing activities designed to motivate your creativity and stimulate your spirit. Team up with talented artist Valentina Harper as you personalize her exquisite line drawings. Valentina combines exhilarating words with flowing, intricate, and highly detailed patterns. Best-selling craft author Marie Browning joins in with beautifully colored examples of finished work. Printed on high quality extra-thick paper that won t bleed through, all pages are pre-perforated for easy removal and display. They re perfect for decorating with markers, gel pens, watercolors, or colored pencils.\n\n4.\nTitle: The Incantations of Daniel Johnston\nScore 0-1: 0.9998611211776733\nDescription: \"[The Incantations of Daniel Johnston] captures Johnston's visions--both artistic and hallucinatory--in an intensely colorful cartoonish style and vivid recurring images: frogs, cascades of pills, volcanoes, eyeballs of many varieties.\" --John Williams, New York Times Book Review \"Cavolo's art is lush, cartoonish, and red, red, red--the better to illustrate Johnston's giant heart and big, big love for all the girls in his life who already have boyfriends. [The Incantations of Daniel Johnston] acknowledges the odd ways that society constructs culture and celebrity and how hard it can be to fully capture a life, especially when that person is famous, or \"cult famous,\" as the case may be. But as McClanahan and Cavolo struggle to show the heart of a man who himself struggles to make art and live his life, they show their hearts as well--big, red, and beating.\" --A.V. Club The Incantations of Daniel Johnston is a spirited, eye-popping collaborationg between New York Times-bestselling Spanish artist Ricardo Cavolo and award-winning author Scott McClanahan. Long a fan of Daniel Johnston, the man and his music, Cavolo illustrates Johnston's colorful life, from his humble beginnings as a carnival employee to folk musician in Austin, to his rise to MTV popularity and persistent struggle with personal demons. In addition to being visually very striking, with astoundingly economical prose McClanahan manages to deal with powerful and complex issues, such as how we as a society mythologize troubled artists, while continuing his ongoing exploration of human relationships, and the pliable interaction between reader and writer.\n\n5.\nTitle: Black Raising Cane Over Red: The Poems\nScore 0-1: 0.9998605251312256\nDescription: BLACK RAISING CANE OVER RED Evolved partly from a principle practiced at The World Stage Anassi Writer's workshop. Honor the truth. From that single premise sprang the idea of sharing my personal story and familial history through poetry. That,coupled with growing up in such a colorful time and place like Detroit during the sixties provides historical context that transcends the very essence of this wonderful art form. Mrs. Kirk, my high school English teacher was extremely influential in shaping not only my approach to a literary standard but also the level of commitment imparted to the pursuit of the actual craft. The painting on the front cover of the book is an original work of art created by Carl Overr. The front and rear book cover was designed by Azaan Kamau. Visit Jawanza At: http://jawanzadumisani.wix.com/jawanz... Who is Jawanza? A native Detroiter, Jawanza Dumisani's first full length collection of poems, Black Raising Cane Over Red, celebrates Detroit's turbulent era with provocative fondness. From street wise game to dope house drama, his eloquent, yet gritty style transports you back in time with switchblade precision. Beautifully spun narratives weave a tapestry that plunks you smack dab in the midst of Motown gladness while sharing the intimacy of his family tree. This stunning collection is part I of a two-book project chronicling his early youth followed by Urban Miaffa in 2015, a photo journey documenting Detroit's current struggle to not only survive, but re-emerge from a half century of decay spawned by the civil unrest of the sixties. A perfect coffee table companion, complimented by excerpts from Jawanza's poignant verse and more. Both on Glover Lane Press. Since joining The World Stage Anassi Writer's in 1997, Jawanza Dumisani earned a scholarship in '03 and studied with Suzanne Lummis at UCLA. In '05 he received THE PEN AWARD and was mentored by Chris Abani. He served as Director of Literary Programming at The World Stage from 2005 to 2011 & currently serves as Executive Director of Lady Between The Lines Art Agency. Following publication of his first chapbook Story on FarStarFire Press in 2008. Jawanza Dumisani continues to garner the praise of his peers across southern California and beyond.-Azaan Kamau, CEO-Glover Lane Press Visit Jawanza at http://jawanzadumisani.wix.com/jawanz... Visit Glover Lane Press at http://gloverlanepress.webs.com http://Facebook.com/Gloverlanepress\n\n6.\nTitle: Explorations of the Mirror: The Oil Paintings and Poetry of Bonny Hut\nScore 0-1: 0.9998602867126465\nDescription: Explore the surreal art world of visionary artist, Bonny Hut. Her emotive oil paintings and poetry take the reader on a journey, exploring the mysterious aspects and meaning of life and love.\n\n7.\nTitle: The Yellow House: Vincent Van Gogh and Paul Gauguin Side by Side\nScore 0-1: 0.9998600482940674\nDescription: Beginning with their ambition to found an artists' colony and ending with each artist going his own way, this is the story of how, during autumn 1888, Van Gogh and Gauguin came to live together for two months, in Arles, in the south of France. It is not only the story of their friendship, it is also about how artists generate and share ideas and how they work.\n\n8.\nTitle: Twilight Garden\nScore 0-1: 0.9998596906661987\nDescription: A collection from Sweden's newest coloring book sensation, available in North America for the first time. Maria Trolle's Twilight Gardencoloring book collection sets itself apart from the competition with its romantic sophistication. Striking black endpapers and white-on-black printed imagery dispersed throughout lend this hardbound edition a luxurious feel. Artists will fall head over heels for Twilight Garden Coloring Book's 96 pages brimming with lush gardens, flowers, and fantastic creatures common to a Scandinavian landscape. Complete your collection with the Twilight Garden Artist's Edition,featuring twenty oversized art card drawings to hang on one's wall or share with friends. Twilight Garden 20 Postcardsare ideally priced and perfectly sized.\n\n9.\nTitle: Fugitive Pigments\nScore 0-1: 0.9998575448989868\nDescription: In FUGITIVE PIGMENTS, Ruth Bavetta brings together the worlds of poetry and art. These are ekphrastic poems, instructive poems, poems riffing off the principles of art--the art of living, of shading, perspective, colors; how to create an exquisite corpse, and what one should know about shadows. Bavetta speaks in the voice of Joseph Cornell, addresses Alice Neel, wakes up under a sky painted by Andrea Mantegna. She writes of making art, looking at art, teaching art--teaching us to see.\n\n10.\nTitle: Creative Coloring Flowers: Art Activity Pages to Relax and Enjoy!\nScore 0-1: 0.9998573064804077\nDescription: Inject a little whimsy into your daily grind! Inside are 30 relaxing and creative activities that invite you to lose yourself in floral fantasy. Talented artist Valentina Harper opens up a world of artistic fulfillment in this inspiring coloring book for grown-ups. You don't need to have the skills of an artist to personalize these rich, intricate drawings. Printed on high quality extra-thick paper that won't bleed through, all pages are pre-perforated for easy removal and display. They're perfect for decorating with markers, gel pens, watercolors, or colored pencils. Each activity is designed for creative experimentation. Valentina offers valuable tips on her distinctive, easy-to-learn patterning techniques. And as an added bonus, best-selling craft author Marie Browning joins the fun with beautiful coloring examples. So get your doodle on!\n\n"
     ]
    }
   ],
   "source": [
    "print(f'Source book title: {source_book[\"title\"]}')\n",
    "print(f'Source book description: {source_book[\"description\"]}\\n\\n')\n",
    "\n",
    "print('Top 10 most similar books:\\n')\n",
    "for idx, (book_id, score) in enumerate(similar_books):\n",
    "    similar_book = books[book_id]\n",
    "    print(f'{idx + 1}.')\n",
    "    print(f'Title: {similar_book[\"title\"]}')\n",
    "    print(f'Score 0-1: {score}')\n",
    "    print(f'Description: {similar_book[\"description\"]}\\n')"
   ]
  },
  {
   "cell_type": "code",
   "execution_count": null,
   "metadata": {},
   "outputs": [],
   "source": []
  }
 ]
}