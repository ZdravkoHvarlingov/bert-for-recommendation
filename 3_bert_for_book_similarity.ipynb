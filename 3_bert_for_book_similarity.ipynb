{
 "cells": [
  {
   "cell_type": "code",
   "execution_count": 1,
   "id": "7698a231",
   "metadata": {
    "execution": {
     "iopub.execute_input": "2021-06-24T09:22:53.621110Z",
     "iopub.status.busy": "2021-06-24T09:22:53.620113Z",
     "iopub.status.idle": "2021-06-24T09:22:55.855850Z",
     "shell.execute_reply": "2021-06-24T09:22:55.855850Z"
    },
    "id": "T7y0PthRdHb-",
    "papermill": {
     "duration": 2.269144,
     "end_time": "2021-06-24T09:22:55.855850",
     "exception": false,
     "start_time": "2021-06-24T09:22:53.586706",
     "status": "completed"
    },
    "tags": []
   },
   "outputs": [
    {
     "name": "stdout",
     "output_type": "stream",
     "text": [
      "\u001b[33mWARNING: The directory '/root/.cache/pip' or its parent directory is not owned or is not writable by the current user. The cache has been disabled. Check the permissions and owner of that directory. If executing pip with sudo, you may want sudo's -H flag.\u001b[0m\n",
      "Requirement already satisfied: transformers in /usr/local/lib/python3.6/dist-packages (4.8.1)\n",
      "Requirement already satisfied: numpy>=1.17 in /usr/local/lib/python3.6/dist-packages (from transformers) (1.19.5)\n",
      "Requirement already satisfied: tqdm>=4.27 in /usr/local/lib/python3.6/dist-packages (from transformers) (4.58.0)\n",
      "Requirement already satisfied: requests in /usr/local/lib/python3.6/dist-packages (from transformers) (2.25.1)\n",
      "Requirement already satisfied: filelock in /usr/local/lib/python3.6/dist-packages (from transformers) (3.0.12)\n",
      "Requirement already satisfied: sacremoses in /usr/local/lib/python3.6/dist-packages (from transformers) (0.0.45)\n",
      "Requirement already satisfied: dataclasses in /usr/local/lib/python3.6/dist-packages (from transformers) (0.8)\n",
      "Requirement already satisfied: packaging in /usr/local/lib/python3.6/dist-packages (from transformers) (20.9)\n",
      "Requirement already satisfied: importlib-metadata in /usr/local/lib/python3.6/dist-packages (from transformers) (3.7.0)\n",
      "Requirement already satisfied: tokenizers<0.11,>=0.10.1 in /usr/local/lib/python3.6/dist-packages (from transformers) (0.10.3)\n",
      "Requirement already satisfied: huggingface-hub==0.0.12 in /usr/local/lib/python3.6/dist-packages (from transformers) (0.0.12)\n",
      "Requirement already satisfied: regex!=2019.12.17 in /usr/local/lib/python3.6/dist-packages (from transformers) (2021.4.4)\n",
      "Requirement already satisfied: pyyaml in /usr/local/lib/python3.6/dist-packages (from transformers) (5.4.1)\n",
      "Requirement already satisfied: typing-extensions in /usr/local/lib/python3.6/dist-packages (from huggingface-hub==0.0.12->transformers) (3.7.4.3)\n",
      "Requirement already satisfied: pyparsing>=2.0.2 in /usr/local/lib/python3.6/dist-packages (from packaging->transformers) (2.4.7)\n",
      "Requirement already satisfied: zipp>=0.5 in /usr/local/lib/python3.6/dist-packages (from importlib-metadata->transformers) (3.4.0)\n",
      "Requirement already satisfied: idna<3,>=2.5 in /usr/local/lib/python3.6/dist-packages (from requests->transformers) (2.10)\n",
      "Requirement already satisfied: certifi>=2017.4.17 in /usr/local/lib/python3.6/dist-packages (from requests->transformers) (2020.12.5)\n",
      "Requirement already satisfied: chardet<5,>=3.0.2 in /usr/local/lib/python3.6/dist-packages (from requests->transformers) (4.0.0)\n",
      "Requirement already satisfied: urllib3<1.27,>=1.21.1 in /usr/local/lib/python3.6/dist-packages (from requests->transformers) (1.26.3)\n",
      "Requirement already satisfied: click in /usr/local/lib/python3.6/dist-packages (from sacremoses->transformers) (8.0.1)\n",
      "Requirement already satisfied: joblib in /usr/local/lib/python3.6/dist-packages (from sacremoses->transformers) (1.0.1)\n",
      "Requirement already satisfied: six in /usr/local/lib/python3.6/dist-packages (from sacremoses->transformers) (1.15.0)\n",
      "\u001b[33mWARNING: You are using pip version 21.0.1; however, version 21.1.3 is available.\n",
      "You should consider upgrading via the '/usr/bin/python3.6 -m pip install --upgrade pip' command.\u001b[0m\n"
     ]
    }
   ],
   "source": [
    "import numpy as np\n",
    "import pandas as pd\n",
    "import torch\n",
    "!pip install transformers\n",
    "import transformers\n",
    "\n",
    "import seaborn as sns\n",
    "import torch.nn as nn\n",
    "import torch.nn.functional as F\n",
    "import matplotlib.pyplot as plt\n",
    "\n",
    "from sklearn.metrics import confusion_matrix, classification_report\n",
    "from pylab import rcParams\n",
    "from tqdm.notebook import tqdm\n",
    "from collections import defaultdict\n",
    "from torch.utils.data import Dataset, DataLoader\n",
    "from sklearn.model_selection import train_test_split\n",
    "from transformers import BertForNextSentencePrediction, AutoTokenizer, AdamW, get_linear_schedule_with_warmup\n",
    "\n",
    "rcParams['figure.figsize'] = 12, 8"
   ]
  },
  {
   "cell_type": "code",
   "execution_count": 2,
   "id": "d4a77b6f",
   "metadata": {
    "execution": {
     "iopub.execute_input": "2021-06-24T09:22:55.899215Z",
     "iopub.status.busy": "2021-06-24T09:22:55.898183Z",
     "iopub.status.idle": "2021-06-24T09:22:55.901207Z",
     "shell.execute_reply": "2021-06-24T09:22:55.900214Z"
    },
    "id": "b3dRNW4ddHb_",
    "papermill": {
     "duration": 0.023948,
     "end_time": "2021-06-24T09:22:55.901207",
     "exception": false,
     "start_time": "2021-06-24T09:22:55.877259",
     "status": "completed"
    },
    "tags": []
   },
   "outputs": [],
   "source": [
    "RANDOM_SEED = 42\n",
    "PRE_TRAINED_MODEL_NAME = 'bert-base-cased'\n",
    "\n",
    "DATA_PATH = 'data/similar_book_pairs.csv'\n",
    "NUM_OF_ITEMS = 1000000\n",
    "\n",
    "BATCH_SIZE = 46\n",
    "NUM_EPOCHS = 5\n",
    "MAX_SEQUENCE_LENGTH = 256\n",
    "\n",
    "# Based on the recommended hyperparameters in the BERT paper\n",
    "DROPOUT_RATE = 0.3\n",
    "LEARNING_RATE = 3e-5"
   ]
  },
  {
   "cell_type": "code",
   "execution_count": 3,
   "id": "bd502e41",
   "metadata": {
    "colab": {
     "base_uri": "https://localhost:8080/"
    },
    "execution": {
     "iopub.execute_input": "2021-06-24T09:22:55.942066Z",
     "iopub.status.busy": "2021-06-24T09:22:55.941068Z",
     "iopub.status.idle": "2021-06-24T09:22:55.974360Z",
     "shell.execute_reply": "2021-06-24T09:22:55.973384Z"
    },
    "id": "HU1UMT7bdHcA",
    "outputId": "dcab8a8c-c906-48a0-eb85-d808b464d3dd",
    "papermill": {
     "duration": 0.05623,
     "end_time": "2021-06-24T09:22:55.974360",
     "exception": false,
     "start_time": "2021-06-24T09:22:55.918130",
     "status": "completed"
    },
    "tags": []
   },
   "outputs": [
    {
     "data": {
      "text/plain": [
       "device(type='cuda')"
      ]
     },
     "execution_count": 3,
     "metadata": {},
     "output_type": "execute_result"
    }
   ],
   "source": [
    "np.random.seed(RANDOM_SEED)\n",
    "torch.manual_seed(RANDOM_SEED)\n",
    "\n",
    "device = torch.device(\"cuda\" if torch.cuda.is_available() else \"cpu\")\n",
    "device"
   ]
  },
  {
   "cell_type": "markdown",
   "id": "c28fddd3",
   "metadata": {
    "id": "TShIjNLkdHcB",
    "papermill": {
     "duration": 0.018982,
     "end_time": "2021-06-24T09:22:56.013560",
     "exception": false,
     "start_time": "2021-06-24T09:22:55.994578",
     "status": "completed"
    },
    "tags": []
   },
   "source": [
    "# Book pair datasets and dataloaders"
   ]
  },
  {
   "cell_type": "code",
   "execution_count": 4,
   "id": "8cb89380",
   "metadata": {
    "colab": {
     "base_uri": "https://localhost:8080/",
     "height": 529
    },
    "execution": {
     "iopub.execute_input": "2021-06-24T09:22:56.056475Z",
     "iopub.status.busy": "2021-06-24T09:22:56.056475Z",
     "iopub.status.idle": "2021-06-24T09:23:06.959939Z",
     "shell.execute_reply": "2021-06-24T09:23:06.960969Z"
    },
    "id": "7S0dPRhGdHcB",
    "outputId": "54e2f0bd-9273-4f5b-ffd1-1ecdb23b8745",
    "papermill": {
     "duration": 10.927495,
     "end_time": "2021-06-24T09:23:06.960969",
     "exception": false,
     "start_time": "2021-06-24T09:22:56.033474",
     "status": "completed"
    },
    "tags": []
   },
   "outputs": [
    {
     "data": {
      "text/html": [
       "<div>\n",
       "<style scoped>\n",
       "    .dataframe tbody tr th:only-of-type {\n",
       "        vertical-align: middle;\n",
       "    }\n",
       "\n",
       "    .dataframe tbody tr th {\n",
       "        vertical-align: top;\n",
       "    }\n",
       "\n",
       "    .dataframe thead th {\n",
       "        text-align: right;\n",
       "    }\n",
       "</style>\n",
       "<table border=\"1\" class=\"dataframe\">\n",
       "  <thead>\n",
       "    <tr style=\"text-align: right;\">\n",
       "      <th></th>\n",
       "      <th>pair_id</th>\n",
       "      <th>book1_id</th>\n",
       "      <th>book1_title</th>\n",
       "      <th>book1_description</th>\n",
       "      <th>book2_id</th>\n",
       "      <th>book2_title</th>\n",
       "      <th>book2_description</th>\n",
       "      <th>target_class</th>\n",
       "    </tr>\n",
       "  </thead>\n",
       "  <tbody>\n",
       "    <tr>\n",
       "      <th>0</th>\n",
       "      <td>0</td>\n",
       "      <td>15984348</td>\n",
       "      <td>X-Men, by Brian Wood, Volume 1: Blank Generation</td>\n",
       "      <td>Superstar writer Brian Wood (Wolverine &amp; the X...</td>\n",
       "      <td>16002124</td>\n",
       "      <td>Astonishing X-Men, Volume 11: Weaponized</td>\n",
       "      <td>It's the explosive aftermath to the year's mos...</td>\n",
       "      <td>1</td>\n",
       "    </tr>\n",
       "    <tr>\n",
       "      <th>1</th>\n",
       "      <td>1</td>\n",
       "      <td>15779244</td>\n",
       "      <td>1971 (Mark Miller's One, #10)</td>\n",
       "      <td>100% of the author's proceeds will be donated ...</td>\n",
       "      <td>18270710</td>\n",
       "      <td>The Tiger (The Donkey and the Wall #3)</td>\n",
       "      <td>\"Lost and found...\" The Tiger chronicles the L...</td>\n",
       "      <td>0</td>\n",
       "    </tr>\n",
       "    <tr>\n",
       "      <th>2</th>\n",
       "      <td>2</td>\n",
       "      <td>17338329</td>\n",
       "      <td>Beware of Bad Boy (Beware of Bad Boy, #1)</td>\n",
       "      <td>**Ebook FREE on Amazon, iTunes, Google Play an...</td>\n",
       "      <td>17611210</td>\n",
       "      <td>The Mistress Mistake</td>\n",
       "      <td>Jessica Conway is at the end of her rope. She ...</td>\n",
       "      <td>1</td>\n",
       "    </tr>\n",
       "    <tr>\n",
       "      <th>3</th>\n",
       "      <td>3</td>\n",
       "      <td>32329580</td>\n",
       "      <td>Fur (Becoming, #1)</td>\n",
       "      <td>Have you ever wondered what it's like to becom...</td>\n",
       "      <td>12434408</td>\n",
       "      <td>Goodnight, Angels</td>\n",
       "      <td>Goodnight, rubber duckie. Thank you for the sc...</td>\n",
       "      <td>0</td>\n",
       "    </tr>\n",
       "    <tr>\n",
       "      <th>4</th>\n",
       "      <td>4</td>\n",
       "      <td>18584581</td>\n",
       "      <td>Exposed</td>\n",
       "      <td>Nia doesn't know why the TV show Dirty Rotten ...</td>\n",
       "      <td>17665070</td>\n",
       "      <td>Unearthing Cole</td>\n",
       "      <td>Cole Alston swore he'd never return to his chi...</td>\n",
       "      <td>0</td>\n",
       "    </tr>\n",
       "    <tr>\n",
       "      <th>5</th>\n",
       "      <td>5</td>\n",
       "      <td>30282842</td>\n",
       "      <td>Day Dreamer (Undeadly Secrets Book 2)</td>\n",
       "      <td>Alex Hensley thought that discovering vampires...</td>\n",
       "      <td>12042965</td>\n",
       "      <td>Raphael's Mating</td>\n",
       "      <td>[Siren Classic ManLove: Erotic Alternative Par...</td>\n",
       "      <td>0</td>\n",
       "    </tr>\n",
       "    <tr>\n",
       "      <th>6</th>\n",
       "      <td>6</td>\n",
       "      <td>417803</td>\n",
       "      <td>Shooting Chant (Ella Clah, #5)</td>\n",
       "      <td>Navajo Police Special Investigator Ella Clah i...</td>\n",
       "      <td>22022427</td>\n",
       "      <td>When Lines Are Blurred</td>\n",
       "      <td>J2 Fanfic High school au in which Jensen Ackle...</td>\n",
       "      <td>0</td>\n",
       "    </tr>\n",
       "    <tr>\n",
       "      <th>7</th>\n",
       "      <td>7</td>\n",
       "      <td>21531497</td>\n",
       "      <td>The Laughing Monsters</td>\n",
       "      <td>Denis Johnson's The Laughing Monsters is a hig...</td>\n",
       "      <td>18490553</td>\n",
       "      <td>American Innovations: Stories</td>\n",
       "      <td>A brilliant new collection of short stories fr...</td>\n",
       "      <td>1</td>\n",
       "    </tr>\n",
       "    <tr>\n",
       "      <th>8</th>\n",
       "      <td>8</td>\n",
       "      <td>19462885</td>\n",
       "      <td>The Adventure Continues (Adventure, #2)</td>\n",
       "      <td>Rose and Ian were a match made in heaven. Or s...</td>\n",
       "      <td>25088474</td>\n",
       "      <td>Senses Series Box Set (Senses #1-5)</td>\n",
       "      <td>This box set contains Senses Series Books 1-5....</td>\n",
       "      <td>0</td>\n",
       "    </tr>\n",
       "    <tr>\n",
       "      <th>9</th>\n",
       "      <td>9</td>\n",
       "      <td>31867595</td>\n",
       "      <td>Dreaming of Love  (The Bradens at Trusty #5; T...</td>\n",
       "      <td>DREAMING OF LOVE is a USA TODAY BESTSELLER Emi...</td>\n",
       "      <td>22031611</td>\n",
       "      <td>Man from the Sky</td>\n",
       "      <td>For seventy-three-year-old Jaime, the answer t...</td>\n",
       "      <td>0</td>\n",
       "    </tr>\n",
       "  </tbody>\n",
       "</table>\n",
       "</div>"
      ],
      "text/plain": [
       "   pair_id  book1_id                                        book1_title  \\\n",
       "0        0  15984348   X-Men, by Brian Wood, Volume 1: Blank Generation   \n",
       "1        1  15779244                      1971 (Mark Miller's One, #10)   \n",
       "2        2  17338329          Beware of Bad Boy (Beware of Bad Boy, #1)   \n",
       "3        3  32329580                                 Fur (Becoming, #1)   \n",
       "4        4  18584581                                            Exposed   \n",
       "5        5  30282842              Day Dreamer (Undeadly Secrets Book 2)   \n",
       "6        6    417803                     Shooting Chant (Ella Clah, #5)   \n",
       "7        7  21531497                              The Laughing Monsters   \n",
       "8        8  19462885            The Adventure Continues (Adventure, #2)   \n",
       "9        9  31867595  Dreaming of Love  (The Bradens at Trusty #5; T...   \n",
       "\n",
       "                                   book1_description  book2_id  \\\n",
       "0  Superstar writer Brian Wood (Wolverine & the X...  16002124   \n",
       "1  100% of the author's proceeds will be donated ...  18270710   \n",
       "2  **Ebook FREE on Amazon, iTunes, Google Play an...  17611210   \n",
       "3  Have you ever wondered what it's like to becom...  12434408   \n",
       "4  Nia doesn't know why the TV show Dirty Rotten ...  17665070   \n",
       "5  Alex Hensley thought that discovering vampires...  12042965   \n",
       "6  Navajo Police Special Investigator Ella Clah i...  22022427   \n",
       "7  Denis Johnson's The Laughing Monsters is a hig...  18490553   \n",
       "8  Rose and Ian were a match made in heaven. Or s...  25088474   \n",
       "9  DREAMING OF LOVE is a USA TODAY BESTSELLER Emi...  22031611   \n",
       "\n",
       "                                book2_title  \\\n",
       "0  Astonishing X-Men, Volume 11: Weaponized   \n",
       "1    The Tiger (The Donkey and the Wall #3)   \n",
       "2                      The Mistress Mistake   \n",
       "3                         Goodnight, Angels   \n",
       "4                           Unearthing Cole   \n",
       "5                          Raphael's Mating   \n",
       "6                    When Lines Are Blurred   \n",
       "7             American Innovations: Stories   \n",
       "8       Senses Series Box Set (Senses #1-5)   \n",
       "9                          Man from the Sky   \n",
       "\n",
       "                                   book2_description  target_class  \n",
       "0  It's the explosive aftermath to the year's mos...             1  \n",
       "1  \"Lost and found...\" The Tiger chronicles the L...             0  \n",
       "2  Jessica Conway is at the end of her rope. She ...             1  \n",
       "3  Goodnight, rubber duckie. Thank you for the sc...             0  \n",
       "4  Cole Alston swore he'd never return to his chi...             0  \n",
       "5  [Siren Classic ManLove: Erotic Alternative Par...             0  \n",
       "6  J2 Fanfic High school au in which Jensen Ackle...             0  \n",
       "7  A brilliant new collection of short stories fr...             1  \n",
       "8  This box set contains Senses Series Books 1-5....             0  \n",
       "9  For seventy-three-year-old Jaime, the answer t...             0  "
      ]
     },
     "execution_count": 4,
     "metadata": {},
     "output_type": "execute_result"
    }
   ],
   "source": [
    "book_pairs_df = pd.read_csv(DATA_PATH).dropna()\n",
    "book_pairs_df = book_pairs_df.head(NUM_OF_ITEMS)\n",
    "book_pairs_df.head(10)"
   ]
  },
  {
   "cell_type": "code",
   "execution_count": 5,
   "id": "objective-springfield",
   "metadata": {},
   "outputs": [
    {
     "data": {
      "image/png": "[encoded data removed]",
      "text/plain": [
       "<Figure size 864x576 with 1 Axes>"
      ]
     },
     "metadata": {
      "needs_background": "light"
     },
     "output_type": "display_data"
    }
   ],
   "source": [
    "ax = sns.countplot(x=book_pairs_df['target_class'])\n",
    "plt.xlabel('Records per target class of book pairs')\n",
    "ax.set_xticklabels(['non similar', 'similar']);"
   ]
  },
  {
   "cell_type": "code",
   "execution_count": 6,
   "id": "49f45276",
   "metadata": {
    "execution": {
     "iopub.execute_input": "2021-06-24T09:23:07.018117Z",
     "iopub.status.busy": "2021-06-24T09:23:07.017113Z",
     "iopub.status.idle": "2021-06-24T09:23:07.021103Z",
     "shell.execute_reply": "2021-06-24T09:23:07.021103Z"
    },
    "id": "01oFymlZdHcC",
    "papermill": {
     "duration": 0.03735,
     "end_time": "2021-06-24T09:23:07.022100",
     "exception": false,
     "start_time": "2021-06-24T09:23:06.984750",
     "status": "completed"
    },
    "tags": []
   },
   "outputs": [],
   "source": [
    "class SimilarBooksDataset(Dataset):\n",
    "\n",
    "    def __init__(self, book_pairs_df):\n",
    "        self.book_pairs_df = book_pairs_df\n",
    "  \n",
    "    def __len__(self):\n",
    "        return len(self.book_pairs_df)\n",
    "  \n",
    "    def __getitem__(self, item):\n",
    "        pair = self.book_pairs_df.iloc[item]\n",
    "    \n",
    "        return {\n",
    "            'book1_sequence': pair[\"book1_description\"],\n",
    "            'book2_sequence': pair[\"book2_description\"],\n",
    "            'target_class': 1 - pair['target_class']  # Here we use 1 - target_class because BERT takes class 0 as positive(B is after A) and 1 as negative(B is random)\n",
    "        }"
   ]
  },
  {
   "cell_type": "code",
   "execution_count": 7,
   "id": "2423c08f",
   "metadata": {
    "execution": {
     "iopub.execute_input": "2021-06-24T09:23:07.093930Z",
     "iopub.status.busy": "2021-06-24T09:23:07.092932Z",
     "iopub.status.idle": "2021-06-24T09:23:07.096922Z",
     "shell.execute_reply": "2021-06-24T09:23:07.096922Z"
    },
    "id": "-r3bhK3PdHcC",
    "papermill": {
     "duration": 0.038914,
     "end_time": "2021-06-24T09:23:07.096922",
     "exception": false,
     "start_time": "2021-06-24T09:23:07.058008",
     "status": "completed"
    },
    "tags": []
   },
   "outputs": [],
   "source": [
    "class SequenceCollate:\n",
    "    \"\"\"\n",
    "    Collate to tokenize and apply the padding to the sequences with dataloader\n",
    "    \"\"\"\n",
    "    def __init__(self):\n",
    "        self.tokenizer = AutoTokenizer.from_pretrained(PRE_TRAINED_MODEL_NAME)\n",
    "    \n",
    "    def __call__(self, batch):\n",
    "        book1_sequences, book2_sequences, target_classes = [], [], []\n",
    "        for pair in batch:\n",
    "            book1_sequences.append(pair['book1_sequence'])\n",
    "            book2_sequences.append(pair['book2_sequence'])\n",
    "            target_classes.append(pair['target_class'])\n",
    "\n",
    "        encoded_sequences = self.tokenizer(\n",
    "            book1_sequences,\n",
    "            book2_sequences,\n",
    "            padding='longest',\n",
    "            truncation='longest_first',\n",
    "            return_tensors='pt',\n",
    "            max_length=MAX_SEQUENCE_LENGTH\n",
    "        )\n",
    "\n",
    "        return {\n",
    "            'input_ids': encoded_sequences['input_ids'],\n",
    "            'attention_mask': encoded_sequences['attention_mask'],\n",
    "            'token_type_ids': encoded_sequences['token_type_ids'],\n",
    "            'labels': torch.as_tensor(target_classes, dtype=torch.long)\n",
    "        }"
   ]
  },
  {
   "cell_type": "code",
   "execution_count": 8,
   "id": "71cd4c4e",
   "metadata": {
    "execution": {
     "iopub.execute_input": "2021-06-24T09:23:07.150779Z",
     "iopub.status.busy": "2021-06-24T09:23:07.149782Z",
     "iopub.status.idle": "2021-06-24T09:23:07.153770Z",
     "shell.execute_reply": "2021-06-24T09:23:07.153770Z"
    },
    "id": "3TB0wqsLdHcD",
    "papermill": {
     "duration": 0.034908,
     "end_time": "2021-06-24T09:23:07.153770",
     "exception": false,
     "start_time": "2021-06-24T09:23:07.118862",
     "status": "completed"
    },
    "tags": []
   },
   "outputs": [],
   "source": [
    "def create_data_loader(df, batch_size, mode='train'):\n",
    "    dataset = SimilarBooksDataset(\n",
    "        book_pairs_df=df\n",
    "    )\n",
    "\n",
    "    should_shuffle = mode == 'train'\n",
    "    return DataLoader(\n",
    "        dataset,\n",
    "        batch_size=batch_size,\n",
    "        num_workers=0,\n",
    "        collate_fn=SequenceCollate(),\n",
    "        shuffle=should_shuffle\n",
    "    )"
   ]
  },
  {
   "cell_type": "code",
   "execution_count": 9,
   "id": "f7e95c6d",
   "metadata": {
    "execution": {
     "iopub.execute_input": "2021-06-24T09:23:07.225576Z",
     "iopub.status.busy": "2021-06-24T09:23:07.224579Z",
     "iopub.status.idle": "2021-06-24T09:23:07.228569Z",
     "shell.execute_reply": "2021-06-24T09:23:07.228569Z"
    },
    "id": "vkW-HGY8dHcE",
    "papermill": {
     "duration": 0.043881,
     "end_time": "2021-06-24T09:23:07.228569",
     "exception": false,
     "start_time": "2021-06-24T09:23:07.184688",
     "status": "completed"
    },
    "tags": []
   },
   "outputs": [],
   "source": [
    "df_train, df_test = train_test_split(book_pairs_df, test_size=0.2, random_state=RANDOM_SEED)\n",
    "df_val, df_test = train_test_split(df_test, test_size=0.5, random_state=RANDOM_SEED)"
   ]
  },
  {
   "cell_type": "code",
   "execution_count": 10,
   "id": "1c16ffc2",
   "metadata": {
    "colab": {
     "base_uri": "https://localhost:8080/"
    },
    "execution": {
     "iopub.execute_input": "2021-06-24T09:23:07.281881Z",
     "iopub.status.busy": "2021-06-24T09:23:07.280854Z",
     "iopub.status.idle": "2021-06-24T09:23:07.289843Z",
     "shell.execute_reply": "2021-06-24T09:23:07.288840Z"
    },
    "id": "RWRBIYyBdHcE",
    "outputId": "78574cfb-9494-4538-9a9f-6be67f21d75a",
    "papermill": {
     "duration": 0.030933,
     "end_time": "2021-06-24T09:23:07.289843",
     "exception": false,
     "start_time": "2021-06-24T09:23:07.258910",
     "status": "completed"
    },
    "tags": []
   },
   "outputs": [
    {
     "name": "stdout",
     "output_type": "stream",
     "text": [
      "Train shape     : (441693, 8)\n",
      "Validation shape: (55212, 8)\n",
      "Test shape      : (55212, 8)\n"
     ]
    }
   ],
   "source": [
    "print(f'Train shape     : {df_train.shape}')\n",
    "print(f'Validation shape: {df_val.shape}')\n",
    "print(f'Test shape      : {df_test.shape}')"
   ]
  },
  {
   "cell_type": "code",
   "execution_count": 11,
   "id": "b0ff11cd",
   "metadata": {
    "execution": {
     "iopub.execute_input": "2021-06-24T09:23:07.335707Z",
     "iopub.status.busy": "2021-06-24T09:23:07.335707Z",
     "iopub.status.idle": "2021-06-24T09:23:16.850511Z",
     "shell.execute_reply": "2021-06-24T09:23:16.850511Z"
    },
    "id": "igOTBd4ZdHcF",
    "papermill": {
     "duration": 9.53874,
     "end_time": "2021-06-24T09:23:16.850511",
     "exception": false,
     "start_time": "2021-06-24T09:23:07.311771",
     "status": "completed"
    },
    "tags": []
   },
   "outputs": [],
   "source": [
    "train_data_loader = create_data_loader(df_train.head(1000000), BATCH_SIZE, mode='train')\n",
    "val_data_loader = create_data_loader(df_val, BATCH_SIZE, mode='eval')\n",
    "test_data_loader = create_data_loader(df_test, BATCH_SIZE, mode='eval')"
   ]
  },
  {
   "cell_type": "markdown",
   "id": "8e554473",
   "metadata": {
    "id": "psVDyev_dHcF",
    "papermill": {
     "duration": 0.025931,
     "end_time": "2021-06-24T09:23:16.907360",
     "exception": false,
     "start_time": "2021-06-24T09:23:16.881429",
     "status": "completed"
    },
    "tags": []
   },
   "source": [
    "### Example data"
   ]
  },
  {
   "cell_type": "code",
   "execution_count": 12,
   "id": "67d58d5a",
   "metadata": {
    "colab": {
     "base_uri": "https://localhost:8080/"
    },
    "execution": {
     "iopub.execute_input": "2021-06-24T09:23:16.969203Z",
     "iopub.status.busy": "2021-06-24T09:23:16.968236Z",
     "iopub.status.idle": "2021-06-24T09:23:16.979169Z",
     "shell.execute_reply": "2021-06-24T09:23:16.979169Z"
    },
    "id": "i2cjmjoNdHcG",
    "outputId": "bef1b92a-a0b5-4114-823a-2ad0f3ada5e1",
    "papermill": {
     "duration": 0.041888,
     "end_time": "2021-06-24T09:23:16.979169",
     "exception": false,
     "start_time": "2021-06-24T09:23:16.937281",
     "status": "completed"
    },
    "tags": []
   },
   "outputs": [
    {
     "data": {
      "text/plain": [
       "dict_keys(['input_ids', 'attention_mask', 'token_type_ids', 'labels'])"
      ]
     },
     "execution_count": 12,
     "metadata": {},
     "output_type": "execute_result"
    }
   ],
   "source": [
    "data = next(iter(train_data_loader))\n",
    "data.keys()"
   ]
  },
  {
   "cell_type": "code",
   "execution_count": 13,
   "id": "547ce243",
   "metadata": {
    "colab": {
     "base_uri": "https://localhost:8080/"
    },
    "execution": {
     "iopub.execute_input": "2021-06-24T09:23:17.027039Z",
     "iopub.status.busy": "2021-06-24T09:23:17.026042Z",
     "iopub.status.idle": "2021-06-24T09:23:17.031030Z",
     "shell.execute_reply": "2021-06-24T09:23:17.031030Z"
    },
    "id": "Nt0-3PU8dHcG",
    "outputId": "a674ad2a-5ae0-4a3e-e160-73207b664d21",
    "papermill": {
     "duration": 0.029921,
     "end_time": "2021-06-24T09:23:17.031030",
     "exception": false,
     "start_time": "2021-06-24T09:23:17.001109",
     "status": "completed"
    },
    "tags": []
   },
   "outputs": [
    {
     "name": "stdout",
     "output_type": "stream",
     "text": [
      "torch.Size([46, 256])\n",
      "torch.Size([46, 256])\n",
      "torch.Size([46, 256])\n",
      "torch.Size([46])\n",
      "Target classes: tensor([1, 0, 0, 0, 0, 0, 1, 1, 0, 1, 0, 1, 0, 0, 1, 0, 1, 1, 1, 1, 0, 1, 1, 0,\n",
      "        1, 0, 0, 0, 0, 0, 1, 1, 0, 0, 0, 0, 1, 1, 1, 1, 1, 1, 1, 0, 1, 0])\n"
     ]
    }
   ],
   "source": [
    "print(data['input_ids'].shape)\n",
    "print(data['attention_mask'].shape)\n",
    "print(data['token_type_ids'].shape)\n",
    "print(data['labels'].shape)\n",
    "\n",
    "print(f'Target classes: {data[\"labels\"]}')"
   ]
  },
  {
   "cell_type": "markdown",
   "id": "835b479c",
   "metadata": {
    "id": "qQaQl8ncdHcI",
    "papermill": {
     "duration": 0.021941,
     "end_time": "2021-06-24T09:23:17.075908",
     "exception": false,
     "start_time": "2021-06-24T09:23:17.053967",
     "status": "completed"
    },
    "tags": []
   },
   "source": [
    "# BERT for book similarity training"
   ]
  },
  {
   "cell_type": "code",
   "execution_count": 14,
   "id": "1766ec1a",
   "metadata": {
    "colab": {
     "base_uri": "https://localhost:8080/"
    },
    "execution": {
     "iopub.execute_input": "2021-06-24T09:23:17.123780Z",
     "iopub.status.busy": "2021-06-24T09:23:17.123780Z",
     "iopub.status.idle": "2021-06-24T09:23:21.537265Z",
     "shell.execute_reply": "2021-06-24T09:23:21.536267Z"
    },
    "id": "wlaBMzMgdHcJ",
    "outputId": "528fcaec-6fc1-408f-a3ee-694ae69c7af2",
    "papermill": {
     "duration": 4.439368,
     "end_time": "2021-06-24T09:23:21.537265",
     "exception": false,
     "start_time": "2021-06-24T09:23:17.097897",
     "status": "completed"
    },
    "tags": []
   },
   "outputs": [
    {
     "name": "stderr",
     "output_type": "stream",
     "text": [
      "Some weights of the model checkpoint at bert-base-cased were not used when initializing BertForNextSentencePrediction: ['cls.predictions.transform.LayerNorm.bias', 'cls.predictions.transform.dense.weight', 'cls.predictions.transform.LayerNorm.weight', 'cls.predictions.transform.dense.bias', 'cls.predictions.decoder.weight', 'cls.predictions.bias']\n",
      "- This IS expected if you are initializing BertForNextSentencePrediction from the checkpoint of a model trained on another task or with another architecture (e.g. initializing a BertForSequenceClassification model from a BertForPreTraining model).\n",
      "- This IS NOT expected if you are initializing BertForNextSentencePrediction from the checkpoint of a model that you expect to be exactly identical (initializing a BertForSequenceClassification model from a BertForSequenceClassification model).\n"
     ]
    }
   ],
   "source": [
    "model = BertForNextSentencePrediction.from_pretrained(PRE_TRAINED_MODEL_NAME)\n",
    "model = model.to(device)"
   ]
  },
  {
   "cell_type": "markdown",
   "id": "a6ed3701",
   "metadata": {
    "id": "PRoT2GoOdHcJ",
    "papermill": {
     "duration": 0.019944,
     "end_time": "2021-06-24T09:23:21.582873",
     "exception": false,
     "start_time": "2021-06-24T09:23:21.562929",
     "status": "completed"
    },
    "tags": []
   },
   "source": [
    "### Example forward"
   ]
  },
  {
   "cell_type": "code",
   "execution_count": 15,
   "id": "85314d1a",
   "metadata": {
    "colab": {
     "base_uri": "https://localhost:8080/"
    },
    "execution": {
     "iopub.execute_input": "2021-06-24T09:23:21.631718Z",
     "iopub.status.busy": "2021-06-24T09:23:21.631718Z",
     "iopub.status.idle": "2021-06-24T09:23:21.637701Z",
     "shell.execute_reply": "2021-06-24T09:23:21.637701Z"
    },
    "id": "4OSKubccdHcK",
    "outputId": "c11bac34-0d05-4dfd-8ce7-c5e4502370b1",
    "papermill": {
     "duration": 0.032913,
     "end_time": "2021-06-24T09:23:21.638732",
     "exception": false,
     "start_time": "2021-06-24T09:23:21.605819",
     "status": "completed"
    },
    "tags": []
   },
   "outputs": [
    {
     "name": "stdout",
     "output_type": "stream",
     "text": [
      "torch.Size([46, 256])\n",
      "torch.Size([46, 256])\n",
      "torch.Size([46, 256])\n",
      "torch.Size([46])\n"
     ]
    }
   ],
   "source": [
    "input_ids = data['input_ids'].to(device)\n",
    "attention_mask = data['attention_mask'].to(device)\n",
    "token_type_ids = data['token_type_ids'].to(device)\n",
    "target_classes = data['labels'].to(device)\n",
    "\n",
    "print(input_ids.shape) # batch size x seq length\n",
    "print(attention_mask.shape) # batch size x seq length\n",
    "print(token_type_ids.shape) # batch size x seq length\n",
    "print(target_classes.shape) # batch size x 1"
   ]
  },
  {
   "cell_type": "code",
   "execution_count": 16,
   "id": "2dae9a9b",
   "metadata": {
    "colab": {
     "base_uri": "https://localhost:8080/"
    },
    "execution": {
     "iopub.execute_input": "2021-06-24T09:23:21.694550Z",
     "iopub.status.busy": "2021-06-24T09:23:21.693557Z",
     "iopub.status.idle": "2021-06-24T09:23:21.999524Z",
     "shell.execute_reply": "2021-06-24T09:23:21.998526Z"
    },
    "id": "ZW2ltvwydHcK",
    "outputId": "77ae8bde-99c4-4a7b-be86-69e30e3cad5d",
    "papermill": {
     "duration": 0.33888,
     "end_time": "2021-06-24T09:23:21.999524",
     "exception": false,
     "start_time": "2021-06-24T09:23:21.660644",
     "status": "completed"
    },
    "tags": []
   },
   "outputs": [
    {
     "name": "stdout",
     "output_type": "stream",
     "text": [
      "0.8809919953346252\n"
     ]
    }
   ],
   "source": [
    "torch.cuda.empty_cache()\n",
    "model.train()\n",
    "\n",
    "outputs = model(\n",
    "    input_ids=input_ids,\n",
    "    attention_mask=attention_mask,\n",
    "    token_type_ids=token_type_ids,\n",
    "    labels=target_classes\n",
    ")\n",
    "\n",
    "print(outputs.loss.detach().item())"
   ]
  },
  {
   "cell_type": "markdown",
   "id": "ecc00b4e",
   "metadata": {
    "id": "QvC83X7RdHcL",
    "papermill": {
     "duration": 0.020945,
     "end_time": "2021-06-24T09:23:22.042410",
     "exception": false,
     "start_time": "2021-06-24T09:23:22.021465",
     "status": "completed"
    },
    "tags": []
   },
   "source": [
    "### Actual training"
   ]
  },
  {
   "cell_type": "code",
   "execution_count": 17,
   "id": "b2afae99",
   "metadata": {
    "execution": {
     "iopub.execute_input": "2021-06-24T09:23:22.092290Z",
     "iopub.status.busy": "2021-06-24T09:23:22.091280Z",
     "iopub.status.idle": "2021-06-24T09:23:22.101252Z",
     "shell.execute_reply": "2021-06-24T09:23:22.100255Z"
    },
    "id": "h4zfs5P5dHcL",
    "papermill": {
     "duration": 0.034906,
     "end_time": "2021-06-24T09:23:22.101252",
     "exception": false,
     "start_time": "2021-06-24T09:23:22.066346",
     "status": "completed"
    },
    "tags": []
   },
   "outputs": [],
   "source": [
    "# This setup is recommended for BERT training by the authors\n",
    "# Batch size: 16, 32\n",
    "# Learning rate (Adam): 5e-5, 3e-5, 2e-5\n",
    "# Number of epochs: 2, 3, 4\n",
    "\n",
    "optimizer = AdamW(model.parameters(), lr=LEARNING_RATE)\n",
    "total_steps = len(train_data_loader) * NUM_EPOCHS\n",
    "\n",
    "scheduler = get_linear_schedule_with_warmup(\n",
    "    optimizer,\n",
    "    num_warmup_steps=0,\n",
    "    num_training_steps=total_steps\n",
    ")"
   ]
  },
  {
   "cell_type": "code",
   "execution_count": 18,
   "id": "bed47c74",
   "metadata": {
    "execution": {
     "iopub.execute_input": "2021-06-24T09:23:22.154147Z",
     "iopub.status.busy": "2021-06-24T09:23:22.154147Z",
     "iopub.status.idle": "2021-06-24T09:23:22.156139Z",
     "shell.execute_reply": "2021-06-24T09:23:22.155126Z"
    },
    "id": "XwFjZ5F4dHcM",
    "papermill": {
     "duration": 0.031947,
     "end_time": "2021-06-24T09:23:22.156139",
     "exception": false,
     "start_time": "2021-06-24T09:23:22.124192",
     "status": "completed"
    },
    "tags": []
   },
   "outputs": [],
   "source": [
    "def train_epoch(model, data_loader, optimizer, scheduler):\n",
    "    model = model.train()\n",
    "\n",
    "    losses = []\n",
    "    correct_predictions = 0\n",
    "    all_predictions = 0\n",
    "\n",
    "    for d in tqdm(data_loader):\n",
    "        input_ids = d[\"input_ids\"].to(device)\n",
    "        attention_masks = d[\"attention_mask\"].to(device)\n",
    "        token_type_ids = d[\"token_type_ids\"].to(device)\n",
    "        targets = d[\"labels\"].to(device)\n",
    "\n",
    "        outputs = model(\n",
    "            input_ids=input_ids,\n",
    "            token_type_ids=token_type_ids,\n",
    "            attention_mask=attention_masks,\n",
    "            labels=targets\n",
    "        )\n",
    "        \n",
    "        loss = outputs.loss\n",
    "        loss.backward()\n",
    "        nn.utils.clip_grad_norm_(model.parameters(), max_norm=1.0)\n",
    "\n",
    "        optimizer.step()\n",
    "        scheduler.step()\n",
    "\n",
    "        losses.append(loss.detach().item())\n",
    "        \n",
    "        all_predictions += input_ids.shape[0]\n",
    "        predicted_classes = torch.argmax(outputs.logits, dim=1)\n",
    "        correct_predictions += torch.sum(predicted_classes == targets)\n",
    "\n",
    "        optimizer.zero_grad()\n",
    "    \n",
    "    accuracy = correct_predictions.double() / all_predictions\n",
    "    return accuracy.detach().item(), np.mean(losses)"
   ]
  },
  {
   "cell_type": "code",
   "execution_count": 19,
   "id": "dbbacf9f",
   "metadata": {
    "execution": {
     "iopub.execute_input": "2021-06-24T09:23:22.208963Z",
     "iopub.status.busy": "2021-06-24T09:23:22.207966Z",
     "iopub.status.idle": "2021-06-24T09:23:22.212993Z",
     "shell.execute_reply": "2021-06-24T09:23:22.211957Z"
    },
    "id": "ntfECjUzdHcM",
    "papermill": {
     "duration": 0.033949,
     "end_time": "2021-06-24T09:23:22.212993",
     "exception": false,
     "start_time": "2021-06-24T09:23:22.179044",
     "status": "completed"
    },
    "tags": []
   },
   "outputs": [],
   "source": [
    "def eval_model(model, data_loader):\n",
    "    model = model.eval()\n",
    "\n",
    "    losses = []\n",
    "    correct_predictions = 0\n",
    "    all_predictions = 0\n",
    "\n",
    "    with torch.no_grad():\n",
    "        for d in tqdm(data_loader):\n",
    "            input_ids = d[\"input_ids\"].to(device)\n",
    "            attention_masks = d[\"attention_mask\"].to(device)\n",
    "            token_type_ids = d[\"token_type_ids\"].to(device)\n",
    "            targets = d[\"labels\"].to(device)\n",
    "\n",
    "            outputs = model(\n",
    "                input_ids=input_ids,\n",
    "                token_type_ids=token_type_ids,\n",
    "                attention_mask=attention_masks,\n",
    "                labels=targets\n",
    "            )\n",
    "\n",
    "            loss = outputs.loss\n",
    "            losses.append(loss.detach().item())\n",
    "\n",
    "            all_predictions += input_ids.shape[0]\n",
    "            predicted_classes = torch.argmax(outputs.logits, dim=1)\n",
    "            correct_predictions += torch.sum(predicted_classes == targets)\n",
    "\n",
    "    accuracy = correct_predictions.double() / all_predictions\n",
    "    return accuracy.detach().item(), np.mean(losses)"
   ]
  },
  {
   "cell_type": "code",
   "execution_count": 20,
   "id": "bb3d16e3",
   "metadata": {
    "colab": {
     "base_uri": "https://localhost:8080/"
    },
    "execution": {
     "iopub.execute_input": "2021-06-24T09:23:22.265813Z",
     "iopub.status.busy": "2021-06-24T09:23:22.263819Z",
     "iopub.status.idle": "2021-06-24T09:24:48.226054Z",
     "shell.execute_reply": "2021-06-24T09:24:48.226054Z"
    },
    "id": "XvTvCUU6dHcN",
    "outputId": "7ac9ae00-904f-4eff-c398-dd06e582df7d",
    "papermill": {
     "duration": 85.991127,
     "end_time": "2021-06-24T09:24:48.227020",
     "exception": false,
     "start_time": "2021-06-24T09:23:22.235893",
     "status": "completed"
    },
    "scrolled": false,
    "tags": []
   },
   "outputs": [
    {
     "name": "stdout",
     "output_type": "stream",
     "text": [
      "Epoch 1/5\n",
      "####################################################################################################\n"
     ]
    },
    {
     "data": {
      "application/vnd.jupyter.widget-view+json": {
       "model_id": "affc12a4079740ac832420db449adda0",
       "version_major": 2,
       "version_minor": 0
      },
      "text/plain": [
       "  0%|          | 0/9603 [00:00<?, ?it/s]"
      ]
     },
     "metadata": {},
     "output_type": "display_data"
    },
    {
     "name": "stderr",
     "output_type": "stream",
     "text": [
      "IOPub message rate exceeded.\n",
      "The notebook server will temporarily stop sending output\n",
      "to the client in order to avoid crashing it.\n",
      "To change this limit, set the config variable\n",
      "`--NotebookApp.iopub_msg_rate_limit`.\n",
      "\n",
      "Current values:\n",
      "NotebookApp.iopub_msg_rate_limit=1000.0 (msgs/sec)\n",
      "NotebookApp.rate_limit_window=3.0 (secs)\n",
      "\n",
      "IOPub message rate exceeded.\n",
      "The notebook server will temporarily stop sending output\n",
      "to the client in order to avoid crashing it.\n",
      "To change this limit, set the config variable\n",
      "`--NotebookApp.iopub_msg_rate_limit`.\n",
      "\n",
      "Current values:\n",
      "NotebookApp.iopub_msg_rate_limit=1000.0 (msgs/sec)\n",
      "NotebookApp.rate_limit_window=3.0 (secs)\n",
      "\n"
     ]
    },
    {
     "name": "stdout",
     "output_type": "stream",
     "text": [
      "Validation loss 0.264301736506445 accuracy 0.891436644207781\n",
      "\n",
      "Epoch 2/5\n",
      "####################################################################################################\n"
     ]
    },
    {
     "data": {
      "application/vnd.jupyter.widget-view+json": {
       "model_id": "1522b320d30c41cca815afba5aedc3a6",
       "version_major": 2,
       "version_minor": 0
      },
      "text/plain": [
       "  0%|          | 0/9603 [00:00<?, ?it/s]"
      ]
     },
     "metadata": {},
     "output_type": "display_data"
    },
    {
     "name": "stderr",
     "output_type": "stream",
     "text": [
      "IOPub message rate exceeded.\n",
      "The notebook server will temporarily stop sending output\n",
      "to the client in order to avoid crashing it.\n",
      "To change this limit, set the config variable\n",
      "`--NotebookApp.iopub_msg_rate_limit`.\n",
      "\n",
      "Current values:\n",
      "NotebookApp.iopub_msg_rate_limit=1000.0 (msgs/sec)\n",
      "NotebookApp.rate_limit_window=3.0 (secs)\n",
      "\n",
      "IOPub message rate exceeded.\n",
      "The notebook server will temporarily stop sending output\n",
      "to the client in order to avoid crashing it.\n",
      "To change this limit, set the config variable\n",
      "`--NotebookApp.iopub_msg_rate_limit`.\n",
      "\n",
      "Current values:\n",
      "NotebookApp.iopub_msg_rate_limit=1000.0 (msgs/sec)\n",
      "NotebookApp.rate_limit_window=3.0 (secs)\n",
      "\n"
     ]
    },
    {
     "name": "stdout",
     "output_type": "stream",
     "text": [
      "Train loss 0.1821302213812466 accuracy 0.9302569884512547\n"
     ]
    },
    {
     "data": {
      "application/vnd.jupyter.widget-view+json": {
       "model_id": "c145b252b9ec45bb95ddac4efad7df2d",
       "version_major": 2,
       "version_minor": 0
      },
      "text/plain": [
       "  0%|          | 0/1201 [00:00<?, ?it/s]"
      ]
     },
     "metadata": {},
     "output_type": "display_data"
    },
    {
     "name": "stderr",
     "output_type": "stream",
     "text": [
      "IOPub message rate exceeded.\n",
      "The notebook server will temporarily stop sending output\n",
      "to the client in order to avoid crashing it.\n",
      "To change this limit, set the config variable\n",
      "`--NotebookApp.iopub_msg_rate_limit`.\n",
      "\n",
      "Current values:\n",
      "NotebookApp.iopub_msg_rate_limit=1000.0 (msgs/sec)\n",
      "NotebookApp.rate_limit_window=3.0 (secs)\n",
      "\n",
      "IOPub message rate exceeded.\n",
      "The notebook server will temporarily stop sending output\n",
      "to the client in order to avoid crashing it.\n",
      "To change this limit, set the config variable\n",
      "`--NotebookApp.iopub_msg_rate_limit`.\n",
      "\n",
      "Current values:\n",
      "NotebookApp.iopub_msg_rate_limit=1000.0 (msgs/sec)\n",
      "NotebookApp.rate_limit_window=3.0 (secs)\n",
      "\n",
      "IOPub message rate exceeded.\n",
      "The notebook server will temporarily stop sending output\n",
      "to the client in order to avoid crashing it.\n",
      "To change this limit, set the config variable\n",
      "`--NotebookApp.iopub_msg_rate_limit`.\n",
      "\n",
      "Current values:\n",
      "NotebookApp.iopub_msg_rate_limit=1000.0 (msgs/sec)\n",
      "NotebookApp.rate_limit_window=3.0 (secs)\n",
      "\n",
      "IOPub message rate exceeded.\n",
      "The notebook server will temporarily stop sending output\n",
      "to the client in order to avoid crashing it.\n",
      "To change this limit, set the config variable\n",
      "`--NotebookApp.iopub_msg_rate_limit`.\n",
      "\n",
      "Current values:\n",
      "NotebookApp.iopub_msg_rate_limit=1000.0 (msgs/sec)\n",
      "NotebookApp.rate_limit_window=3.0 (secs)\n",
      "\n",
      "IOPub message rate exceeded.\n",
      "The notebook server will temporarily stop sending output\n",
      "to the client in order to avoid crashing it.\n",
      "To change this limit, set the config variable\n",
      "`--NotebookApp.iopub_msg_rate_limit`.\n",
      "\n",
      "Current values:\n",
      "NotebookApp.iopub_msg_rate_limit=1000.0 (msgs/sec)\n",
      "NotebookApp.rate_limit_window=3.0 (secs)\n",
      "\n"
     ]
    },
    {
     "name": "stdout",
     "output_type": "stream",
     "text": [
      "Validation loss 0.3622773439837829 accuracy 0.9190031152647976\n",
      "\n",
      "Epoch 5/5\n",
      "####################################################################################################\n"
     ]
    },
    {
     "data": {
      "application/vnd.jupyter.widget-view+json": {
       "model_id": "4cfba5dcbbab4b7cb270e4ead9472425",
       "version_major": 2,
       "version_minor": 0
      },
      "text/plain": [
       "  0%|          | 0/9603 [00:00<?, ?it/s]"
      ]
     },
     "metadata": {},
     "output_type": "display_data"
    },
    {
     "name": "stdout",
     "output_type": "stream",
     "text": [
      "Train loss 0.028719263554472914 accuracy 0.9925627075819631\n"
     ]
    },
    {
     "data": {
      "application/vnd.jupyter.widget-view+json": {
       "model_id": "f2b2b0e53b9349bcae73176cdb42cacd",
       "version_major": 2,
       "version_minor": 0
      },
      "text/plain": [
       "  0%|          | 0/1201 [00:00<?, ?it/s]"
      ]
     },
     "metadata": {},
     "output_type": "display_data"
    },
    {
     "name": "stdout",
     "output_type": "stream",
     "text": [
      "Validation loss 0.44413979426020045 accuracy 0.9211584438165616\n",
      "\n",
      "CPU times: user 12h 7min 32s, sys: 3h 36min 12s, total: 15h 43min 45s\n",
      "Wall time: 9h 13min 6s\n"
     ]
    }
   ],
   "source": [
    "%%time\n",
    "\n",
    "history = defaultdict(list)\n",
    "best_accuracy = 0\n",
    "\n",
    "torch.cuda.empty_cache()\n",
    "for epoch in range(NUM_EPOCHS):\n",
    "    print(f'Epoch {epoch + 1}/{NUM_EPOCHS}')\n",
    "    print('#' * 100)\n",
    "\n",
    "    train_acc, train_loss = train_epoch(\n",
    "        model,\n",
    "        train_data_loader,    \n",
    "        optimizer,\n",
    "        scheduler\n",
    "    )\n",
    "    print(f'Train loss {train_loss} accuracy {train_acc}')\n",
    "\n",
    "    val_acc, val_loss = eval_model(\n",
    "        model,\n",
    "        val_data_loader\n",
    "    )\n",
    "\n",
    "    print(f'Validation loss {val_loss} accuracy {val_acc}\\n')\n",
    "\n",
    "    history['train_acc'].append(train_acc)\n",
    "    history['train_loss'].append(train_loss)\n",
    "    history['val_acc'].append(val_acc)\n",
    "    history['val_loss'].append(val_loss)\n",
    "\n",
    "    if val_acc > best_accuracy:\n",
    "        torch.save(model.state_dict(), '800k_100k_100k_best_model_state.pth')\n",
    "        best_accuracy = val_acc"
   ]
  },
  {
   "cell_type": "code",
   "execution_count": 22,
   "id": "9538fd97",
   "metadata": {
    "colab": {
     "base_uri": "https://localhost:8080/",
     "height": 513
    },
    "execution": {
     "iopub.execute_input": "2021-06-24T09:24:48.669927Z",
     "iopub.status.busy": "2021-06-24T09:24:48.668930Z",
     "iopub.status.idle": "2021-06-24T09:24:48.937139Z",
     "shell.execute_reply": "2021-06-24T09:24:48.936141Z"
    },
    "id": "3ErvdjbTFrjx",
    "outputId": "3e88ac7f-24a4-4dac-df86-00a397f61a23",
    "papermill": {
     "duration": 0.48589,
     "end_time": "2021-06-24T09:24:48.937139",
     "exception": false,
     "start_time": "2021-06-24T09:24:48.451249",
     "status": "completed"
    },
    "tags": []
   },
   "outputs": [
    {
     "data": {
      "image/png": "[encoded data removed]",
      "text/plain": [
       "<Figure size 864x576 with 1 Axes>"
      ]
     },
     "metadata": {
      "needs_background": "light"
     },
     "output_type": "display_data"
    }
   ],
   "source": [
    "plt.plot(history['train_loss'], label='train loss')\n",
    "plt.plot(history['val_loss'], label='validation loss')\n",
    "\n",
    "plt.title('Training loss history')\n",
    "plt.ylabel('Loss')\n",
    "plt.xlabel('Epoch')\n",
    "plt.legend()\n",
    "plt.ylim([0, 1]);"
   ]
  },
  {
   "cell_type": "code",
   "execution_count": 23,
   "id": "5d995d27",
   "metadata": {
    "colab": {
     "base_uri": "https://localhost:8080/",
     "height": 513
    },
    "execution": {
     "iopub.execute_input": "2021-06-24T09:24:49.299924Z",
     "iopub.status.busy": "2021-06-24T09:24:49.293188Z",
     "iopub.status.idle": "2021-06-24T09:24:49.440586Z",
     "shell.execute_reply": "2021-06-24T09:24:49.440586Z"
    },
    "id": "1hfhGXzidHcO",
    "outputId": "9d9b6660-7234-4782-853e-a6f24e3b3bcc",
    "papermill": {
     "duration": 0.29797,
     "end_time": "2021-06-24T09:24:49.440586",
     "exception": false,
     "start_time": "2021-06-24T09:24:49.142616",
     "status": "completed"
    },
    "tags": []
   },
   "outputs": [
    {
     "data": {
      "image/png": "[encoded data removed]",
      "text/plain": [
       "<Figure size 864x576 with 1 Axes>"
      ]
     },
     "metadata": {
      "needs_background": "light"
     },
     "output_type": "display_data"
    }
   ],
   "source": [
    "plt.plot(history['train_acc'], label='train accuracy')\n",
    "plt.plot(history['val_acc'], label='validation accuracy')\n",
    "\n",
    "plt.title('Training accuracy history')\n",
    "plt.ylabel('Accuracy')\n",
    "plt.xlabel('Epoch')\n",
    "plt.legend()\n",
    "plt.ylim([0, 1]);"
   ]
  },
  {
   "cell_type": "markdown",
   "id": "766f6022",
   "metadata": {
    "id": "uacQV5uOHGCl",
    "papermill": {
     "duration": 0.156605,
     "end_time": "2021-06-24T09:24:49.750754",
     "exception": false,
     "start_time": "2021-06-24T09:24:49.594149",
     "status": "completed"
    },
    "tags": []
   },
   "source": [
    "### Evaluation on test"
   ]
  },
  {
   "cell_type": "code",
   "execution_count": 24,
   "id": "2db27567",
   "metadata": {
    "colab": {
     "base_uri": "https://localhost:8080/"
    },
    "execution": {
     "iopub.execute_input": "2021-06-24T09:24:50.091809Z",
     "iopub.status.busy": "2021-06-24T09:24:50.090812Z",
     "iopub.status.idle": "2021-06-24T09:24:50.464811Z",
     "shell.execute_reply": "2021-06-24T09:24:50.464811Z"
    },
    "id": "Ez3x580QFOJ7",
    "outputId": "d309a7c6-3b09-42ef-d82e-4ceffdf05f1e",
    "papermill": {
     "duration": 0.529616,
     "end_time": "2021-06-24T09:24:50.465842",
     "exception": false,
     "start_time": "2021-06-24T09:24:49.936226",
     "status": "completed"
    },
    "tags": []
   },
   "outputs": [
    {
     "data": {
      "application/vnd.jupyter.widget-view+json": {
       "model_id": "9d6a2f7a19a44d6b90ac9c6fbadfbe0e",
       "version_major": 2,
       "version_minor": 0
      },
      "text/plain": [
       "  0%|          | 0/1201 [00:00<?, ?it/s]"
      ]
     },
     "metadata": {},
     "output_type": "display_data"
    },
    {
     "name": "stdout",
     "output_type": "stream",
     "text": [
      "\n",
      "\n",
      "Test final accuracy: 0.9207056437006449\n"
     ]
    }
   ],
   "source": [
    "test_acc, _ = eval_model(\n",
    "    model,\n",
    "    test_data_loader\n",
    ")\n",
    "\n",
    "print(f'\\n\\nTest final accuracy: {test_acc}')"
   ]
  },
  {
   "cell_type": "code",
   "execution_count": 25,
   "id": "ceb672be",
   "metadata": {
    "execution": {
     "iopub.execute_input": "2021-06-24T09:24:50.843799Z",
     "iopub.status.busy": "2021-06-24T09:24:50.842800Z",
     "iopub.status.idle": "2021-06-24T09:24:50.852803Z",
     "shell.execute_reply": "2021-06-24T09:24:50.853773Z"
    },
    "id": "IUi57dfZHE2o",
    "papermill": {
     "duration": 0.251331,
     "end_time": "2021-06-24T09:24:50.853773",
     "exception": false,
     "start_time": "2021-06-24T09:24:50.602442",
     "status": "completed"
    },
    "tags": []
   },
   "outputs": [],
   "source": [
    "def get_predictions(model, data_loader):\n",
    "    model = model.eval()\n",
    "\n",
    "    predictions = []\n",
    "    prediction_probs = []\n",
    "    real_values = []\n",
    "\n",
    "    with torch.no_grad():\n",
    "        for d in tqdm(data_loader):\n",
    "\n",
    "            input_ids = d[\"input_ids\"].to(device)\n",
    "            attention_mask = d[\"attention_mask\"].to(device)\n",
    "            token_type_ids = d[\"token_type_ids\"].to(device)\n",
    "            targets = d[\"labels\"].to(device)\n",
    "\n",
    "            outputs = model(\n",
    "                input_ids=input_ids,\n",
    "                attention_mask=attention_mask,\n",
    "                token_type_ids=token_type_ids\n",
    "            )\n",
    "      \n",
    "            preds = torch.argmax(outputs.logits, dim=1)\n",
    "            probs = F.softmax(outputs.logits, dim=1)\n",
    "\n",
    "            predictions.extend(preds)\n",
    "            prediction_probs.extend(probs)\n",
    "            real_values.extend(targets)\n",
    "\n",
    "    predictions = torch.stack(predictions).cpu()\n",
    "    prediction_probs = torch.stack(prediction_probs).cpu()\n",
    "    real_values = torch.stack(real_values).cpu()\n",
    "\n",
    "    return predictions, prediction_probs, real_values"
   ]
  },
  {
   "cell_type": "code",
   "execution_count": 26,
   "id": "54d4c233",
   "metadata": {
    "colab": {
     "base_uri": "https://localhost:8080/"
    },
    "execution": {
     "iopub.execute_input": "2021-06-24T09:24:51.195724Z",
     "iopub.status.busy": "2021-06-24T09:24:51.195724Z",
     "iopub.status.idle": "2021-06-24T09:24:51.536532Z",
     "shell.execute_reply": "2021-06-24T09:24:51.537559Z"
    },
    "id": "9iW7JJraJEzn",
    "outputId": "bd75e50a-61c0-4dca-dd5a-6a9ec689d14e",
    "papermill": {
     "duration": 0.51505,
     "end_time": "2021-06-24T09:24:51.537559",
     "exception": false,
     "start_time": "2021-06-24T09:24:51.022509",
     "status": "completed"
    },
    "tags": []
   },
   "outputs": [
    {
     "data": {
      "application/vnd.jupyter.widget-view+json": {
       "model_id": "c6af350312e04279bd8abf331a3fa275",
       "version_major": 2,
       "version_minor": 0
      },
      "text/plain": [
       "  0%|          | 0/1201 [00:00<?, ?it/s]"
      ]
     },
     "metadata": {},
     "output_type": "display_data"
    }
   ],
   "source": [
    "y_pred, y_pred_probs, y_test = get_predictions(\n",
    "    model,\n",
    "    test_data_loader\n",
    ")"
   ]
  },
  {
   "cell_type": "markdown",
   "id": "93207b20",
   "metadata": {
    "id": "18g1K5X8NzWW",
    "papermill": {
     "duration": 0.153057,
     "end_time": "2021-06-24T09:24:51.842620",
     "exception": false,
     "start_time": "2021-06-24T09:24:51.689563",
     "status": "completed"
    },
    "tags": []
   },
   "source": [
    "### Metrics on test"
   ]
  },
  {
   "cell_type": "code",
   "execution_count": 27,
   "id": "5ed14128",
   "metadata": {
    "colab": {
     "base_uri": "https://localhost:8080/"
    },
    "execution": {
     "iopub.execute_input": "2021-06-24T09:24:52.168745Z",
     "iopub.status.busy": "2021-06-24T09:24:52.168745Z",
     "iopub.status.idle": "2021-06-24T09:24:52.186050Z",
     "shell.execute_reply": "2021-06-24T09:24:52.187047Z"
    },
    "id": "IQaiRKM2JS7Q",
    "outputId": "fc45dba7-e696-4843-b013-ae128beee259",
    "papermill": {
     "duration": 0.188551,
     "end_time": "2021-06-24T09:24:52.187047",
     "exception": false,
     "start_time": "2021-06-24T09:24:51.998496",
     "status": "completed"
    },
    "tags": []
   },
   "outputs": [
    {
     "name": "stdout",
     "output_type": "stream",
     "text": [
      "              precision    recall  f1-score   support\n",
      "\n",
      "     similar       0.91      0.93      0.92     27471\n",
      " non-similar       0.93      0.91      0.92     27741\n",
      "\n",
      "    accuracy                           0.92     55212\n",
      "   macro avg       0.92      0.92      0.92     55212\n",
      "weighted avg       0.92      0.92      0.92     55212\n",
      "\n"
     ]
    }
   ],
   "source": [
    "print(classification_report(y_test, y_pred, target_names=['similar', 'non-similar']))"
   ]
  },
  {
   "cell_type": "code",
   "execution_count": 28,
   "id": "f9251de5",
   "metadata": {
    "colab": {
     "base_uri": "https://localhost:8080/",
     "height": 528
    },
    "execution": {
     "iopub.execute_input": "2021-06-24T09:24:52.500964Z",
     "iopub.status.busy": "2021-06-24T09:24:52.500001Z",
     "iopub.status.idle": "2021-06-24T09:24:52.671517Z",
     "shell.execute_reply": "2021-06-24T09:24:52.672514Z"
    },
    "id": "hUfk-OQtJ5aS",
    "outputId": "331c86ba-d18d-4002-e353-0ff5bbfa2f7c",
    "papermill": {
     "duration": 0.308196,
     "end_time": "2021-06-24T09:24:52.673520",
     "exception": false,
     "start_time": "2021-06-24T09:24:52.365324",
     "status": "completed"
    },
    "tags": []
   },
   "outputs": [
    {
     "data": {
      "image/png": "[encoded data removed]",
      "text/plain": [
       "<Figure size 864x576 with 2 Axes>"
      ]
     },
     "metadata": {
      "needs_background": "light"
     },
     "output_type": "display_data"
    }
   ],
   "source": [
    "def show_confusion_matrix(confusion_matrix):\n",
    "    hmap = sns.heatmap(confusion_matrix, annot=True, fmt=\"d\", cmap=\"Reds\")\n",
    "    hmap.yaxis.set_ticklabels(hmap.yaxis.get_ticklabels(), rotation=0, ha='right')\n",
    "    hmap.xaxis.set_ticklabels(hmap.xaxis.get_ticklabels(), rotation=30, ha='right')\n",
    "    plt.ylabel('True similarity')\n",
    "    plt.xlabel('Predicted similarity');\n",
    "\n",
    "cm = confusion_matrix(y_test, y_pred)\n",
    "df_cm = pd.DataFrame(cm, index=['similar', 'non-similar'], columns=['similar', 'non-similar'])\n",
    "show_confusion_matrix(df_cm)"
   ]
  },
  {
   "cell_type": "markdown",
   "id": "6863fc3c",
   "metadata": {
    "id": "X2Td269TPVmo",
    "papermill": {
     "duration": 0.134076,
     "end_time": "2021-06-24T09:24:52.943215",
     "exception": false,
     "start_time": "2021-06-24T09:24:52.809139",
     "status": "completed"
    },
    "tags": []
   },
   "source": [
    "### Example probs of an item"
   ]
  },
  {
   "cell_type": "code",
   "execution_count": 29,
   "id": "f6039190",
   "metadata": {
    "colab": {
     "base_uri": "https://localhost:8080/"
    },
    "execution": {
     "iopub.execute_input": "2021-06-24T09:24:53.226286Z",
     "iopub.status.busy": "2021-06-24T09:24:53.225321Z",
     "iopub.status.idle": "2021-06-24T09:24:53.231275Z",
     "shell.execute_reply": "2021-06-24T09:24:53.230278Z"
    },
    "id": "L8odckY2K-Ce",
    "outputId": "6f23ea24-667c-4239-e8f1-ea5606859673",
    "papermill": {
     "duration": 0.154553,
     "end_time": "2021-06-24T09:24:53.231275",
     "exception": false,
     "start_time": "2021-06-24T09:24:53.076722",
     "status": "completed"
    },
    "tags": []
   },
   "outputs": [
    {
     "name": "stdout",
     "output_type": "stream",
     "text": [
      "True similarity of first example: 1 (0 similar, 1 non similar)\n",
      "Predicted similarity of first example: 0 (0 similar, 1 non similar)\n",
      "Predicted probs of first example: similar - 0.9803406000137329, non similar - 0.019659386947751045\n"
     ]
    }
   ],
   "source": [
    "print(f'True similarity of first example: {y_test[0]} (0 similar, 1 non similar)')\n",
    "print(f'Predicted similarity of first example: {y_pred[0]} (0 similar, 1 non similar)')\n",
    "print(f'Predicted probs of first example: similar - {y_pred_probs[0][0]}, non similar - {y_pred_probs[0][1]}')"
   ]
  },
  {
   "cell_type": "code",
   "execution_count": 30,
   "id": "07dac678",
   "metadata": {
    "colab": {
     "base_uri": "https://localhost:8080/",
     "height": 497
    },
    "execution": {
     "iopub.execute_input": "2021-06-24T09:24:53.540451Z",
     "iopub.status.busy": "2021-06-24T09:24:53.530507Z",
     "iopub.status.idle": "2021-06-24T09:24:53.606271Z",
     "shell.execute_reply": "2021-06-24T09:24:53.607301Z"
    },
    "id": "xkpp-swBOK0y",
    "outputId": "1681977b-796e-4b04-e851-60c0a3c9f6e5",
    "papermill": {
     "duration": 0.235403,
     "end_time": "2021-06-24T09:24:53.607301",
     "exception": false,
     "start_time": "2021-06-24T09:24:53.371898",
     "status": "completed"
    },
    "tags": []
   },
   "outputs": [
    {
     "data": {
      "image/png": "[encoded data removed]",
      "text/plain": [
       "<Figure size 864x576 with 1 Axes>"
      ]
     },
     "metadata": {
      "needs_background": "light"
     },
     "output_type": "display_data"
    }
   ],
   "source": [
    "pred_df = pd.DataFrame({\n",
    "    'class_names': ['similar', 'non-similar'],\n",
    "    'values': y_pred_probs[0]\n",
    "})\n",
    "\n",
    "sns.barplot(x='values', y='class_names', data=pred_df, orient='h')\n",
    "plt.ylabel('sentiment')\n",
    "plt.xlabel('probability')\n",
    "plt.xlim([0, 1]);"
   ]
  },
  {
   "cell_type": "code",
   "execution_count": null,
   "id": "22c17e35",
   "metadata": {
    "id": "R-Q_4hjBOMHE",
    "papermill": {
     "duration": 0.133641,
     "end_time": "2021-06-24T09:24:53.877544",
     "exception": false,
     "start_time": "2021-06-24T09:24:53.743903",
     "status": "completed"
    },
    "tags": []
   },
   "outputs": [],
   "source": []
  }
 ],
 "metadata": {
  "accelerator": "GPU",
  "colab": {
   "collapsed_sections": [],
   "name": "bert_for_book_similarity.ipynb",
   "provenance": [],
   "toc_visible": true
  },
  "interpreter": {
   "hash": "236afb4c60c7ec613449c67b2c4cd5af5ca37658326c13f26b7a5944e23c45d9"
  },
  "kernelspec": {
   "display_name": "Python 3",
   "language": "python",
   "name": "python3"
  },
  "language_info": {
   "codemirror_mode": {
    "name": "ipython",
    "version": 3
   },
   "file_extension": ".py",
   "mimetype": "text/x-python",
   "name": "python",
   "nbconvert_exporter": "python",
   "pygments_lexer": "ipython3",
   "version": "3.6.9"
  },
  "papermill": {
   "default_parameters": {},
   "duration": 124.875524,
   "end_time": "2021-06-24T09:24:56.849107",
   "environment_variables": {},
   "exception": null,
   "input_path": "bert_for_book_similarity2.ipynb",
   "output_path": "bert_for_book_similarity2.ipynb",
   "parameters": {},
   "start_time": "2021-06-24T09:22:51.973583",
   "version": "2.3.3"
  }
 },
 "nbformat": 4,
 "nbformat_minor": 5
}
