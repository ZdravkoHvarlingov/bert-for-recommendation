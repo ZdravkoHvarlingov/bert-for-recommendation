{
 "metadata": {
  "language_info": {
   "codemirror_mode": {
    "name": "ipython",
    "version": 3
   },
   "file_extension": ".py",
   "mimetype": "text/x-python",
   "name": "python",
   "nbconvert_exporter": "python",
   "pygments_lexer": "ipython3",
   "version": "3.7.4"
  },
  "orig_nbformat": 4,
  "kernelspec": {
   "name": "python3",
   "display_name": "Python 3.7.4 64-bit ('venv': venv)"
  },
  "interpreter": {
   "hash": "236afb4c60c7ec613449c67b2c4cd5af5ca37658326c13f26b7a5944e23c45d9"
  }
 },
 "nbformat": 4,
 "nbformat_minor": 2,
 "cells": [
  {
   "cell_type": "code",
   "execution_count": 39,
   "metadata": {},
   "outputs": [],
   "source": [
    "import gzip\n",
    "import json"
   ]
  },
  {
   "cell_type": "code",
   "execution_count": 40,
   "metadata": {},
   "outputs": [],
   "source": [
    "NUM_OF_BOOKS = 350000"
   ]
  },
  {
   "cell_type": "code",
   "execution_count": 41,
   "metadata": {},
   "outputs": [],
   "source": [
    "def load_data(file_name, head = 10):\n",
    "    count = 0\n",
    "    data = []\n",
    "    with gzip.open(file_name) as fin:\n",
    "        for l in fin:\n",
    "            d = json.loads(l)\n",
    "            count += 1\n",
    "            data.append(d)\n",
    "            \n",
    "            # break if reaches the 100th line\n",
    "            if (head is not None) and (count >= head):\n",
    "                break\n",
    "    return data"
   ]
  },
  {
   "cell_type": "code",
   "execution_count": 42,
   "metadata": {},
   "outputs": [],
   "source": [
    "books = load_data('data/goodreads_books.json.gz', NUM_OF_BOOKS)"
   ]
  },
  {
   "cell_type": "code",
   "execution_count": 43,
   "metadata": {},
   "outputs": [],
   "source": [
    "def extract_features_of_interest(books):\n",
    "    result = {}\n",
    "    for book in books:\n",
    "        result[book['book_id']] = {\n",
    "                'book_id': book['book_id'],\n",
    "                'title': book['title'],\n",
    "                'description': book['description'],\n",
    "                'similar_books': book['similar_books'],\n",
    "                'language_code': book['language_code']\n",
    "            }\n",
    "            \n",
    "    return result"
   ]
  },
  {
   "cell_type": "code",
   "execution_count": 44,
   "metadata": {},
   "outputs": [],
   "source": [
    "books = extract_features_of_interest(books)"
   ]
  },
  {
   "cell_type": "code",
   "execution_count": 45,
   "metadata": {},
   "outputs": [],
   "source": [
    "def filter_out_non_english_books_(books):\n",
    "    books_to_remove = [book_id for book_id in books if books[book_id]['language_code'] != 'eng']\n",
    "    for book_to_remove in books_to_remove:\n",
    "        del books[book_to_remove]\n",
    "\n",
    "def filter_out_similar_books_out_of_scope_(books):\n",
    "    for book_id in books:\n",
    "        book = books[book_id]\n",
    "        book['similar_books'] = [similar_book for similar_book in book['similar_books'] if similar_book in books]"
   ]
  },
  {
   "cell_type": "code",
   "execution_count": 46,
   "metadata": {},
   "outputs": [],
   "source": [
    "filter_out_non_english_books_(books)\n",
    "filter_out_similar_books_out_of_scope_(books)"
   ]
  },
  {
   "cell_type": "code",
   "execution_count": 47,
   "metadata": {},
   "outputs": [
    {
     "output_type": "stream",
     "name": "stdout",
     "text": [
      "Number of books after filtering: 105433\n"
     ]
    }
   ],
   "source": [
    "print(f'Number of books after filtering: {len(books)}')"
   ]
  },
  {
   "cell_type": "code",
   "execution_count": 60,
   "metadata": {},
   "outputs": [
    {
     "output_type": "stream",
     "name": "stdout",
     "text": [
      "Example book:\n{\n    \"book_id\": \"16693030\",\n    \"description\": \"An unflinching, darkly funny, and deeply moving story of a boy, his seriously ill mother, and an unexpected monstrous visitor.\\nAt seven minutes past midnight, thirteen-year-old Conor wakes to find a monster outside his bedroom window. But it isn't the monster Conor's been expecting-- he's been expecting the one from his nightmare, the nightmare he's had nearly every night since his mother started her treatments. The monster in his backyard is different. It's ancient. And wild. And it wants something from Conor. Something terrible and dangerous. It wants the truth. From the final idea of award-winning author Siobhan Dowd-- whose premature death from cancer prevented her from writing it herself-- Patrick Ness has spun a haunting and darkly funny novel of mischief, loss, and monsters both real and imagined.\",\n    \"language_code\": \"eng\",\n    \"similar_books\": [\n        \"6369113\",\n        \"10836471\",\n        \"8159643\"\n    ],\n    \"title\": \"A Monster Calls\"\n}\n"
     ]
    }
   ],
   "source": [
    "print('Example book:')\n",
    "print(json.dumps(list(books.values())[40], sort_keys=True, indent=4))"
   ]
  },
  {
   "cell_type": "code",
   "execution_count": 65,
   "metadata": {},
   "outputs": [],
   "source": [
    "with open(f'data/top_{len(books)}_eng_books_filtered.json', 'w') as books_json_file:\n",
    "    json.dump(books, books_json_file, sort_keys=True, indent=4)"
   ]
  },
  {
   "cell_type": "code",
   "execution_count": null,
   "metadata": {},
   "outputs": [],
   "source": []
  }
 ]
}