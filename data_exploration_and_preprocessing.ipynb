{
 "metadata": {
  "language_info": {
   "codemirror_mode": {
    "name": "ipython",
    "version": 3
   },
   "file_extension": ".py",
   "mimetype": "text/x-python",
   "name": "python",
   "nbconvert_exporter": "python",
   "pygments_lexer": "ipython3",
   "version": "3.7.4"
  },
  "orig_nbformat": 4,
  "kernelspec": {
   "name": "python3",
   "display_name": "Python 3.7.4 64-bit ('venv': venv)"
  },
  "interpreter": {
   "hash": "236afb4c60c7ec613449c67b2c4cd5af5ca37658326c13f26b7a5944e23c45d9"
  }
 },
 "nbformat": 4,
 "nbformat_minor": 2,
 "cells": [
  {
   "cell_type": "code",
   "execution_count": 1,
   "metadata": {},
   "outputs": [],
   "source": [
    "import gzip\n",
    "import json\n",
    "import pandas as pd"
   ]
  },
  {
   "source": [
    "# Parsing the provided GoodReads books dataset"
   ],
   "cell_type": "markdown",
   "metadata": {}
  },
  {
   "cell_type": "code",
   "execution_count": 2,
   "metadata": {},
   "outputs": [],
   "source": [
    "NUM_OF_BOOKS = 200000"
   ]
  },
  {
   "cell_type": "code",
   "execution_count": 3,
   "metadata": {},
   "outputs": [],
   "source": [
    "def is_non_empty_string(text):\n",
    "    return text is not None and text != \"\""
   ]
  },
  {
   "cell_type": "code",
   "execution_count": 4,
   "metadata": {},
   "outputs": [],
   "source": [
    "def load_first_n_english_books(file_name, n=10):\n",
    "    count = 0\n",
    "    books = []\n",
    "    with gzip.open(file_name) as fin:\n",
    "        for l in fin:\n",
    "            book = json.loads(l)\n",
    "            if book['language_code'] == 'eng' and is_non_empty_string(book['title']) and is_non_empty_string(book['description']):\n",
    "                count += 1\n",
    "                books.append(book)\n",
    "            \n",
    "            if count >= n:\n",
    "                break\n",
    "    \n",
    "    return books"
   ]
  },
  {
   "cell_type": "code",
   "execution_count": 5,
   "metadata": {},
   "outputs": [],
   "source": [
    "books = load_first_n_english_books('data/goodreads_books.json.gz', NUM_OF_BOOKS)"
   ]
  },
  {
   "cell_type": "code",
   "execution_count": 6,
   "metadata": {},
   "outputs": [],
   "source": [
    "def extract_features_of_interest(books):\n",
    "    result = {}\n",
    "    for book in books:\n",
    "        result[book['book_id']] = {\n",
    "                'book_id': book['book_id'],\n",
    "                'title': book['title'],\n",
    "                'description': book['description'],\n",
    "                'similar_books': book['similar_books']\n",
    "            }\n",
    "            \n",
    "    return result"
   ]
  },
  {
   "cell_type": "code",
   "execution_count": 7,
   "metadata": {},
   "outputs": [],
   "source": [
    "books = extract_features_of_interest(books)"
   ]
  },
  {
   "cell_type": "code",
   "execution_count": 8,
   "metadata": {},
   "outputs": [],
   "source": [
    "def filter_out_similar_books_out_of_scope_(books):\n",
    "    for book_id in books:\n",
    "        book = books[book_id]\n",
    "        book['similar_books'] = [similar_book for similar_book in book['similar_books'] if similar_book in books]"
   ]
  },
  {
   "cell_type": "code",
   "execution_count": 9,
   "metadata": {},
   "outputs": [],
   "source": [
    "filter_out_similar_books_out_of_scope_(books)"
   ]
  },
  {
   "cell_type": "code",
   "execution_count": 10,
   "metadata": {},
   "outputs": [
    {
     "output_type": "stream",
     "name": "stdout",
     "text": [
      "Number of books: 200000\n"
     ]
    }
   ],
   "source": [
    "print(f'Number of books: {len(books)}')"
   ]
  },
  {
   "cell_type": "code",
   "execution_count": 11,
   "metadata": {},
   "outputs": [
    {
     "output_type": "stream",
     "name": "stdout",
     "text": [
      "Example book:\n{\n    \"book_id\": \"16693030\",\n    \"title\": \"A Monster Calls\",\n    \"description\": \"An unflinching, darkly funny, and deeply moving story of a boy, his seriously ill mother, and an unexpected monstrous visitor.\\nAt seven minutes past midnight, thirteen-year-old Conor wakes to find a monster outside his bedroom window. But it isn't the monster Conor's been expecting-- he's been expecting the one from his nightmare, the nightmare he's had nearly every night since his mother started her treatments. The monster in his backyard is different. It's ancient. And wild. And it wants something from Conor. Something terrible and dangerous. It wants the truth. From the final idea of award-winning author Siobhan Dowd-- whose premature death from cancer prevented her from writing it herself-- Patrick Ness has spun a haunting and darkly funny novel of mischief, loss, and monsters both real and imagined.\",\n    \"similar_books\": [\n        \"6369113\",\n        \"10165727\",\n        \"10836471\",\n        \"8159643\"\n    ]\n}\n"
     ]
    }
   ],
   "source": [
    "print('Example book:')\n",
    "print(json.dumps(list(books.values())[35], indent=4))"
   ]
  },
  {
   "cell_type": "code",
   "execution_count": 12,
   "metadata": {},
   "outputs": [],
   "source": [
    "with open(f'data/top_{len(books)}_eng_books_filtered.json', 'w') as books_json_file:\n",
    "    json.dump(books, books_json_file, indent=4)"
   ]
  },
  {
   "source": [
    "# Constructing training pairs of similar books"
   ],
   "cell_type": "markdown",
   "metadata": {}
  },
  {
   "cell_type": "code",
   "execution_count": 13,
   "metadata": {},
   "outputs": [],
   "source": [
    "def construct_similar_book_pairs(books):\n",
    "    pairs = []\n",
    "    for book_id in books:\n",
    "        book = books[book_id]\n",
    "        for similar_book_id in book['similar_books']:\n",
    "            similar_book = books[similar_book_id]\n",
    "            \n",
    "            pairs.append({\n",
    "                'book1_id': book_id,\n",
    "                'book1_title': book['title'],\n",
    "                'book1_description': book['description'],\n",
    "                'book2_id': similar_book_id,\n",
    "                'book2_title': similar_book['title'],\n",
    "                'book2_description': similar_book['description']\n",
    "            })\n",
    "    return pairs"
   ]
  },
  {
   "cell_type": "code",
   "execution_count": 14,
   "metadata": {},
   "outputs": [],
   "source": [
    "pairs = construct_similar_book_pairs(books)"
   ]
  },
  {
   "cell_type": "code",
   "execution_count": 15,
   "metadata": {},
   "outputs": [
    {
     "output_type": "stream",
     "name": "stdout",
     "text": [
      "Number of similar book pairs: 276064\nExample pair:\n{\n    \"book1_id\": \"7327624\",\n    \"book1_title\": \"The Unschooled Wizard (Sun Wolf and Starhawk, #1-2)\",\n    \"book1_description\": \"Omnibus book club edition containing the Ladies of Madrigyn and the Witches of Wenshar.\",\n    \"book2_id\": \"19997\",\n    \"book2_title\": \"Through a Brazen Mirror\",\n    \"book2_description\": \"In a medieval kingdom both like and unlike 13th C. England, a mysterious young man appears at the door of the palace kitchen, seeing to serve the king. In a lonely stone tower, a woman watches the world through her mirror of bronze. The young king mourns the death of his friend in battle and and puts off choosing a bride. A child abandoned on a farmer's doorstep grows up to be a powerful witch. The lives of these characters intersect and intertwine in strange and fateful ways as the young man rises from cook to steward to chamberlain and the king becomes more dependent upon him as the sorceress turns his country upside-down in her attempts to defy the fate her mirror has shown her.\"\n}\n"
     ]
    }
   ],
   "source": [
    "print(f'Number of similar book pairs: {len(pairs)}')\n",
    "print('Example pair:')\n",
    "print(json.dumps(pairs[0], indent=4))"
   ]
  },
  {
   "cell_type": "code",
   "execution_count": 16,
   "metadata": {},
   "outputs": [],
   "source": [
    "pairs_df = pd.DataFrame(pairs)\n",
    "pairs_df.index.name = 'pair_id'"
   ]
  },
  {
   "cell_type": "code",
   "execution_count": 17,
   "metadata": {},
   "outputs": [
    {
     "output_type": "stream",
     "name": "stdout",
     "text": [
      "Dataframe shape: (276064, 6)\n"
     ]
    },
    {
     "output_type": "execute_result",
     "data": {
      "text/plain": [
       "        book1_id                                        book1_title  \\\n",
       "pair_id                                                               \n",
       "0        7327624  The Unschooled Wizard (Sun Wolf and Starhawk, ...   \n",
       "1        7327624  The Unschooled Wizard (Sun Wolf and Starhawk, ...   \n",
       "2        7327624  The Unschooled Wizard (Sun Wolf and Starhawk, ...   \n",
       "3        7327624  The Unschooled Wizard (Sun Wolf and Starhawk, ...   \n",
       "4        6066819                               Best Friends Forever   \n",
       "5        6066819                               Best Friends Forever   \n",
       "6          89376                                             Heaven   \n",
       "7          89376                                             Heaven   \n",
       "8          89378                                         Dog Heaven   \n",
       "9          89378                                         Dog Heaven   \n",
       "\n",
       "                                         book1_description  book2_id  \\\n",
       "pair_id                                                                \n",
       "0        Omnibus book club edition containing the Ladie...     19997   \n",
       "1        Omnibus book club edition containing the Ladie...    828466   \n",
       "2        Omnibus book club edition containing the Ladie...   1569323   \n",
       "3        Omnibus book club edition containing the Ladie...   1808197   \n",
       "4        Addie Downs and Valerie Adler were eight when ...   7052976   \n",
       "5        Addie Downs and Valerie Adler were eight when ...   3134684   \n",
       "6        What is Heaven really going to be like? What w...    761197   \n",
       "7        What is Heaven really going to be like? What w...  10081849   \n",
       "8        In Newbery Medalist Cynthia Rylant's classic b...   6424103   \n",
       "9        In Newbery Medalist Cynthia Rylant's classic b...    197998   \n",
       "\n",
       "                                               book2_title  \\\n",
       "pair_id                                                      \n",
       "0                                  Through a Brazen Mirror   \n",
       "1        The Hound and the Falcon (The Hound and the Fa...   \n",
       "2        The Secret Books of Paradys III & IV (Secret B...   \n",
       "3                                             To the Stars   \n",
       "4                                      The One That I Want   \n",
       "5                                             Just Breathe   \n",
       "6                                The Mystery of Providence   \n",
       "7                 Lit!: A Christian Guide to Reading Books   \n",
       "8                                           Harry & Hopper   \n",
       "9                                            The Dead Bird   \n",
       "\n",
       "                                         book2_description  \n",
       "pair_id                                                     \n",
       "0        In a medieval kingdom both like and unlike 13t...  \n",
       "1        Alfred of St. Ruan's Abbey is a monk and a sch...  \n",
       "2        2-in-1 edition, 373 pages\\nThe Book of the Dea...  \n",
       "3        The epic science fiction trilogy--Homeworld, W...  \n",
       "4        Tilly Farmer is thirty-two years old and has t...  \n",
       "5        Unexpected change can be like a breath of fres...  \n",
       "6        First published in 1678, this little work well...  \n",
       "7        Whether books are your addiction or your phobi...  \n",
       "8        When Harry's beloved dog Hopper dies, he has a...  \n",
       "9        One day, the children find a bird lying on its...  "
      ],
      "text/html": "<div>\n<style scoped>\n    .dataframe tbody tr th:only-of-type {\n        vertical-align: middle;\n    }\n\n    .dataframe tbody tr th {\n        vertical-align: top;\n    }\n\n    .dataframe thead th {\n        text-align: right;\n    }\n</style>\n<table border=\"1\" class=\"dataframe\">\n  <thead>\n    <tr style=\"text-align: right;\">\n      <th></th>\n      <th>book1_id</th>\n      <th>book1_title</th>\n      <th>book1_description</th>\n      <th>book2_id</th>\n      <th>book2_title</th>\n      <th>book2_description</th>\n    </tr>\n    <tr>\n      <th>pair_id</th>\n      <th></th>\n      <th></th>\n      <th></th>\n      <th></th>\n      <th></th>\n      <th></th>\n    </tr>\n  </thead>\n  <tbody>\n    <tr>\n      <th>0</th>\n      <td>7327624</td>\n      <td>The Unschooled Wizard (Sun Wolf and Starhawk, ...</td>\n      <td>Omnibus book club edition containing the Ladie...</td>\n      <td>19997</td>\n      <td>Through a Brazen Mirror</td>\n      <td>In a medieval kingdom both like and unlike 13t...</td>\n    </tr>\n    <tr>\n      <th>1</th>\n      <td>7327624</td>\n      <td>The Unschooled Wizard (Sun Wolf and Starhawk, ...</td>\n      <td>Omnibus book club edition containing the Ladie...</td>\n      <td>828466</td>\n      <td>The Hound and the Falcon (The Hound and the Fa...</td>\n      <td>Alfred of St. Ruan's Abbey is a monk and a sch...</td>\n    </tr>\n    <tr>\n      <th>2</th>\n      <td>7327624</td>\n      <td>The Unschooled Wizard (Sun Wolf and Starhawk, ...</td>\n      <td>Omnibus book club edition containing the Ladie...</td>\n      <td>1569323</td>\n      <td>The Secret Books of Paradys III &amp; IV (Secret B...</td>\n      <td>2-in-1 edition, 373 pages\\nThe Book of the Dea...</td>\n    </tr>\n    <tr>\n      <th>3</th>\n      <td>7327624</td>\n      <td>The Unschooled Wizard (Sun Wolf and Starhawk, ...</td>\n      <td>Omnibus book club edition containing the Ladie...</td>\n      <td>1808197</td>\n      <td>To the Stars</td>\n      <td>The epic science fiction trilogy--Homeworld, W...</td>\n    </tr>\n    <tr>\n      <th>4</th>\n      <td>6066819</td>\n      <td>Best Friends Forever</td>\n      <td>Addie Downs and Valerie Adler were eight when ...</td>\n      <td>7052976</td>\n      <td>The One That I Want</td>\n      <td>Tilly Farmer is thirty-two years old and has t...</td>\n    </tr>\n    <tr>\n      <th>5</th>\n      <td>6066819</td>\n      <td>Best Friends Forever</td>\n      <td>Addie Downs and Valerie Adler were eight when ...</td>\n      <td>3134684</td>\n      <td>Just Breathe</td>\n      <td>Unexpected change can be like a breath of fres...</td>\n    </tr>\n    <tr>\n      <th>6</th>\n      <td>89376</td>\n      <td>Heaven</td>\n      <td>What is Heaven really going to be like? What w...</td>\n      <td>761197</td>\n      <td>The Mystery of Providence</td>\n      <td>First published in 1678, this little work well...</td>\n    </tr>\n    <tr>\n      <th>7</th>\n      <td>89376</td>\n      <td>Heaven</td>\n      <td>What is Heaven really going to be like? What w...</td>\n      <td>10081849</td>\n      <td>Lit!: A Christian Guide to Reading Books</td>\n      <td>Whether books are your addiction or your phobi...</td>\n    </tr>\n    <tr>\n      <th>8</th>\n      <td>89378</td>\n      <td>Dog Heaven</td>\n      <td>In Newbery Medalist Cynthia Rylant's classic b...</td>\n      <td>6424103</td>\n      <td>Harry &amp; Hopper</td>\n      <td>When Harry's beloved dog Hopper dies, he has a...</td>\n    </tr>\n    <tr>\n      <th>9</th>\n      <td>89378</td>\n      <td>Dog Heaven</td>\n      <td>In Newbery Medalist Cynthia Rylant's classic b...</td>\n      <td>197998</td>\n      <td>The Dead Bird</td>\n      <td>One day, the children find a bird lying on its...</td>\n    </tr>\n  </tbody>\n</table>\n</div>"
     },
     "metadata": {},
     "execution_count": 17
    }
   ],
   "source": [
    "print(f'Dataframe shape: {pairs_df.shape}')\n",
    "pairs_df.head(10)"
   ]
  },
  {
   "cell_type": "code",
   "execution_count": 18,
   "metadata": {},
   "outputs": [],
   "source": [
    "pairs_df = pairs_df.drop_duplicates(subset=['book1_id', 'book2_id'])"
   ]
  },
  {
   "cell_type": "code",
   "execution_count": 19,
   "metadata": {},
   "outputs": [
    {
     "output_type": "stream",
     "name": "stdout",
     "text": [
      "Dataframe shape after removing duplicates: (276064, 6)\n"
     ]
    },
    {
     "output_type": "execute_result",
     "data": {
      "text/plain": [
       "        book1_id                                        book1_title  \\\n",
       "pair_id                                                               \n",
       "0        7327624  The Unschooled Wizard (Sun Wolf and Starhawk, ...   \n",
       "1        7327624  The Unschooled Wizard (Sun Wolf and Starhawk, ...   \n",
       "2        7327624  The Unschooled Wizard (Sun Wolf and Starhawk, ...   \n",
       "3        7327624  The Unschooled Wizard (Sun Wolf and Starhawk, ...   \n",
       "4        6066819                               Best Friends Forever   \n",
       "5        6066819                               Best Friends Forever   \n",
       "6          89376                                             Heaven   \n",
       "7          89376                                             Heaven   \n",
       "8          89378                                         Dog Heaven   \n",
       "9          89378                                         Dog Heaven   \n",
       "\n",
       "                                         book1_description  book2_id  \\\n",
       "pair_id                                                                \n",
       "0        Omnibus book club edition containing the Ladie...     19997   \n",
       "1        Omnibus book club edition containing the Ladie...    828466   \n",
       "2        Omnibus book club edition containing the Ladie...   1569323   \n",
       "3        Omnibus book club edition containing the Ladie...   1808197   \n",
       "4        Addie Downs and Valerie Adler were eight when ...   7052976   \n",
       "5        Addie Downs and Valerie Adler were eight when ...   3134684   \n",
       "6        What is Heaven really going to be like? What w...    761197   \n",
       "7        What is Heaven really going to be like? What w...  10081849   \n",
       "8        In Newbery Medalist Cynthia Rylant's classic b...   6424103   \n",
       "9        In Newbery Medalist Cynthia Rylant's classic b...    197998   \n",
       "\n",
       "                                               book2_title  \\\n",
       "pair_id                                                      \n",
       "0                                  Through a Brazen Mirror   \n",
       "1        The Hound and the Falcon (The Hound and the Fa...   \n",
       "2        The Secret Books of Paradys III & IV (Secret B...   \n",
       "3                                             To the Stars   \n",
       "4                                      The One That I Want   \n",
       "5                                             Just Breathe   \n",
       "6                                The Mystery of Providence   \n",
       "7                 Lit!: A Christian Guide to Reading Books   \n",
       "8                                           Harry & Hopper   \n",
       "9                                            The Dead Bird   \n",
       "\n",
       "                                         book2_description  \n",
       "pair_id                                                     \n",
       "0        In a medieval kingdom both like and unlike 13t...  \n",
       "1        Alfred of St. Ruan's Abbey is a monk and a sch...  \n",
       "2        2-in-1 edition, 373 pages\\nThe Book of the Dea...  \n",
       "3        The epic science fiction trilogy--Homeworld, W...  \n",
       "4        Tilly Farmer is thirty-two years old and has t...  \n",
       "5        Unexpected change can be like a breath of fres...  \n",
       "6        First published in 1678, this little work well...  \n",
       "7        Whether books are your addiction or your phobi...  \n",
       "8        When Harry's beloved dog Hopper dies, he has a...  \n",
       "9        One day, the children find a bird lying on its...  "
      ],
      "text/html": "<div>\n<style scoped>\n    .dataframe tbody tr th:only-of-type {\n        vertical-align: middle;\n    }\n\n    .dataframe tbody tr th {\n        vertical-align: top;\n    }\n\n    .dataframe thead th {\n        text-align: right;\n    }\n</style>\n<table border=\"1\" class=\"dataframe\">\n  <thead>\n    <tr style=\"text-align: right;\">\n      <th></th>\n      <th>book1_id</th>\n      <th>book1_title</th>\n      <th>book1_description</th>\n      <th>book2_id</th>\n      <th>book2_title</th>\n      <th>book2_description</th>\n    </tr>\n    <tr>\n      <th>pair_id</th>\n      <th></th>\n      <th></th>\n      <th></th>\n      <th></th>\n      <th></th>\n      <th></th>\n    </tr>\n  </thead>\n  <tbody>\n    <tr>\n      <th>0</th>\n      <td>7327624</td>\n      <td>The Unschooled Wizard (Sun Wolf and Starhawk, ...</td>\n      <td>Omnibus book club edition containing the Ladie...</td>\n      <td>19997</td>\n      <td>Through a Brazen Mirror</td>\n      <td>In a medieval kingdom both like and unlike 13t...</td>\n    </tr>\n    <tr>\n      <th>1</th>\n      <td>7327624</td>\n      <td>The Unschooled Wizard (Sun Wolf and Starhawk, ...</td>\n      <td>Omnibus book club edition containing the Ladie...</td>\n      <td>828466</td>\n      <td>The Hound and the Falcon (The Hound and the Fa...</td>\n      <td>Alfred of St. Ruan's Abbey is a monk and a sch...</td>\n    </tr>\n    <tr>\n      <th>2</th>\n      <td>7327624</td>\n      <td>The Unschooled Wizard (Sun Wolf and Starhawk, ...</td>\n      <td>Omnibus book club edition containing the Ladie...</td>\n      <td>1569323</td>\n      <td>The Secret Books of Paradys III &amp; IV (Secret B...</td>\n      <td>2-in-1 edition, 373 pages\\nThe Book of the Dea...</td>\n    </tr>\n    <tr>\n      <th>3</th>\n      <td>7327624</td>\n      <td>The Unschooled Wizard (Sun Wolf and Starhawk, ...</td>\n      <td>Omnibus book club edition containing the Ladie...</td>\n      <td>1808197</td>\n      <td>To the Stars</td>\n      <td>The epic science fiction trilogy--Homeworld, W...</td>\n    </tr>\n    <tr>\n      <th>4</th>\n      <td>6066819</td>\n      <td>Best Friends Forever</td>\n      <td>Addie Downs and Valerie Adler were eight when ...</td>\n      <td>7052976</td>\n      <td>The One That I Want</td>\n      <td>Tilly Farmer is thirty-two years old and has t...</td>\n    </tr>\n    <tr>\n      <th>5</th>\n      <td>6066819</td>\n      <td>Best Friends Forever</td>\n      <td>Addie Downs and Valerie Adler were eight when ...</td>\n      <td>3134684</td>\n      <td>Just Breathe</td>\n      <td>Unexpected change can be like a breath of fres...</td>\n    </tr>\n    <tr>\n      <th>6</th>\n      <td>89376</td>\n      <td>Heaven</td>\n      <td>What is Heaven really going to be like? What w...</td>\n      <td>761197</td>\n      <td>The Mystery of Providence</td>\n      <td>First published in 1678, this little work well...</td>\n    </tr>\n    <tr>\n      <th>7</th>\n      <td>89376</td>\n      <td>Heaven</td>\n      <td>What is Heaven really going to be like? What w...</td>\n      <td>10081849</td>\n      <td>Lit!: A Christian Guide to Reading Books</td>\n      <td>Whether books are your addiction or your phobi...</td>\n    </tr>\n    <tr>\n      <th>8</th>\n      <td>89378</td>\n      <td>Dog Heaven</td>\n      <td>In Newbery Medalist Cynthia Rylant's classic b...</td>\n      <td>6424103</td>\n      <td>Harry &amp; Hopper</td>\n      <td>When Harry's beloved dog Hopper dies, he has a...</td>\n    </tr>\n    <tr>\n      <th>9</th>\n      <td>89378</td>\n      <td>Dog Heaven</td>\n      <td>In Newbery Medalist Cynthia Rylant's classic b...</td>\n      <td>197998</td>\n      <td>The Dead Bird</td>\n      <td>One day, the children find a bird lying on its...</td>\n    </tr>\n  </tbody>\n</table>\n</div>"
     },
     "metadata": {},
     "execution_count": 19
    }
   ],
   "source": [
    "print(f'Dataframe shape after removing duplicates: {pairs_df.shape}')\n",
    "pairs_df.head(10)"
   ]
  },
  {
   "cell_type": "code",
   "execution_count": 20,
   "metadata": {},
   "outputs": [
    {
     "output_type": "stream",
     "name": "stdout",
     "text": [
      "Similar book pairs dataframe serialized to CSV successfully.\n"
     ]
    }
   ],
   "source": [
    "pairs_df.to_csv('data/similar_book_pairs.csv')\n",
    "print(f'Similar book pairs dataframe serialized to CSV successfully.')"
   ]
  },
  {
   "cell_type": "code",
   "execution_count": null,
   "metadata": {},
   "outputs": [],
   "source": []
  }
 ]
}