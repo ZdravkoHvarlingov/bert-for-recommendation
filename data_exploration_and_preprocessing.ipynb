{
 "metadata": {
  "language_info": {
   "codemirror_mode": {
    "name": "ipython",
    "version": 3
   },
   "file_extension": ".py",
   "mimetype": "text/x-python",
   "name": "python",
   "nbconvert_exporter": "python",
   "pygments_lexer": "ipython3",
   "version": "3.7.4"
  },
  "orig_nbformat": 4,
  "kernelspec": {
   "name": "python3",
   "display_name": "Python 3.7.4 64-bit ('venv': venv)"
  },
  "interpreter": {
   "hash": "236afb4c60c7ec613449c67b2c4cd5af5ca37658326c13f26b7a5944e23c45d9"
  }
 },
 "nbformat": 4,
 "nbformat_minor": 2,
 "cells": [
  {
   "cell_type": "code",
   "execution_count": 59,
   "metadata": {},
   "outputs": [],
   "source": [
    "import gzip\n",
    "import json\n",
    "import random\n",
    "import pandas as pd\n",
    "import seaborn as sns\n",
    "import matplotlib.pyplot as plt\n",
    "from pylab import rcParams\n",
    "\n",
    "from random import randrange, shuffle"
   ]
  },
  {
   "source": [
    "# Parsing the provided GoodReads books dataset"
   ],
   "cell_type": "markdown",
   "metadata": {}
  },
  {
   "cell_type": "code",
   "execution_count": 70,
   "metadata": {},
   "outputs": [],
   "source": [
    "NUM_OF_BOOKS = 200000\n",
    "RANDOM_SEED = 11\n",
    "HAPPY_COLORS_PALETTE = [\"#01BEFE\", \"#FFDD00\", \"#FF7D00\", \"#FF006D\", \"#ADFF02\", \"#8F00FF\"]\n",
    "\n",
    "random.seed(RANDOM_SEED)\n",
    "sns.set_palette(sns.color_palette(HAPPY_COLORS_PALETTE))\n",
    "rcParams['figure.figsize'] = 12, 8"
   ]
  },
  {
   "cell_type": "code",
   "execution_count": 71,
   "metadata": {},
   "outputs": [],
   "source": [
    "def is_non_empty_string(text):\n",
    "    return text is not None and text != \"\""
   ]
  },
  {
   "cell_type": "code",
   "execution_count": 72,
   "metadata": {},
   "outputs": [],
   "source": [
    "def load_first_n_english_books(file_name, n=10):\n",
    "    count = 0\n",
    "    books = []\n",
    "    with gzip.open(file_name) as fin:\n",
    "        for l in fin:\n",
    "            book = json.loads(l)\n",
    "            if book['language_code'] == 'eng' and is_non_empty_string(book['title']) and is_non_empty_string(book['description']):\n",
    "                count += 1\n",
    "                books.append(book)\n",
    "            \n",
    "            if count >= n:\n",
    "                break\n",
    "    \n",
    "    return books"
   ]
  },
  {
   "cell_type": "code",
   "execution_count": 73,
   "metadata": {},
   "outputs": [],
   "source": [
    "books_raw = load_first_n_english_books('data/goodreads_books.json.gz', NUM_OF_BOOKS)"
   ]
  },
  {
   "cell_type": "code",
   "execution_count": 74,
   "metadata": {},
   "outputs": [],
   "source": [
    "def extract_features_of_interest(books):\n",
    "    result = {}\n",
    "    for book in books:\n",
    "        result[book['book_id']] = {\n",
    "                'book_id': book['book_id'],\n",
    "                'title': book['title'],\n",
    "                'description': book['description'].replace('\\n', ' '),\n",
    "                'similar_books': book['similar_books']\n",
    "            }\n",
    "            \n",
    "    return result"
   ]
  },
  {
   "cell_type": "code",
   "execution_count": 75,
   "metadata": {},
   "outputs": [],
   "source": [
    "books = extract_features_of_interest(books_raw)"
   ]
  },
  {
   "cell_type": "code",
   "execution_count": 76,
   "metadata": {},
   "outputs": [],
   "source": [
    "def filter_out_similar_books_out_of_scope_(books):\n",
    "    for book_id in books:\n",
    "        book = books[book_id]\n",
    "        book['similar_books'] = [similar_book for similar_book in book['similar_books'] if similar_book in books]"
   ]
  },
  {
   "cell_type": "code",
   "execution_count": 77,
   "metadata": {},
   "outputs": [],
   "source": [
    "filter_out_similar_books_out_of_scope_(books)"
   ]
  },
  {
   "cell_type": "code",
   "execution_count": 78,
   "metadata": {},
   "outputs": [
    {
     "output_type": "stream",
     "name": "stdout",
     "text": [
      "Number of books: 200000\n"
     ]
    }
   ],
   "source": [
    "print(f'Number of books: {len(books)}')"
   ]
  },
  {
   "cell_type": "code",
   "execution_count": 79,
   "metadata": {},
   "outputs": [
    {
     "output_type": "stream",
     "name": "stdout",
     "text": [
      "Example book:\n{\n    \"book_id\": \"16693030\",\n    \"title\": \"A Monster Calls\",\n    \"description\": \"An unflinching, darkly funny, and deeply moving story of a boy, his seriously ill mother, and an unexpected monstrous visitor. At seven minutes past midnight, thirteen-year-old Conor wakes to find a monster outside his bedroom window. But it isn't the monster Conor's been expecting-- he's been expecting the one from his nightmare, the nightmare he's had nearly every night since his mother started her treatments. The monster in his backyard is different. It's ancient. And wild. And it wants something from Conor. Something terrible and dangerous. It wants the truth. From the final idea of award-winning author Siobhan Dowd-- whose premature death from cancer prevented her from writing it herself-- Patrick Ness has spun a haunting and darkly funny novel of mischief, loss, and monsters both real and imagined.\",\n    \"similar_books\": [\n        \"6369113\",\n        \"10165727\",\n        \"10836471\",\n        \"8159643\"\n    ]\n}\n"
     ]
    }
   ],
   "source": [
    "print('Example book:')\n",
    "print(json.dumps(list(books.values())[35], indent=4))"
   ]
  },
  {
   "cell_type": "code",
   "execution_count": 80,
   "metadata": {},
   "outputs": [],
   "source": [
    "with open(f'data/top_{len(books)}_eng_books_filtered.json', 'w') as books_json_file:\n",
    "    json.dump(books, books_json_file, indent=4)"
   ]
  },
  {
   "source": [
    "# Constructing training pairs of similar and non similar books"
   ],
   "cell_type": "markdown",
   "metadata": {}
  },
  {
   "cell_type": "code",
   "execution_count": 81,
   "metadata": {},
   "outputs": [],
   "source": [
    "def construct_book_pair(book1, book2, target_class):\n",
    "    return {\n",
    "        'book1_id': book1['book_id'],\n",
    "        'book1_title': book1['title'],\n",
    "        'book1_description': book1['description'],\n",
    "        'book2_id': book2['book_id'],\n",
    "        'book2_title': book2['title'],\n",
    "        'book2_description': book2['description'],\n",
    "        'target_class': target_class\n",
    "    }"
   ]
  },
  {
   "cell_type": "code",
   "execution_count": 82,
   "metadata": {},
   "outputs": [],
   "source": [
    "def construct_book_pairs(books):\n",
    "    pairs = []\n",
    "\n",
    "    # Actual similar books hence target class 1\n",
    "    for book_id in books:\n",
    "        book = books[book_id]\n",
    "        for similar_book_id in book['similar_books']:\n",
    "            similar_book = books[similar_book_id]\n",
    "            pairs.append(construct_book_pair(book, similar_book, 1))\n",
    "    \n",
    "    # The same number of randomly selected books to form pair of target class 0\n",
    "    num_of_similar_book_pairs = len(pairs)\n",
    "    num_of_books = len(books)\n",
    "    book_ids = list(books.keys())\n",
    "    for _ in range(num_of_similar_book_pairs):\n",
    "        book1_id = book_ids[randrange(num_of_books)]\n",
    "        book2_id = book_ids[randrange(num_of_books)]\n",
    "        pairs.append(construct_book_pair(books[book1_id], books[book2_id], 0))\n",
    "\n",
    "    shuffle(pairs)\n",
    "    return pairs"
   ]
  },
  {
   "cell_type": "code",
   "execution_count": 83,
   "metadata": {},
   "outputs": [],
   "source": [
    "pairs = construct_book_pairs(books)"
   ]
  },
  {
   "cell_type": "code",
   "execution_count": 84,
   "metadata": {},
   "outputs": [
    {
     "output_type": "stream",
     "name": "stdout",
     "text": [
      "Number of book pairs: 552128\nExample pair:\n{\n    \"book1_id\": \"21524278\",\n    \"book1_title\": \"Charming the Duke\",\n    \"book1_description\": \"1849 . . . Matilda Sheldon, the middle daughter of the sixth Earl of Bisset, has never been interested in the fashionable society events that so preoccupy her parents and siblings. Her loving, albeit, daft family cannot understand why. But Matilda has little use for silly rules and dramas. She would rather occupy her time with a worthwhile cause such as opening The Sheldon Home for Orphans, much to the chagrin of her mother and grandmother. They are quite certain a venture of this nature will discourage suitors. Matilda is quite certain that if suitors are discouraged it is because she is clever, plain, a bit clumsy, and inevitably compared to her beautiful sisters. The Duke of Thornsby is in tight spot. After receiving the title on the death of his father, he discovers the inheritance is to be gifted elsewhere if he does not marry before his thirtieth birthday. Unfortunately, our man-about-town is embroiled in a scandal, not of his own making, and the marriage mamas won't let any eligible misses anywhere near him. What's a Duke to do? Get invited to a house party hosted by the notoriously absent-minded Earl of Bisset, who just happens to be Papa to some young ladies of marriageable age! Thornsby finds himself fascinated, not with the two Sheldon debutantes actively seeking a husband, but rather with the 'brown wren' he first mistakes for a servant. Matilda is counting the hours until the house party ends when the necessity of conversing with the guests will be over, and ridiculously handsome men go far away. Can a worldly Duke convince a sensible girl to accept his court? Find out in Charming the Duke.\",\n    \"book2_id\": \"13559112\",\n    \"book2_title\": \"The Duke Don't Dance\",\n    \"book2_description\": \"Compressed between the Greatest Generation and the Baby Boom were those who became known to some by the ill-chosen name of the Silent Generation. They were those born too late to share in the triumph of the great victory, too early to know only the privilege of the American empire and in too few numbers to assure themselves a proper identity and proper legacy. Despite those attributes, they invented rock and roll, filled the streets in the struggle for racial equality, bled in the heated precipitates of the cold war and opened the doors to the sexual revolution and feminism, her serious-minded sister. Their triumph lay not in their completion of these transitions, but in their survival through them. The Duke Don't Dance follows the adult lives of men and women who made that journey.\",\n    \"target_class\": 0\n}\n"
     ]
    }
   ],
   "source": [
    "print(f'Number of book pairs: {len(pairs)}')\n",
    "print('Example pair:')\n",
    "print(json.dumps(pairs[14], indent=4))"
   ]
  },
  {
   "cell_type": "code",
   "execution_count": 87,
   "metadata": {},
   "outputs": [],
   "source": [
    "pairs_df = pd.DataFrame(pairs)\n",
    "pairs_df.index.name = 'pair_id'"
   ]
  },
  {
   "cell_type": "code",
   "execution_count": 89,
   "metadata": {},
   "outputs": [
    {
     "output_type": "stream",
     "name": "stdout",
     "text": [
      "Dataframe shape: (552128, 7)\n"
     ]
    },
    {
     "output_type": "execute_result",
     "data": {
      "text/plain": [
       "         book1_id                                        book1_title  \\\n",
       "pair_id                                                                \n",
       "0        15984348   X-Men, by Brian Wood, Volume 1: Blank Generation   \n",
       "1        15779244                      1971 (Mark Miller's One, #10)   \n",
       "2        17338329          Beware of Bad Boy (Beware of Bad Boy, #1)   \n",
       "3        32329580                                 Fur (Becoming, #1)   \n",
       "4        18584581                                            Exposed   \n",
       "5        30282842              Day Dreamer (Undeadly Secrets Book 2)   \n",
       "6          417803                     Shooting Chant (Ella Clah, #5)   \n",
       "7        21531497                              The Laughing Monsters   \n",
       "8        19462885            The Adventure Continues (Adventure, #2)   \n",
       "9        31867595  Dreaming of Love  (The Bradens at Trusty #5; T...   \n",
       "10       18029845                   It Started With a Friend Request   \n",
       "11       30297927                                             Kicked   \n",
       "12       32498372                           Rocket Raccoon: Grounded   \n",
       "13       27834509                The World of Cycling According to G   \n",
       "14       21524278                                  Charming the Duke   \n",
       "15       17834804  The Secret of Terror Castle (Alfred Hitchcock ...   \n",
       "16       16130138  The Can't Cook Book: Recipes for the Absolutel...   \n",
       "17        8200504            A Brush of Darkness (Abby Sinclair, #1)   \n",
       "18       28207481                                 The Lost and Found   \n",
       "19       23281906                                           The Liar   \n",
       "20       13615823                Madonna and Corpse (Body Farm #6.5)   \n",
       "21       30626815  The Girls of Atomic City: The Untold Story of ...   \n",
       "22         872497  Sources of Indian Tradition: From the Beginnin...   \n",
       "23       11307712                   Knight Everlasting (Knights, #2)   \n",
       "24        6372765                                  His Lady Mistress   \n",
       "25       30811552                                         The Haters   \n",
       "26       25502292  His Special Confession (The Billionaire's Curv...   \n",
       "27        1945143           Death of a Village (Hamish Macbeth, #19)   \n",
       "28        1515950  Mary Anne and Camp BSC (The Babysitters Club, ...   \n",
       "29       25317845                                         Code Human   \n",
       "\n",
       "                                         book1_description  book2_id  \\\n",
       "pair_id                                                                \n",
       "0        Superstar writer Brian Wood (Wolverine & the X...  16002124   \n",
       "1        100% of the author's proceeds will be donated ...  18270710   \n",
       "2        **Ebook FREE on Amazon, iTunes, Google Play an...  17611210   \n",
       "3        Have you ever wondered what it's like to becom...  12434408   \n",
       "4        Nia doesn't know why the TV show Dirty Rotten ...  17665070   \n",
       "5        Alex Hensley thought that discovering vampires...  12042965   \n",
       "6        Navajo Police Special Investigator Ella Clah i...  22022427   \n",
       "7        Denis Johnson's The Laughing Monsters is a hig...  18490553   \n",
       "8        Rose and Ian were a match made in heaven. Or s...  25088474   \n",
       "9        DREAMING OF LOVE is a USA TODAY BESTSELLER Emi...  22031611   \n",
       "10       A brand new love story and a story of friendsh...  17233594   \n",
       "11       Trent Carrington. Trent Mr. Perfect-Has-Everyo...  20176566   \n",
       "12       He's used to having a whole galaxy to guard, b...   1429159   \n",
       "13       Sit back or saddle up as double Olympic gold m...  30976431   \n",
       "14       1849 . . . Matilda Sheldon, the middle daughte...  13559112   \n",
       "15       Finding a genuine haunted house for a movie se...  32784958   \n",
       "16       From the #1 New York Timesbestselling author o...  23939461   \n",
       "17       The man of her dreams might be the cause of he...  22113114   \n",
       "18       \"I was created in an act of violence. I just s...  18086390   \n",
       "19       The extraordinary new novel by the #1 New York...  20821265   \n",
       "20       Renowned bone detective Bill Brockton and his ...  13293761   \n",
       "21       The incredible story of the young women of Oak...  15797952   \n",
       "22       Since 1958 Sources of Indian Traditionhas been...    547173   \n",
       "23       In the heat of battle, a powerful Scottish lai...  10054650   \n",
       "24       When Max, Earl Blakehurst, meets Verity he see...   2064338   \n",
       "25       From Jesse Andrews, author of the New York Tim...  16068954   \n",
       "26       His Special Confession is part of a series. To...  25877415   \n",
       "27       Constable Hamish Macbeth finds remote Highland...  21457076   \n",
       "28       Running a day camp with her fellow club member...    746692   \n",
       "29       The soul of humanity can not be ignored. Fenes...  26172490   \n",
       "\n",
       "                                               book2_title  \\\n",
       "pair_id                                                      \n",
       "0                 Astonishing X-Men, Volume 11: Weaponized   \n",
       "1                   The Tiger (The Donkey and the Wall #3)   \n",
       "2                                     The Mistress Mistake   \n",
       "3                                        Goodnight, Angels   \n",
       "4                                          Unearthing Cole   \n",
       "5                                         Raphael's Mating   \n",
       "6                                   When Lines Are Blurred   \n",
       "7                            American Innovations: Stories   \n",
       "8                      Senses Series Box Set (Senses #1-5)   \n",
       "9                                         Man from the Sky   \n",
       "10                             Big Little Book of Whispers   \n",
       "11       Usagi Yojimbo, Vol. 28: Red Scorpion (Usagi Yo...   \n",
       "12                      Dying to Have Her (Soap Opera, #2)   \n",
       "13                                    The Princess Diarist   \n",
       "14                                    The Duke Don't Dance   \n",
       "15                                                     Fir   \n",
       "16                                Pretend (Blackcreek, #3)   \n",
       "17                                          Armor of Glass   \n",
       "18                                The Girl in the Basement   \n",
       "19       The Hot Zone (Rainshadow, #3; Ghost Hunters, #11)   \n",
       "20       Slices of Night (Taylor Jackson; Maggie O'Dell...   \n",
       "21       Those Angry Days: Roosevelt, Lindbergh, and Am...   \n",
       "22                                        Introducing Kant   \n",
       "23                                 Taming a Highland Devil   \n",
       "24                                        Price of Passion   \n",
       "25                       The Scar Boys (The Scar Boys, #1)   \n",
       "26                    Enter the Janitor (The Cleaners, #1)   \n",
       "27                           The Missing Piece in Business   \n",
       "28                Cats at the Campground (Animal Ark, #32)   \n",
       "29            Better Off  (The Changing Hearts Series 0.5)   \n",
       "\n",
       "                                         book2_description  target_class  \n",
       "pair_id                                                                   \n",
       "0        It's the explosive aftermath to the year's mos...             1  \n",
       "1        \"Lost and found...\" The Tiger chronicles the L...             0  \n",
       "2        Jessica Conway is at the end of her rope. She ...             1  \n",
       "3        Goodnight, rubber duckie. Thank you for the sc...             0  \n",
       "4        Cole Alston swore he'd never return to his chi...             0  \n",
       "5        [Siren Classic ManLove: Erotic Alternative Par...             0  \n",
       "6        J2 Fanfic High school au in which Jensen Ackle...             0  \n",
       "7        A brilliant new collection of short stories fr...             1  \n",
       "8        This box set contains Senses Series Books 1-5....             0  \n",
       "9        For seventy-three-year-old Jaime, the answer t...             0  \n",
       "10       Big Little Book of Whispers is a book for thos...             1  \n",
       "11       The Red Scorpion Gang has been terrorizing the...             0  \n",
       "12       The bestselling author of Long, Lean and Letha...             0  \n",
       "13       The Princess Diarist is Carrie Fisher's intima...             0  \n",
       "14       Compressed between the Greatest Generation and...             0  \n",
       "15       We are the trees. We are the snow. We are the ...             0  \n",
       "16       Mason Alexander thought all he wanted in life ...             0  \n",
       "17       With his head down, bulling through various as...             0  \n",
       "18       The girl, Libby, is trying to shrug off a bad ...             0  \n",
       "19       The world of Harmony has its wonders, one of t...             1  \n",
       "20       One killer: A psychopath who flies under the r...             1  \n",
       "21       From the author of national bestseller Citizen...             1  \n",
       "22       The Introducing series is renowned throughout ...             1  \n",
       "23       Laird Magnus Sutherland loves women. His prowe...             1  \n",
       "24       THE MILLIONAIRE'S BABY Kate had learned certai...             1  \n",
       "25       A severely burned teenager. A guitar. Punk roc...             1  \n",
       "26       Clean-freak college student Dani Hashelheim ne...             0  \n",
       "27       \"The Missing Piece in Business' is a must read...             0  \n",
       "28       This newest Animal Ark title will provide cozy...             1  \n",
       "29       There's a lot Ariana isn't allowed to do... Ar...             1  "
      ],
      "text/html": "<div>\n<style scoped>\n    .dataframe tbody tr th:only-of-type {\n        vertical-align: middle;\n    }\n\n    .dataframe tbody tr th {\n        vertical-align: top;\n    }\n\n    .dataframe thead th {\n        text-align: right;\n    }\n</style>\n<table border=\"1\" class=\"dataframe\">\n  <thead>\n    <tr style=\"text-align: right;\">\n      <th></th>\n      <th>book1_id</th>\n      <th>book1_title</th>\n      <th>book1_description</th>\n      <th>book2_id</th>\n      <th>book2_title</th>\n      <th>book2_description</th>\n      <th>target_class</th>\n    </tr>\n    <tr>\n      <th>pair_id</th>\n      <th></th>\n      <th></th>\n      <th></th>\n      <th></th>\n      <th></th>\n      <th></th>\n      <th></th>\n    </tr>\n  </thead>\n  <tbody>\n    <tr>\n      <th>0</th>\n      <td>15984348</td>\n      <td>X-Men, by Brian Wood, Volume 1: Blank Generation</td>\n      <td>Superstar writer Brian Wood (Wolverine &amp; the X...</td>\n      <td>16002124</td>\n      <td>Astonishing X-Men, Volume 11: Weaponized</td>\n      <td>It's the explosive aftermath to the year's mos...</td>\n      <td>1</td>\n    </tr>\n    <tr>\n      <th>1</th>\n      <td>15779244</td>\n      <td>1971 (Mark Miller's One, #10)</td>\n      <td>100% of the author's proceeds will be donated ...</td>\n      <td>18270710</td>\n      <td>The Tiger (The Donkey and the Wall #3)</td>\n      <td>\"Lost and found...\" The Tiger chronicles the L...</td>\n      <td>0</td>\n    </tr>\n    <tr>\n      <th>2</th>\n      <td>17338329</td>\n      <td>Beware of Bad Boy (Beware of Bad Boy, #1)</td>\n      <td>**Ebook FREE on Amazon, iTunes, Google Play an...</td>\n      <td>17611210</td>\n      <td>The Mistress Mistake</td>\n      <td>Jessica Conway is at the end of her rope. She ...</td>\n      <td>1</td>\n    </tr>\n    <tr>\n      <th>3</th>\n      <td>32329580</td>\n      <td>Fur (Becoming, #1)</td>\n      <td>Have you ever wondered what it's like to becom...</td>\n      <td>12434408</td>\n      <td>Goodnight, Angels</td>\n      <td>Goodnight, rubber duckie. Thank you for the sc...</td>\n      <td>0</td>\n    </tr>\n    <tr>\n      <th>4</th>\n      <td>18584581</td>\n      <td>Exposed</td>\n      <td>Nia doesn't know why the TV show Dirty Rotten ...</td>\n      <td>17665070</td>\n      <td>Unearthing Cole</td>\n      <td>Cole Alston swore he'd never return to his chi...</td>\n      <td>0</td>\n    </tr>\n    <tr>\n      <th>5</th>\n      <td>30282842</td>\n      <td>Day Dreamer (Undeadly Secrets Book 2)</td>\n      <td>Alex Hensley thought that discovering vampires...</td>\n      <td>12042965</td>\n      <td>Raphael's Mating</td>\n      <td>[Siren Classic ManLove: Erotic Alternative Par...</td>\n      <td>0</td>\n    </tr>\n    <tr>\n      <th>6</th>\n      <td>417803</td>\n      <td>Shooting Chant (Ella Clah, #5)</td>\n      <td>Navajo Police Special Investigator Ella Clah i...</td>\n      <td>22022427</td>\n      <td>When Lines Are Blurred</td>\n      <td>J2 Fanfic High school au in which Jensen Ackle...</td>\n      <td>0</td>\n    </tr>\n    <tr>\n      <th>7</th>\n      <td>21531497</td>\n      <td>The Laughing Monsters</td>\n      <td>Denis Johnson's The Laughing Monsters is a hig...</td>\n      <td>18490553</td>\n      <td>American Innovations: Stories</td>\n      <td>A brilliant new collection of short stories fr...</td>\n      <td>1</td>\n    </tr>\n    <tr>\n      <th>8</th>\n      <td>19462885</td>\n      <td>The Adventure Continues (Adventure, #2)</td>\n      <td>Rose and Ian were a match made in heaven. Or s...</td>\n      <td>25088474</td>\n      <td>Senses Series Box Set (Senses #1-5)</td>\n      <td>This box set contains Senses Series Books 1-5....</td>\n      <td>0</td>\n    </tr>\n    <tr>\n      <th>9</th>\n      <td>31867595</td>\n      <td>Dreaming of Love  (The Bradens at Trusty #5; T...</td>\n      <td>DREAMING OF LOVE is a USA TODAY BESTSELLER Emi...</td>\n      <td>22031611</td>\n      <td>Man from the Sky</td>\n      <td>For seventy-three-year-old Jaime, the answer t...</td>\n      <td>0</td>\n    </tr>\n    <tr>\n      <th>10</th>\n      <td>18029845</td>\n      <td>It Started With a Friend Request</td>\n      <td>A brand new love story and a story of friendsh...</td>\n      <td>17233594</td>\n      <td>Big Little Book of Whispers</td>\n      <td>Big Little Book of Whispers is a book for thos...</td>\n      <td>1</td>\n    </tr>\n    <tr>\n      <th>11</th>\n      <td>30297927</td>\n      <td>Kicked</td>\n      <td>Trent Carrington. Trent Mr. Perfect-Has-Everyo...</td>\n      <td>20176566</td>\n      <td>Usagi Yojimbo, Vol. 28: Red Scorpion (Usagi Yo...</td>\n      <td>The Red Scorpion Gang has been terrorizing the...</td>\n      <td>0</td>\n    </tr>\n    <tr>\n      <th>12</th>\n      <td>32498372</td>\n      <td>Rocket Raccoon: Grounded</td>\n      <td>He's used to having a whole galaxy to guard, b...</td>\n      <td>1429159</td>\n      <td>Dying to Have Her (Soap Opera, #2)</td>\n      <td>The bestselling author of Long, Lean and Letha...</td>\n      <td>0</td>\n    </tr>\n    <tr>\n      <th>13</th>\n      <td>27834509</td>\n      <td>The World of Cycling According to G</td>\n      <td>Sit back or saddle up as double Olympic gold m...</td>\n      <td>30976431</td>\n      <td>The Princess Diarist</td>\n      <td>The Princess Diarist is Carrie Fisher's intima...</td>\n      <td>0</td>\n    </tr>\n    <tr>\n      <th>14</th>\n      <td>21524278</td>\n      <td>Charming the Duke</td>\n      <td>1849 . . . Matilda Sheldon, the middle daughte...</td>\n      <td>13559112</td>\n      <td>The Duke Don't Dance</td>\n      <td>Compressed between the Greatest Generation and...</td>\n      <td>0</td>\n    </tr>\n    <tr>\n      <th>15</th>\n      <td>17834804</td>\n      <td>The Secret of Terror Castle (Alfred Hitchcock ...</td>\n      <td>Finding a genuine haunted house for a movie se...</td>\n      <td>32784958</td>\n      <td>Fir</td>\n      <td>We are the trees. We are the snow. We are the ...</td>\n      <td>0</td>\n    </tr>\n    <tr>\n      <th>16</th>\n      <td>16130138</td>\n      <td>The Can't Cook Book: Recipes for the Absolutel...</td>\n      <td>From the #1 New York Timesbestselling author o...</td>\n      <td>23939461</td>\n      <td>Pretend (Blackcreek, #3)</td>\n      <td>Mason Alexander thought all he wanted in life ...</td>\n      <td>0</td>\n    </tr>\n    <tr>\n      <th>17</th>\n      <td>8200504</td>\n      <td>A Brush of Darkness (Abby Sinclair, #1)</td>\n      <td>The man of her dreams might be the cause of he...</td>\n      <td>22113114</td>\n      <td>Armor of Glass</td>\n      <td>With his head down, bulling through various as...</td>\n      <td>0</td>\n    </tr>\n    <tr>\n      <th>18</th>\n      <td>28207481</td>\n      <td>The Lost and Found</td>\n      <td>\"I was created in an act of violence. I just s...</td>\n      <td>18086390</td>\n      <td>The Girl in the Basement</td>\n      <td>The girl, Libby, is trying to shrug off a bad ...</td>\n      <td>0</td>\n    </tr>\n    <tr>\n      <th>19</th>\n      <td>23281906</td>\n      <td>The Liar</td>\n      <td>The extraordinary new novel by the #1 New York...</td>\n      <td>20821265</td>\n      <td>The Hot Zone (Rainshadow, #3; Ghost Hunters, #11)</td>\n      <td>The world of Harmony has its wonders, one of t...</td>\n      <td>1</td>\n    </tr>\n    <tr>\n      <th>20</th>\n      <td>13615823</td>\n      <td>Madonna and Corpse (Body Farm #6.5)</td>\n      <td>Renowned bone detective Bill Brockton and his ...</td>\n      <td>13293761</td>\n      <td>Slices of Night (Taylor Jackson; Maggie O'Dell...</td>\n      <td>One killer: A psychopath who flies under the r...</td>\n      <td>1</td>\n    </tr>\n    <tr>\n      <th>21</th>\n      <td>30626815</td>\n      <td>The Girls of Atomic City: The Untold Story of ...</td>\n      <td>The incredible story of the young women of Oak...</td>\n      <td>15797952</td>\n      <td>Those Angry Days: Roosevelt, Lindbergh, and Am...</td>\n      <td>From the author of national bestseller Citizen...</td>\n      <td>1</td>\n    </tr>\n    <tr>\n      <th>22</th>\n      <td>872497</td>\n      <td>Sources of Indian Tradition: From the Beginnin...</td>\n      <td>Since 1958 Sources of Indian Traditionhas been...</td>\n      <td>547173</td>\n      <td>Introducing Kant</td>\n      <td>The Introducing series is renowned throughout ...</td>\n      <td>1</td>\n    </tr>\n    <tr>\n      <th>23</th>\n      <td>11307712</td>\n      <td>Knight Everlasting (Knights, #2)</td>\n      <td>In the heat of battle, a powerful Scottish lai...</td>\n      <td>10054650</td>\n      <td>Taming a Highland Devil</td>\n      <td>Laird Magnus Sutherland loves women. His prowe...</td>\n      <td>1</td>\n    </tr>\n    <tr>\n      <th>24</th>\n      <td>6372765</td>\n      <td>His Lady Mistress</td>\n      <td>When Max, Earl Blakehurst, meets Verity he see...</td>\n      <td>2064338</td>\n      <td>Price of Passion</td>\n      <td>THE MILLIONAIRE'S BABY Kate had learned certai...</td>\n      <td>1</td>\n    </tr>\n    <tr>\n      <th>25</th>\n      <td>30811552</td>\n      <td>The Haters</td>\n      <td>From Jesse Andrews, author of the New York Tim...</td>\n      <td>16068954</td>\n      <td>The Scar Boys (The Scar Boys, #1)</td>\n      <td>A severely burned teenager. A guitar. Punk roc...</td>\n      <td>1</td>\n    </tr>\n    <tr>\n      <th>26</th>\n      <td>25502292</td>\n      <td>His Special Confession (The Billionaire's Curv...</td>\n      <td>His Special Confession is part of a series. To...</td>\n      <td>25877415</td>\n      <td>Enter the Janitor (The Cleaners, #1)</td>\n      <td>Clean-freak college student Dani Hashelheim ne...</td>\n      <td>0</td>\n    </tr>\n    <tr>\n      <th>27</th>\n      <td>1945143</td>\n      <td>Death of a Village (Hamish Macbeth, #19)</td>\n      <td>Constable Hamish Macbeth finds remote Highland...</td>\n      <td>21457076</td>\n      <td>The Missing Piece in Business</td>\n      <td>\"The Missing Piece in Business' is a must read...</td>\n      <td>0</td>\n    </tr>\n    <tr>\n      <th>28</th>\n      <td>1515950</td>\n      <td>Mary Anne and Camp BSC (The Babysitters Club, ...</td>\n      <td>Running a day camp with her fellow club member...</td>\n      <td>746692</td>\n      <td>Cats at the Campground (Animal Ark, #32)</td>\n      <td>This newest Animal Ark title will provide cozy...</td>\n      <td>1</td>\n    </tr>\n    <tr>\n      <th>29</th>\n      <td>25317845</td>\n      <td>Code Human</td>\n      <td>The soul of humanity can not be ignored. Fenes...</td>\n      <td>26172490</td>\n      <td>Better Off  (The Changing Hearts Series 0.5)</td>\n      <td>There's a lot Ariana isn't allowed to do... Ar...</td>\n      <td>1</td>\n    </tr>\n  </tbody>\n</table>\n</div>"
     },
     "metadata": {},
     "execution_count": 89
    }
   ],
   "source": [
    "print(f'Dataframe shape: {pairs_df.shape}')\n",
    "pairs_df.head(30)"
   ]
  },
  {
   "cell_type": "code",
   "execution_count": 90,
   "metadata": {},
   "outputs": [],
   "source": [
    "pairs_df = pairs_df.drop_duplicates(subset=['book1_id', 'book2_id'])"
   ]
  },
  {
   "cell_type": "code",
   "execution_count": 91,
   "metadata": {},
   "outputs": [
    {
     "output_type": "stream",
     "name": "stdout",
     "text": [
      "Dataframe shape after removing duplicates: (552126, 7)\n"
     ]
    },
    {
     "output_type": "execute_result",
     "data": {
      "text/plain": [
       "         book1_id                                        book1_title  \\\n",
       "pair_id                                                                \n",
       "0        15984348   X-Men, by Brian Wood, Volume 1: Blank Generation   \n",
       "1        15779244                      1971 (Mark Miller's One, #10)   \n",
       "2        17338329          Beware of Bad Boy (Beware of Bad Boy, #1)   \n",
       "3        32329580                                 Fur (Becoming, #1)   \n",
       "4        18584581                                            Exposed   \n",
       "5        30282842              Day Dreamer (Undeadly Secrets Book 2)   \n",
       "6          417803                     Shooting Chant (Ella Clah, #5)   \n",
       "7        21531497                              The Laughing Monsters   \n",
       "8        19462885            The Adventure Continues (Adventure, #2)   \n",
       "9        31867595  Dreaming of Love  (The Bradens at Trusty #5; T...   \n",
       "10       18029845                   It Started With a Friend Request   \n",
       "11       30297927                                             Kicked   \n",
       "12       32498372                           Rocket Raccoon: Grounded   \n",
       "13       27834509                The World of Cycling According to G   \n",
       "14       21524278                                  Charming the Duke   \n",
       "15       17834804  The Secret of Terror Castle (Alfred Hitchcock ...   \n",
       "16       16130138  The Can't Cook Book: Recipes for the Absolutel...   \n",
       "17        8200504            A Brush of Darkness (Abby Sinclair, #1)   \n",
       "18       28207481                                 The Lost and Found   \n",
       "19       23281906                                           The Liar   \n",
       "20       13615823                Madonna and Corpse (Body Farm #6.5)   \n",
       "21       30626815  The Girls of Atomic City: The Untold Story of ...   \n",
       "22         872497  Sources of Indian Tradition: From the Beginnin...   \n",
       "23       11307712                   Knight Everlasting (Knights, #2)   \n",
       "24        6372765                                  His Lady Mistress   \n",
       "25       30811552                                         The Haters   \n",
       "26       25502292  His Special Confession (The Billionaire's Curv...   \n",
       "27        1945143           Death of a Village (Hamish Macbeth, #19)   \n",
       "28        1515950  Mary Anne and Camp BSC (The Babysitters Club, ...   \n",
       "29       25317845                                         Code Human   \n",
       "\n",
       "                                         book1_description  book2_id  \\\n",
       "pair_id                                                                \n",
       "0        Superstar writer Brian Wood (Wolverine & the X...  16002124   \n",
       "1        100% of the author's proceeds will be donated ...  18270710   \n",
       "2        **Ebook FREE on Amazon, iTunes, Google Play an...  17611210   \n",
       "3        Have you ever wondered what it's like to becom...  12434408   \n",
       "4        Nia doesn't know why the TV show Dirty Rotten ...  17665070   \n",
       "5        Alex Hensley thought that discovering vampires...  12042965   \n",
       "6        Navajo Police Special Investigator Ella Clah i...  22022427   \n",
       "7        Denis Johnson's The Laughing Monsters is a hig...  18490553   \n",
       "8        Rose and Ian were a match made in heaven. Or s...  25088474   \n",
       "9        DREAMING OF LOVE is a USA TODAY BESTSELLER Emi...  22031611   \n",
       "10       A brand new love story and a story of friendsh...  17233594   \n",
       "11       Trent Carrington. Trent Mr. Perfect-Has-Everyo...  20176566   \n",
       "12       He's used to having a whole galaxy to guard, b...   1429159   \n",
       "13       Sit back or saddle up as double Olympic gold m...  30976431   \n",
       "14       1849 . . . Matilda Sheldon, the middle daughte...  13559112   \n",
       "15       Finding a genuine haunted house for a movie se...  32784958   \n",
       "16       From the #1 New York Timesbestselling author o...  23939461   \n",
       "17       The man of her dreams might be the cause of he...  22113114   \n",
       "18       \"I was created in an act of violence. I just s...  18086390   \n",
       "19       The extraordinary new novel by the #1 New York...  20821265   \n",
       "20       Renowned bone detective Bill Brockton and his ...  13293761   \n",
       "21       The incredible story of the young women of Oak...  15797952   \n",
       "22       Since 1958 Sources of Indian Traditionhas been...    547173   \n",
       "23       In the heat of battle, a powerful Scottish lai...  10054650   \n",
       "24       When Max, Earl Blakehurst, meets Verity he see...   2064338   \n",
       "25       From Jesse Andrews, author of the New York Tim...  16068954   \n",
       "26       His Special Confession is part of a series. To...  25877415   \n",
       "27       Constable Hamish Macbeth finds remote Highland...  21457076   \n",
       "28       Running a day camp with her fellow club member...    746692   \n",
       "29       The soul of humanity can not be ignored. Fenes...  26172490   \n",
       "\n",
       "                                               book2_title  \\\n",
       "pair_id                                                      \n",
       "0                 Astonishing X-Men, Volume 11: Weaponized   \n",
       "1                   The Tiger (The Donkey and the Wall #3)   \n",
       "2                                     The Mistress Mistake   \n",
       "3                                        Goodnight, Angels   \n",
       "4                                          Unearthing Cole   \n",
       "5                                         Raphael's Mating   \n",
       "6                                   When Lines Are Blurred   \n",
       "7                            American Innovations: Stories   \n",
       "8                      Senses Series Box Set (Senses #1-5)   \n",
       "9                                         Man from the Sky   \n",
       "10                             Big Little Book of Whispers   \n",
       "11       Usagi Yojimbo, Vol. 28: Red Scorpion (Usagi Yo...   \n",
       "12                      Dying to Have Her (Soap Opera, #2)   \n",
       "13                                    The Princess Diarist   \n",
       "14                                    The Duke Don't Dance   \n",
       "15                                                     Fir   \n",
       "16                                Pretend (Blackcreek, #3)   \n",
       "17                                          Armor of Glass   \n",
       "18                                The Girl in the Basement   \n",
       "19       The Hot Zone (Rainshadow, #3; Ghost Hunters, #11)   \n",
       "20       Slices of Night (Taylor Jackson; Maggie O'Dell...   \n",
       "21       Those Angry Days: Roosevelt, Lindbergh, and Am...   \n",
       "22                                        Introducing Kant   \n",
       "23                                 Taming a Highland Devil   \n",
       "24                                        Price of Passion   \n",
       "25                       The Scar Boys (The Scar Boys, #1)   \n",
       "26                    Enter the Janitor (The Cleaners, #1)   \n",
       "27                           The Missing Piece in Business   \n",
       "28                Cats at the Campground (Animal Ark, #32)   \n",
       "29            Better Off  (The Changing Hearts Series 0.5)   \n",
       "\n",
       "                                         book2_description  target_class  \n",
       "pair_id                                                                   \n",
       "0        It's the explosive aftermath to the year's mos...             1  \n",
       "1        \"Lost and found...\" The Tiger chronicles the L...             0  \n",
       "2        Jessica Conway is at the end of her rope. She ...             1  \n",
       "3        Goodnight, rubber duckie. Thank you for the sc...             0  \n",
       "4        Cole Alston swore he'd never return to his chi...             0  \n",
       "5        [Siren Classic ManLove: Erotic Alternative Par...             0  \n",
       "6        J2 Fanfic High school au in which Jensen Ackle...             0  \n",
       "7        A brilliant new collection of short stories fr...             1  \n",
       "8        This box set contains Senses Series Books 1-5....             0  \n",
       "9        For seventy-three-year-old Jaime, the answer t...             0  \n",
       "10       Big Little Book of Whispers is a book for thos...             1  \n",
       "11       The Red Scorpion Gang has been terrorizing the...             0  \n",
       "12       The bestselling author of Long, Lean and Letha...             0  \n",
       "13       The Princess Diarist is Carrie Fisher's intima...             0  \n",
       "14       Compressed between the Greatest Generation and...             0  \n",
       "15       We are the trees. We are the snow. We are the ...             0  \n",
       "16       Mason Alexander thought all he wanted in life ...             0  \n",
       "17       With his head down, bulling through various as...             0  \n",
       "18       The girl, Libby, is trying to shrug off a bad ...             0  \n",
       "19       The world of Harmony has its wonders, one of t...             1  \n",
       "20       One killer: A psychopath who flies under the r...             1  \n",
       "21       From the author of national bestseller Citizen...             1  \n",
       "22       The Introducing series is renowned throughout ...             1  \n",
       "23       Laird Magnus Sutherland loves women. His prowe...             1  \n",
       "24       THE MILLIONAIRE'S BABY Kate had learned certai...             1  \n",
       "25       A severely burned teenager. A guitar. Punk roc...             1  \n",
       "26       Clean-freak college student Dani Hashelheim ne...             0  \n",
       "27       \"The Missing Piece in Business' is a must read...             0  \n",
       "28       This newest Animal Ark title will provide cozy...             1  \n",
       "29       There's a lot Ariana isn't allowed to do... Ar...             1  "
      ],
      "text/html": "<div>\n<style scoped>\n    .dataframe tbody tr th:only-of-type {\n        vertical-align: middle;\n    }\n\n    .dataframe tbody tr th {\n        vertical-align: top;\n    }\n\n    .dataframe thead th {\n        text-align: right;\n    }\n</style>\n<table border=\"1\" class=\"dataframe\">\n  <thead>\n    <tr style=\"text-align: right;\">\n      <th></th>\n      <th>book1_id</th>\n      <th>book1_title</th>\n      <th>book1_description</th>\n      <th>book2_id</th>\n      <th>book2_title</th>\n      <th>book2_description</th>\n      <th>target_class</th>\n    </tr>\n    <tr>\n      <th>pair_id</th>\n      <th></th>\n      <th></th>\n      <th></th>\n      <th></th>\n      <th></th>\n      <th></th>\n      <th></th>\n    </tr>\n  </thead>\n  <tbody>\n    <tr>\n      <th>0</th>\n      <td>15984348</td>\n      <td>X-Men, by Brian Wood, Volume 1: Blank Generation</td>\n      <td>Superstar writer Brian Wood (Wolverine &amp; the X...</td>\n      <td>16002124</td>\n      <td>Astonishing X-Men, Volume 11: Weaponized</td>\n      <td>It's the explosive aftermath to the year's mos...</td>\n      <td>1</td>\n    </tr>\n    <tr>\n      <th>1</th>\n      <td>15779244</td>\n      <td>1971 (Mark Miller's One, #10)</td>\n      <td>100% of the author's proceeds will be donated ...</td>\n      <td>18270710</td>\n      <td>The Tiger (The Donkey and the Wall #3)</td>\n      <td>\"Lost and found...\" The Tiger chronicles the L...</td>\n      <td>0</td>\n    </tr>\n    <tr>\n      <th>2</th>\n      <td>17338329</td>\n      <td>Beware of Bad Boy (Beware of Bad Boy, #1)</td>\n      <td>**Ebook FREE on Amazon, iTunes, Google Play an...</td>\n      <td>17611210</td>\n      <td>The Mistress Mistake</td>\n      <td>Jessica Conway is at the end of her rope. She ...</td>\n      <td>1</td>\n    </tr>\n    <tr>\n      <th>3</th>\n      <td>32329580</td>\n      <td>Fur (Becoming, #1)</td>\n      <td>Have you ever wondered what it's like to becom...</td>\n      <td>12434408</td>\n      <td>Goodnight, Angels</td>\n      <td>Goodnight, rubber duckie. Thank you for the sc...</td>\n      <td>0</td>\n    </tr>\n    <tr>\n      <th>4</th>\n      <td>18584581</td>\n      <td>Exposed</td>\n      <td>Nia doesn't know why the TV show Dirty Rotten ...</td>\n      <td>17665070</td>\n      <td>Unearthing Cole</td>\n      <td>Cole Alston swore he'd never return to his chi...</td>\n      <td>0</td>\n    </tr>\n    <tr>\n      <th>5</th>\n      <td>30282842</td>\n      <td>Day Dreamer (Undeadly Secrets Book 2)</td>\n      <td>Alex Hensley thought that discovering vampires...</td>\n      <td>12042965</td>\n      <td>Raphael's Mating</td>\n      <td>[Siren Classic ManLove: Erotic Alternative Par...</td>\n      <td>0</td>\n    </tr>\n    <tr>\n      <th>6</th>\n      <td>417803</td>\n      <td>Shooting Chant (Ella Clah, #5)</td>\n      <td>Navajo Police Special Investigator Ella Clah i...</td>\n      <td>22022427</td>\n      <td>When Lines Are Blurred</td>\n      <td>J2 Fanfic High school au in which Jensen Ackle...</td>\n      <td>0</td>\n    </tr>\n    <tr>\n      <th>7</th>\n      <td>21531497</td>\n      <td>The Laughing Monsters</td>\n      <td>Denis Johnson's The Laughing Monsters is a hig...</td>\n      <td>18490553</td>\n      <td>American Innovations: Stories</td>\n      <td>A brilliant new collection of short stories fr...</td>\n      <td>1</td>\n    </tr>\n    <tr>\n      <th>8</th>\n      <td>19462885</td>\n      <td>The Adventure Continues (Adventure, #2)</td>\n      <td>Rose and Ian were a match made in heaven. Or s...</td>\n      <td>25088474</td>\n      <td>Senses Series Box Set (Senses #1-5)</td>\n      <td>This box set contains Senses Series Books 1-5....</td>\n      <td>0</td>\n    </tr>\n    <tr>\n      <th>9</th>\n      <td>31867595</td>\n      <td>Dreaming of Love  (The Bradens at Trusty #5; T...</td>\n      <td>DREAMING OF LOVE is a USA TODAY BESTSELLER Emi...</td>\n      <td>22031611</td>\n      <td>Man from the Sky</td>\n      <td>For seventy-three-year-old Jaime, the answer t...</td>\n      <td>0</td>\n    </tr>\n    <tr>\n      <th>10</th>\n      <td>18029845</td>\n      <td>It Started With a Friend Request</td>\n      <td>A brand new love story and a story of friendsh...</td>\n      <td>17233594</td>\n      <td>Big Little Book of Whispers</td>\n      <td>Big Little Book of Whispers is a book for thos...</td>\n      <td>1</td>\n    </tr>\n    <tr>\n      <th>11</th>\n      <td>30297927</td>\n      <td>Kicked</td>\n      <td>Trent Carrington. Trent Mr. Perfect-Has-Everyo...</td>\n      <td>20176566</td>\n      <td>Usagi Yojimbo, Vol. 28: Red Scorpion (Usagi Yo...</td>\n      <td>The Red Scorpion Gang has been terrorizing the...</td>\n      <td>0</td>\n    </tr>\n    <tr>\n      <th>12</th>\n      <td>32498372</td>\n      <td>Rocket Raccoon: Grounded</td>\n      <td>He's used to having a whole galaxy to guard, b...</td>\n      <td>1429159</td>\n      <td>Dying to Have Her (Soap Opera, #2)</td>\n      <td>The bestselling author of Long, Lean and Letha...</td>\n      <td>0</td>\n    </tr>\n    <tr>\n      <th>13</th>\n      <td>27834509</td>\n      <td>The World of Cycling According to G</td>\n      <td>Sit back or saddle up as double Olympic gold m...</td>\n      <td>30976431</td>\n      <td>The Princess Diarist</td>\n      <td>The Princess Diarist is Carrie Fisher's intima...</td>\n      <td>0</td>\n    </tr>\n    <tr>\n      <th>14</th>\n      <td>21524278</td>\n      <td>Charming the Duke</td>\n      <td>1849 . . . Matilda Sheldon, the middle daughte...</td>\n      <td>13559112</td>\n      <td>The Duke Don't Dance</td>\n      <td>Compressed between the Greatest Generation and...</td>\n      <td>0</td>\n    </tr>\n    <tr>\n      <th>15</th>\n      <td>17834804</td>\n      <td>The Secret of Terror Castle (Alfred Hitchcock ...</td>\n      <td>Finding a genuine haunted house for a movie se...</td>\n      <td>32784958</td>\n      <td>Fir</td>\n      <td>We are the trees. We are the snow. We are the ...</td>\n      <td>0</td>\n    </tr>\n    <tr>\n      <th>16</th>\n      <td>16130138</td>\n      <td>The Can't Cook Book: Recipes for the Absolutel...</td>\n      <td>From the #1 New York Timesbestselling author o...</td>\n      <td>23939461</td>\n      <td>Pretend (Blackcreek, #3)</td>\n      <td>Mason Alexander thought all he wanted in life ...</td>\n      <td>0</td>\n    </tr>\n    <tr>\n      <th>17</th>\n      <td>8200504</td>\n      <td>A Brush of Darkness (Abby Sinclair, #1)</td>\n      <td>The man of her dreams might be the cause of he...</td>\n      <td>22113114</td>\n      <td>Armor of Glass</td>\n      <td>With his head down, bulling through various as...</td>\n      <td>0</td>\n    </tr>\n    <tr>\n      <th>18</th>\n      <td>28207481</td>\n      <td>The Lost and Found</td>\n      <td>\"I was created in an act of violence. I just s...</td>\n      <td>18086390</td>\n      <td>The Girl in the Basement</td>\n      <td>The girl, Libby, is trying to shrug off a bad ...</td>\n      <td>0</td>\n    </tr>\n    <tr>\n      <th>19</th>\n      <td>23281906</td>\n      <td>The Liar</td>\n      <td>The extraordinary new novel by the #1 New York...</td>\n      <td>20821265</td>\n      <td>The Hot Zone (Rainshadow, #3; Ghost Hunters, #11)</td>\n      <td>The world of Harmony has its wonders, one of t...</td>\n      <td>1</td>\n    </tr>\n    <tr>\n      <th>20</th>\n      <td>13615823</td>\n      <td>Madonna and Corpse (Body Farm #6.5)</td>\n      <td>Renowned bone detective Bill Brockton and his ...</td>\n      <td>13293761</td>\n      <td>Slices of Night (Taylor Jackson; Maggie O'Dell...</td>\n      <td>One killer: A psychopath who flies under the r...</td>\n      <td>1</td>\n    </tr>\n    <tr>\n      <th>21</th>\n      <td>30626815</td>\n      <td>The Girls of Atomic City: The Untold Story of ...</td>\n      <td>The incredible story of the young women of Oak...</td>\n      <td>15797952</td>\n      <td>Those Angry Days: Roosevelt, Lindbergh, and Am...</td>\n      <td>From the author of national bestseller Citizen...</td>\n      <td>1</td>\n    </tr>\n    <tr>\n      <th>22</th>\n      <td>872497</td>\n      <td>Sources of Indian Tradition: From the Beginnin...</td>\n      <td>Since 1958 Sources of Indian Traditionhas been...</td>\n      <td>547173</td>\n      <td>Introducing Kant</td>\n      <td>The Introducing series is renowned throughout ...</td>\n      <td>1</td>\n    </tr>\n    <tr>\n      <th>23</th>\n      <td>11307712</td>\n      <td>Knight Everlasting (Knights, #2)</td>\n      <td>In the heat of battle, a powerful Scottish lai...</td>\n      <td>10054650</td>\n      <td>Taming a Highland Devil</td>\n      <td>Laird Magnus Sutherland loves women. His prowe...</td>\n      <td>1</td>\n    </tr>\n    <tr>\n      <th>24</th>\n      <td>6372765</td>\n      <td>His Lady Mistress</td>\n      <td>When Max, Earl Blakehurst, meets Verity he see...</td>\n      <td>2064338</td>\n      <td>Price of Passion</td>\n      <td>THE MILLIONAIRE'S BABY Kate had learned certai...</td>\n      <td>1</td>\n    </tr>\n    <tr>\n      <th>25</th>\n      <td>30811552</td>\n      <td>The Haters</td>\n      <td>From Jesse Andrews, author of the New York Tim...</td>\n      <td>16068954</td>\n      <td>The Scar Boys (The Scar Boys, #1)</td>\n      <td>A severely burned teenager. A guitar. Punk roc...</td>\n      <td>1</td>\n    </tr>\n    <tr>\n      <th>26</th>\n      <td>25502292</td>\n      <td>His Special Confession (The Billionaire's Curv...</td>\n      <td>His Special Confession is part of a series. To...</td>\n      <td>25877415</td>\n      <td>Enter the Janitor (The Cleaners, #1)</td>\n      <td>Clean-freak college student Dani Hashelheim ne...</td>\n      <td>0</td>\n    </tr>\n    <tr>\n      <th>27</th>\n      <td>1945143</td>\n      <td>Death of a Village (Hamish Macbeth, #19)</td>\n      <td>Constable Hamish Macbeth finds remote Highland...</td>\n      <td>21457076</td>\n      <td>The Missing Piece in Business</td>\n      <td>\"The Missing Piece in Business' is a must read...</td>\n      <td>0</td>\n    </tr>\n    <tr>\n      <th>28</th>\n      <td>1515950</td>\n      <td>Mary Anne and Camp BSC (The Babysitters Club, ...</td>\n      <td>Running a day camp with her fellow club member...</td>\n      <td>746692</td>\n      <td>Cats at the Campground (Animal Ark, #32)</td>\n      <td>This newest Animal Ark title will provide cozy...</td>\n      <td>1</td>\n    </tr>\n    <tr>\n      <th>29</th>\n      <td>25317845</td>\n      <td>Code Human</td>\n      <td>The soul of humanity can not be ignored. Fenes...</td>\n      <td>26172490</td>\n      <td>Better Off  (The Changing Hearts Series 0.5)</td>\n      <td>There's a lot Ariana isn't allowed to do... Ar...</td>\n      <td>1</td>\n    </tr>\n  </tbody>\n</table>\n</div>"
     },
     "metadata": {},
     "execution_count": 91
    }
   ],
   "source": [
    "print(f'Dataframe shape after removing duplicates: {pairs_df.shape}')\n",
    "pairs_df.head(30)"
   ]
  },
  {
   "cell_type": "code",
   "execution_count": 92,
   "metadata": {},
   "outputs": [
    {
     "output_type": "display_data",
     "data": {
      "text/plain": "<Figure size 864x576 with 1 Axes>",
      "image/svg+xml": "<?xml version=\"1.0\" encoding=\"utf-8\" standalone=\"no\"?>\r\n<!DOCTYPE svg PUBLIC \"-//W3C//DTD SVG 1.1//EN\"\r\n  \"http://www.w3.org/Graphics/SVG/1.1/DTD/svg11.dtd\">\r\n<svg height=\"479.63625pt\" version=\"1.1\" viewBox=\"0 0 742.853125 479.63625\" width=\"742.853125pt\" xmlns=\"http://www.w3.org/2000/svg\" xmlns:xlink=\"http://www.w3.org/1999/xlink\">\r\n <metadata>\r\n  <rdf:RDF xmlns:cc=\"http://creativecommons.org/ns#\" xmlns:dc=\"http://purl.org/dc/elements/1.1/\" xmlns:rdf=\"http://www.w3.org/1999/02/22-rdf-syntax-ns#\">\r\n   <cc:Work>\r\n    <dc:type rdf:resource=\"http://purl.org/dc/dcmitype/StillImage\"/>\r\n    <dc:date>2021-06-20T18:24:04.880484</dc:date>\r\n    <dc:format>image/svg+xml</dc:format>\r\n    <dc:creator>\r\n     <cc:Agent>\r\n      <dc:title>Matplotlib v3.4.2, https://matplotlib.org/</dc:title>\r\n     </cc:Agent>\r\n    </dc:creator>\r\n   </cc:Work>\r\n  </rdf:RDF>\r\n </metadata>\r\n <defs>\r\n  <style type=\"text/css\">*{stroke-linecap:butt;stroke-linejoin:round;}</style>\r\n </defs>\r\n <g id=\"figure_1\">\r\n  <g id=\"patch_1\">\r\n   <path d=\"M 0 479.63625 \r\nL 742.853125 479.63625 \r\nL 742.853125 0 \r\nL 0 0 \r\nz\r\n\" style=\"fill:none;\"/>\r\n  </g>\r\n  <g id=\"axes_1\">\r\n   <g id=\"patch_2\">\r\n    <path d=\"M 66.053125 442.08 \r\nL 735.653125 442.08 \r\nL 735.653125 7.2 \r\nL 66.053125 7.2 \r\nz\r\n\" style=\"fill:#ffffff;\"/>\r\n   </g>\r\n   <g id=\"patch_3\">\r\n    <path clip-path=\"url(#p238e0d9129)\" d=\"M 99.533125 442.08 \r\nL 367.373125 442.08 \r\nL 367.373125 27.911572 \r\nL 99.533125 27.911572 \r\nz\r\n\" style=\"fill:#21aede;\"/>\r\n   </g>\r\n   <g id=\"patch_4\">\r\n    <path clip-path=\"url(#p238e0d9129)\" d=\"M 434.333125 442.08 \r\nL 702.173125 442.08 \r\nL 702.173125 27.908571 \r\nL 434.333125 27.908571 \r\nz\r\n\" style=\"fill:#dfc620;\"/>\r\n   </g>\r\n   <g id=\"matplotlib.axis_1\">\r\n    <g id=\"xtick_1\">\r\n     <g id=\"line2d_1\">\r\n      <defs>\r\n       <path d=\"M 0 0 \r\nL 0 3.5 \r\n\" id=\"m6bcb3148ae\" style=\"stroke:#000000;stroke-width:0.8;\"/>\r\n      </defs>\r\n      <g>\r\n       <use style=\"stroke:#000000;stroke-width:0.8;\" x=\"233.453125\" xlink:href=\"#m6bcb3148ae\" y=\"442.08\"/>\r\n      </g>\r\n     </g>\r\n     <g id=\"text_1\">\r\n      <!-- non similar -->\r\n      <g transform=\"translate(205.705469 456.678437)scale(0.1 -0.1)\">\r\n       <defs>\r\n        <path d=\"M 3513 2113 \r\nL 3513 0 \r\nL 2938 0 \r\nL 2938 2094 \r\nQ 2938 2591 2744 2837 \r\nQ 2550 3084 2163 3084 \r\nQ 1697 3084 1428 2787 \r\nQ 1159 2491 1159 1978 \r\nL 1159 0 \r\nL 581 0 \r\nL 581 3500 \r\nL 1159 3500 \r\nL 1159 2956 \r\nQ 1366 3272 1645 3428 \r\nQ 1925 3584 2291 3584 \r\nQ 2894 3584 3203 3211 \r\nQ 3513 2838 3513 2113 \r\nz\r\n\" id=\"DejaVuSans-6e\" transform=\"scale(0.015625)\"/>\r\n        <path d=\"M 1959 3097 \r\nQ 1497 3097 1228 2736 \r\nQ 959 2375 959 1747 \r\nQ 959 1119 1226 758 \r\nQ 1494 397 1959 397 \r\nQ 2419 397 2687 759 \r\nQ 2956 1122 2956 1747 \r\nQ 2956 2369 2687 2733 \r\nQ 2419 3097 1959 3097 \r\nz\r\nM 1959 3584 \r\nQ 2709 3584 3137 3096 \r\nQ 3566 2609 3566 1747 \r\nQ 3566 888 3137 398 \r\nQ 2709 -91 1959 -91 \r\nQ 1206 -91 779 398 \r\nQ 353 888 353 1747 \r\nQ 353 2609 779 3096 \r\nQ 1206 3584 1959 3584 \r\nz\r\n\" id=\"DejaVuSans-6f\" transform=\"scale(0.015625)\"/>\r\n        <path id=\"DejaVuSans-20\" transform=\"scale(0.015625)\"/>\r\n        <path d=\"M 2834 3397 \r\nL 2834 2853 \r\nQ 2591 2978 2328 3040 \r\nQ 2066 3103 1784 3103 \r\nQ 1356 3103 1142 2972 \r\nQ 928 2841 928 2578 \r\nQ 928 2378 1081 2264 \r\nQ 1234 2150 1697 2047 \r\nL 1894 2003 \r\nQ 2506 1872 2764 1633 \r\nQ 3022 1394 3022 966 \r\nQ 3022 478 2636 193 \r\nQ 2250 -91 1575 -91 \r\nQ 1294 -91 989 -36 \r\nQ 684 19 347 128 \r\nL 347 722 \r\nQ 666 556 975 473 \r\nQ 1284 391 1588 391 \r\nQ 1994 391 2212 530 \r\nQ 2431 669 2431 922 \r\nQ 2431 1156 2273 1281 \r\nQ 2116 1406 1581 1522 \r\nL 1381 1569 \r\nQ 847 1681 609 1914 \r\nQ 372 2147 372 2553 \r\nQ 372 3047 722 3315 \r\nQ 1072 3584 1716 3584 \r\nQ 2034 3584 2315 3537 \r\nQ 2597 3491 2834 3397 \r\nz\r\n\" id=\"DejaVuSans-73\" transform=\"scale(0.015625)\"/>\r\n        <path d=\"M 603 3500 \r\nL 1178 3500 \r\nL 1178 0 \r\nL 603 0 \r\nL 603 3500 \r\nz\r\nM 603 4863 \r\nL 1178 4863 \r\nL 1178 4134 \r\nL 603 4134 \r\nL 603 4863 \r\nz\r\n\" id=\"DejaVuSans-69\" transform=\"scale(0.015625)\"/>\r\n        <path d=\"M 3328 2828 \r\nQ 3544 3216 3844 3400 \r\nQ 4144 3584 4550 3584 \r\nQ 5097 3584 5394 3201 \r\nQ 5691 2819 5691 2113 \r\nL 5691 0 \r\nL 5113 0 \r\nL 5113 2094 \r\nQ 5113 2597 4934 2840 \r\nQ 4756 3084 4391 3084 \r\nQ 3944 3084 3684 2787 \r\nQ 3425 2491 3425 1978 \r\nL 3425 0 \r\nL 2847 0 \r\nL 2847 2094 \r\nQ 2847 2600 2669 2842 \r\nQ 2491 3084 2119 3084 \r\nQ 1678 3084 1418 2786 \r\nQ 1159 2488 1159 1978 \r\nL 1159 0 \r\nL 581 0 \r\nL 581 3500 \r\nL 1159 3500 \r\nL 1159 2956 \r\nQ 1356 3278 1631 3431 \r\nQ 1906 3584 2284 3584 \r\nQ 2666 3584 2933 3390 \r\nQ 3200 3197 3328 2828 \r\nz\r\n\" id=\"DejaVuSans-6d\" transform=\"scale(0.015625)\"/>\r\n        <path d=\"M 603 4863 \r\nL 1178 4863 \r\nL 1178 0 \r\nL 603 0 \r\nL 603 4863 \r\nz\r\n\" id=\"DejaVuSans-6c\" transform=\"scale(0.015625)\"/>\r\n        <path d=\"M 2194 1759 \r\nQ 1497 1759 1228 1600 \r\nQ 959 1441 959 1056 \r\nQ 959 750 1161 570 \r\nQ 1363 391 1709 391 \r\nQ 2188 391 2477 730 \r\nQ 2766 1069 2766 1631 \r\nL 2766 1759 \r\nL 2194 1759 \r\nz\r\nM 3341 1997 \r\nL 3341 0 \r\nL 2766 0 \r\nL 2766 531 \r\nQ 2569 213 2275 61 \r\nQ 1981 -91 1556 -91 \r\nQ 1019 -91 701 211 \r\nQ 384 513 384 1019 \r\nQ 384 1609 779 1909 \r\nQ 1175 2209 1959 2209 \r\nL 2766 2209 \r\nL 2766 2266 \r\nQ 2766 2663 2505 2880 \r\nQ 2244 3097 1772 3097 \r\nQ 1472 3097 1187 3025 \r\nQ 903 2953 641 2809 \r\nL 641 3341 \r\nQ 956 3463 1253 3523 \r\nQ 1550 3584 1831 3584 \r\nQ 2591 3584 2966 3190 \r\nQ 3341 2797 3341 1997 \r\nz\r\n\" id=\"DejaVuSans-61\" transform=\"scale(0.015625)\"/>\r\n        <path d=\"M 2631 2963 \r\nQ 2534 3019 2420 3045 \r\nQ 2306 3072 2169 3072 \r\nQ 1681 3072 1420 2755 \r\nQ 1159 2438 1159 1844 \r\nL 1159 0 \r\nL 581 0 \r\nL 581 3500 \r\nL 1159 3500 \r\nL 1159 2956 \r\nQ 1341 3275 1631 3429 \r\nQ 1922 3584 2338 3584 \r\nQ 2397 3584 2469 3576 \r\nQ 2541 3569 2628 3553 \r\nL 2631 2963 \r\nz\r\n\" id=\"DejaVuSans-72\" transform=\"scale(0.015625)\"/>\r\n       </defs>\r\n       <use xlink:href=\"#DejaVuSans-6e\"/>\r\n       <use x=\"63.378906\" xlink:href=\"#DejaVuSans-6f\"/>\r\n       <use x=\"124.560547\" xlink:href=\"#DejaVuSans-6e\"/>\r\n       <use x=\"187.939453\" xlink:href=\"#DejaVuSans-20\"/>\r\n       <use x=\"219.726562\" xlink:href=\"#DejaVuSans-73\"/>\r\n       <use x=\"271.826172\" xlink:href=\"#DejaVuSans-69\"/>\r\n       <use x=\"299.609375\" xlink:href=\"#DejaVuSans-6d\"/>\r\n       <use x=\"397.021484\" xlink:href=\"#DejaVuSans-69\"/>\r\n       <use x=\"424.804688\" xlink:href=\"#DejaVuSans-6c\"/>\r\n       <use x=\"452.587891\" xlink:href=\"#DejaVuSans-61\"/>\r\n       <use x=\"513.867188\" xlink:href=\"#DejaVuSans-72\"/>\r\n      </g>\r\n     </g>\r\n    </g>\r\n    <g id=\"xtick_2\">\r\n     <g id=\"line2d_2\">\r\n      <g>\r\n       <use style=\"stroke:#000000;stroke-width:0.8;\" x=\"568.253125\" xlink:href=\"#m6bcb3148ae\" y=\"442.08\"/>\r\n      </g>\r\n     </g>\r\n     <g id=\"text_2\">\r\n      <!-- similar -->\r\n      <g transform=\"translate(551.491406 456.678437)scale(0.1 -0.1)\">\r\n       <use xlink:href=\"#DejaVuSans-73\"/>\r\n       <use x=\"52.099609\" xlink:href=\"#DejaVuSans-69\"/>\r\n       <use x=\"79.882812\" xlink:href=\"#DejaVuSans-6d\"/>\r\n       <use x=\"177.294922\" xlink:href=\"#DejaVuSans-69\"/>\r\n       <use x=\"205.078125\" xlink:href=\"#DejaVuSans-6c\"/>\r\n       <use x=\"232.861328\" xlink:href=\"#DejaVuSans-61\"/>\r\n       <use x=\"294.140625\" xlink:href=\"#DejaVuSans-72\"/>\r\n      </g>\r\n     </g>\r\n    </g>\r\n    <g id=\"text_3\">\r\n     <!-- Records per target class of book pairs -->\r\n     <g transform=\"translate(306.221094 470.356562)scale(0.1 -0.1)\">\r\n      <defs>\r\n       <path d=\"M 2841 2188 \r\nQ 3044 2119 3236 1894 \r\nQ 3428 1669 3622 1275 \r\nL 4263 0 \r\nL 3584 0 \r\nL 2988 1197 \r\nQ 2756 1666 2539 1819 \r\nQ 2322 1972 1947 1972 \r\nL 1259 1972 \r\nL 1259 0 \r\nL 628 0 \r\nL 628 4666 \r\nL 2053 4666 \r\nQ 2853 4666 3247 4331 \r\nQ 3641 3997 3641 3322 \r\nQ 3641 2881 3436 2590 \r\nQ 3231 2300 2841 2188 \r\nz\r\nM 1259 4147 \r\nL 1259 2491 \r\nL 2053 2491 \r\nQ 2509 2491 2742 2702 \r\nQ 2975 2913 2975 3322 \r\nQ 2975 3731 2742 3939 \r\nQ 2509 4147 2053 4147 \r\nL 1259 4147 \r\nz\r\n\" id=\"DejaVuSans-52\" transform=\"scale(0.015625)\"/>\r\n       <path d=\"M 3597 1894 \r\nL 3597 1613 \r\nL 953 1613 \r\nQ 991 1019 1311 708 \r\nQ 1631 397 2203 397 \r\nQ 2534 397 2845 478 \r\nQ 3156 559 3463 722 \r\nL 3463 178 \r\nQ 3153 47 2828 -22 \r\nQ 2503 -91 2169 -91 \r\nQ 1331 -91 842 396 \r\nQ 353 884 353 1716 \r\nQ 353 2575 817 3079 \r\nQ 1281 3584 2069 3584 \r\nQ 2775 3584 3186 3129 \r\nQ 3597 2675 3597 1894 \r\nz\r\nM 3022 2063 \r\nQ 3016 2534 2758 2815 \r\nQ 2500 3097 2075 3097 \r\nQ 1594 3097 1305 2825 \r\nQ 1016 2553 972 2059 \r\nL 3022 2063 \r\nz\r\n\" id=\"DejaVuSans-65\" transform=\"scale(0.015625)\"/>\r\n       <path d=\"M 3122 3366 \r\nL 3122 2828 \r\nQ 2878 2963 2633 3030 \r\nQ 2388 3097 2138 3097 \r\nQ 1578 3097 1268 2742 \r\nQ 959 2388 959 1747 \r\nQ 959 1106 1268 751 \r\nQ 1578 397 2138 397 \r\nQ 2388 397 2633 464 \r\nQ 2878 531 3122 666 \r\nL 3122 134 \r\nQ 2881 22 2623 -34 \r\nQ 2366 -91 2075 -91 \r\nQ 1284 -91 818 406 \r\nQ 353 903 353 1747 \r\nQ 353 2603 823 3093 \r\nQ 1294 3584 2113 3584 \r\nQ 2378 3584 2631 3529 \r\nQ 2884 3475 3122 3366 \r\nz\r\n\" id=\"DejaVuSans-63\" transform=\"scale(0.015625)\"/>\r\n       <path d=\"M 2906 2969 \r\nL 2906 4863 \r\nL 3481 4863 \r\nL 3481 0 \r\nL 2906 0 \r\nL 2906 525 \r\nQ 2725 213 2448 61 \r\nQ 2172 -91 1784 -91 \r\nQ 1150 -91 751 415 \r\nQ 353 922 353 1747 \r\nQ 353 2572 751 3078 \r\nQ 1150 3584 1784 3584 \r\nQ 2172 3584 2448 3432 \r\nQ 2725 3281 2906 2969 \r\nz\r\nM 947 1747 \r\nQ 947 1113 1208 752 \r\nQ 1469 391 1925 391 \r\nQ 2381 391 2643 752 \r\nQ 2906 1113 2906 1747 \r\nQ 2906 2381 2643 2742 \r\nQ 2381 3103 1925 3103 \r\nQ 1469 3103 1208 2742 \r\nQ 947 2381 947 1747 \r\nz\r\n\" id=\"DejaVuSans-64\" transform=\"scale(0.015625)\"/>\r\n       <path d=\"M 1159 525 \r\nL 1159 -1331 \r\nL 581 -1331 \r\nL 581 3500 \r\nL 1159 3500 \r\nL 1159 2969 \r\nQ 1341 3281 1617 3432 \r\nQ 1894 3584 2278 3584 \r\nQ 2916 3584 3314 3078 \r\nQ 3713 2572 3713 1747 \r\nQ 3713 922 3314 415 \r\nQ 2916 -91 2278 -91 \r\nQ 1894 -91 1617 61 \r\nQ 1341 213 1159 525 \r\nz\r\nM 3116 1747 \r\nQ 3116 2381 2855 2742 \r\nQ 2594 3103 2138 3103 \r\nQ 1681 3103 1420 2742 \r\nQ 1159 2381 1159 1747 \r\nQ 1159 1113 1420 752 \r\nQ 1681 391 2138 391 \r\nQ 2594 391 2855 752 \r\nQ 3116 1113 3116 1747 \r\nz\r\n\" id=\"DejaVuSans-70\" transform=\"scale(0.015625)\"/>\r\n       <path d=\"M 1172 4494 \r\nL 1172 3500 \r\nL 2356 3500 \r\nL 2356 3053 \r\nL 1172 3053 \r\nL 1172 1153 \r\nQ 1172 725 1289 603 \r\nQ 1406 481 1766 481 \r\nL 2356 481 \r\nL 2356 0 \r\nL 1766 0 \r\nQ 1100 0 847 248 \r\nQ 594 497 594 1153 \r\nL 594 3053 \r\nL 172 3053 \r\nL 172 3500 \r\nL 594 3500 \r\nL 594 4494 \r\nL 1172 4494 \r\nz\r\n\" id=\"DejaVuSans-74\" transform=\"scale(0.015625)\"/>\r\n       <path d=\"M 2906 1791 \r\nQ 2906 2416 2648 2759 \r\nQ 2391 3103 1925 3103 \r\nQ 1463 3103 1205 2759 \r\nQ 947 2416 947 1791 \r\nQ 947 1169 1205 825 \r\nQ 1463 481 1925 481 \r\nQ 2391 481 2648 825 \r\nQ 2906 1169 2906 1791 \r\nz\r\nM 3481 434 \r\nQ 3481 -459 3084 -895 \r\nQ 2688 -1331 1869 -1331 \r\nQ 1566 -1331 1297 -1286 \r\nQ 1028 -1241 775 -1147 \r\nL 775 -588 \r\nQ 1028 -725 1275 -790 \r\nQ 1522 -856 1778 -856 \r\nQ 2344 -856 2625 -561 \r\nQ 2906 -266 2906 331 \r\nL 2906 616 \r\nQ 2728 306 2450 153 \r\nQ 2172 0 1784 0 \r\nQ 1141 0 747 490 \r\nQ 353 981 353 1791 \r\nQ 353 2603 747 3093 \r\nQ 1141 3584 1784 3584 \r\nQ 2172 3584 2450 3431 \r\nQ 2728 3278 2906 2969 \r\nL 2906 3500 \r\nL 3481 3500 \r\nL 3481 434 \r\nz\r\n\" id=\"DejaVuSans-67\" transform=\"scale(0.015625)\"/>\r\n       <path d=\"M 2375 4863 \r\nL 2375 4384 \r\nL 1825 4384 \r\nQ 1516 4384 1395 4259 \r\nQ 1275 4134 1275 3809 \r\nL 1275 3500 \r\nL 2222 3500 \r\nL 2222 3053 \r\nL 1275 3053 \r\nL 1275 0 \r\nL 697 0 \r\nL 697 3053 \r\nL 147 3053 \r\nL 147 3500 \r\nL 697 3500 \r\nL 697 3744 \r\nQ 697 4328 969 4595 \r\nQ 1241 4863 1831 4863 \r\nL 2375 4863 \r\nz\r\n\" id=\"DejaVuSans-66\" transform=\"scale(0.015625)\"/>\r\n       <path d=\"M 3116 1747 \r\nQ 3116 2381 2855 2742 \r\nQ 2594 3103 2138 3103 \r\nQ 1681 3103 1420 2742 \r\nQ 1159 2381 1159 1747 \r\nQ 1159 1113 1420 752 \r\nQ 1681 391 2138 391 \r\nQ 2594 391 2855 752 \r\nQ 3116 1113 3116 1747 \r\nz\r\nM 1159 2969 \r\nQ 1341 3281 1617 3432 \r\nQ 1894 3584 2278 3584 \r\nQ 2916 3584 3314 3078 \r\nQ 3713 2572 3713 1747 \r\nQ 3713 922 3314 415 \r\nQ 2916 -91 2278 -91 \r\nQ 1894 -91 1617 61 \r\nQ 1341 213 1159 525 \r\nL 1159 0 \r\nL 581 0 \r\nL 581 4863 \r\nL 1159 4863 \r\nL 1159 2969 \r\nz\r\n\" id=\"DejaVuSans-62\" transform=\"scale(0.015625)\"/>\r\n       <path d=\"M 581 4863 \r\nL 1159 4863 \r\nL 1159 1991 \r\nL 2875 3500 \r\nL 3609 3500 \r\nL 1753 1863 \r\nL 3688 0 \r\nL 2938 0 \r\nL 1159 1709 \r\nL 1159 0 \r\nL 581 0 \r\nL 581 4863 \r\nz\r\n\" id=\"DejaVuSans-6b\" transform=\"scale(0.015625)\"/>\r\n      </defs>\r\n      <use xlink:href=\"#DejaVuSans-52\"/>\r\n      <use x=\"64.982422\" xlink:href=\"#DejaVuSans-65\"/>\r\n      <use x=\"126.505859\" xlink:href=\"#DejaVuSans-63\"/>\r\n      <use x=\"181.486328\" xlink:href=\"#DejaVuSans-6f\"/>\r\n      <use x=\"242.667969\" xlink:href=\"#DejaVuSans-72\"/>\r\n      <use x=\"282.03125\" xlink:href=\"#DejaVuSans-64\"/>\r\n      <use x=\"345.507812\" xlink:href=\"#DejaVuSans-73\"/>\r\n      <use x=\"397.607422\" xlink:href=\"#DejaVuSans-20\"/>\r\n      <use x=\"429.394531\" xlink:href=\"#DejaVuSans-70\"/>\r\n      <use x=\"492.871094\" xlink:href=\"#DejaVuSans-65\"/>\r\n      <use x=\"554.394531\" xlink:href=\"#DejaVuSans-72\"/>\r\n      <use x=\"595.507812\" xlink:href=\"#DejaVuSans-20\"/>\r\n      <use x=\"627.294922\" xlink:href=\"#DejaVuSans-74\"/>\r\n      <use x=\"666.503906\" xlink:href=\"#DejaVuSans-61\"/>\r\n      <use x=\"727.783203\" xlink:href=\"#DejaVuSans-72\"/>\r\n      <use x=\"767.146484\" xlink:href=\"#DejaVuSans-67\"/>\r\n      <use x=\"830.623047\" xlink:href=\"#DejaVuSans-65\"/>\r\n      <use x=\"892.146484\" xlink:href=\"#DejaVuSans-74\"/>\r\n      <use x=\"931.355469\" xlink:href=\"#DejaVuSans-20\"/>\r\n      <use x=\"963.142578\" xlink:href=\"#DejaVuSans-63\"/>\r\n      <use x=\"1018.123047\" xlink:href=\"#DejaVuSans-6c\"/>\r\n      <use x=\"1045.90625\" xlink:href=\"#DejaVuSans-61\"/>\r\n      <use x=\"1107.185547\" xlink:href=\"#DejaVuSans-73\"/>\r\n      <use x=\"1159.285156\" xlink:href=\"#DejaVuSans-73\"/>\r\n      <use x=\"1211.384766\" xlink:href=\"#DejaVuSans-20\"/>\r\n      <use x=\"1243.171875\" xlink:href=\"#DejaVuSans-6f\"/>\r\n      <use x=\"1304.353516\" xlink:href=\"#DejaVuSans-66\"/>\r\n      <use x=\"1339.558594\" xlink:href=\"#DejaVuSans-20\"/>\r\n      <use x=\"1371.345703\" xlink:href=\"#DejaVuSans-62\"/>\r\n      <use x=\"1434.822266\" xlink:href=\"#DejaVuSans-6f\"/>\r\n      <use x=\"1496.003906\" xlink:href=\"#DejaVuSans-6f\"/>\r\n      <use x=\"1557.185547\" xlink:href=\"#DejaVuSans-6b\"/>\r\n      <use x=\"1615.095703\" xlink:href=\"#DejaVuSans-20\"/>\r\n      <use x=\"1646.882812\" xlink:href=\"#DejaVuSans-70\"/>\r\n      <use x=\"1710.359375\" xlink:href=\"#DejaVuSans-61\"/>\r\n      <use x=\"1771.638672\" xlink:href=\"#DejaVuSans-69\"/>\r\n      <use x=\"1799.421875\" xlink:href=\"#DejaVuSans-72\"/>\r\n      <use x=\"1840.535156\" xlink:href=\"#DejaVuSans-73\"/>\r\n     </g>\r\n    </g>\r\n   </g>\r\n   <g id=\"matplotlib.axis_2\">\r\n    <g id=\"ytick_1\">\r\n     <g id=\"line2d_3\">\r\n      <defs>\r\n       <path d=\"M 0 0 \r\nL -3.5 0 \r\n\" id=\"m5359a92fcf\" style=\"stroke:#000000;stroke-width:0.8;\"/>\r\n      </defs>\r\n      <g>\r\n       <use style=\"stroke:#000000;stroke-width:0.8;\" x=\"66.053125\" xlink:href=\"#m5359a92fcf\" y=\"442.08\"/>\r\n      </g>\r\n     </g>\r\n     <g id=\"text_4\">\r\n      <!-- 0 -->\r\n      <g transform=\"translate(52.690625 445.879219)scale(0.1 -0.1)\">\r\n       <defs>\r\n        <path d=\"M 2034 4250 \r\nQ 1547 4250 1301 3770 \r\nQ 1056 3291 1056 2328 \r\nQ 1056 1369 1301 889 \r\nQ 1547 409 2034 409 \r\nQ 2525 409 2770 889 \r\nQ 3016 1369 3016 2328 \r\nQ 3016 3291 2770 3770 \r\nQ 2525 4250 2034 4250 \r\nz\r\nM 2034 4750 \r\nQ 2819 4750 3233 4129 \r\nQ 3647 3509 3647 2328 \r\nQ 3647 1150 3233 529 \r\nQ 2819 -91 2034 -91 \r\nQ 1250 -91 836 529 \r\nQ 422 1150 422 2328 \r\nQ 422 3509 836 4129 \r\nQ 1250 4750 2034 4750 \r\nz\r\n\" id=\"DejaVuSans-30\" transform=\"scale(0.015625)\"/>\r\n       </defs>\r\n       <use xlink:href=\"#DejaVuSans-30\"/>\r\n      </g>\r\n     </g>\r\n    </g>\r\n    <g id=\"ytick_2\">\r\n     <g id=\"line2d_4\">\r\n      <g>\r\n       <use style=\"stroke:#000000;stroke-width:0.8;\" x=\"66.053125\" xlink:href=\"#m5359a92fcf\" y=\"367.066339\"/>\r\n      </g>\r\n     </g>\r\n     <g id=\"text_5\">\r\n      <!-- 50000 -->\r\n      <g transform=\"translate(27.240625 370.865557)scale(0.1 -0.1)\">\r\n       <defs>\r\n        <path d=\"M 691 4666 \r\nL 3169 4666 \r\nL 3169 4134 \r\nL 1269 4134 \r\nL 1269 2991 \r\nQ 1406 3038 1543 3061 \r\nQ 1681 3084 1819 3084 \r\nQ 2600 3084 3056 2656 \r\nQ 3513 2228 3513 1497 \r\nQ 3513 744 3044 326 \r\nQ 2575 -91 1722 -91 \r\nQ 1428 -91 1123 -41 \r\nQ 819 9 494 109 \r\nL 494 744 \r\nQ 775 591 1075 516 \r\nQ 1375 441 1709 441 \r\nQ 2250 441 2565 725 \r\nQ 2881 1009 2881 1497 \r\nQ 2881 1984 2565 2268 \r\nQ 2250 2553 1709 2553 \r\nQ 1456 2553 1204 2497 \r\nQ 953 2441 691 2322 \r\nL 691 4666 \r\nz\r\n\" id=\"DejaVuSans-35\" transform=\"scale(0.015625)\"/>\r\n       </defs>\r\n       <use xlink:href=\"#DejaVuSans-35\"/>\r\n       <use x=\"63.623047\" xlink:href=\"#DejaVuSans-30\"/>\r\n       <use x=\"127.246094\" xlink:href=\"#DejaVuSans-30\"/>\r\n       <use x=\"190.869141\" xlink:href=\"#DejaVuSans-30\"/>\r\n       <use x=\"254.492188\" xlink:href=\"#DejaVuSans-30\"/>\r\n      </g>\r\n     </g>\r\n    </g>\r\n    <g id=\"ytick_3\">\r\n     <g id=\"line2d_5\">\r\n      <g>\r\n       <use style=\"stroke:#000000;stroke-width:0.8;\" x=\"66.053125\" xlink:href=\"#m5359a92fcf\" y=\"292.052677\"/>\r\n      </g>\r\n     </g>\r\n     <g id=\"text_6\">\r\n      <!-- 100000 -->\r\n      <g transform=\"translate(20.878125 295.851896)scale(0.1 -0.1)\">\r\n       <defs>\r\n        <path d=\"M 794 531 \r\nL 1825 531 \r\nL 1825 4091 \r\nL 703 3866 \r\nL 703 4441 \r\nL 1819 4666 \r\nL 2450 4666 \r\nL 2450 531 \r\nL 3481 531 \r\nL 3481 0 \r\nL 794 0 \r\nL 794 531 \r\nz\r\n\" id=\"DejaVuSans-31\" transform=\"scale(0.015625)\"/>\r\n       </defs>\r\n       <use xlink:href=\"#DejaVuSans-31\"/>\r\n       <use x=\"63.623047\" xlink:href=\"#DejaVuSans-30\"/>\r\n       <use x=\"127.246094\" xlink:href=\"#DejaVuSans-30\"/>\r\n       <use x=\"190.869141\" xlink:href=\"#DejaVuSans-30\"/>\r\n       <use x=\"254.492188\" xlink:href=\"#DejaVuSans-30\"/>\r\n       <use x=\"318.115234\" xlink:href=\"#DejaVuSans-30\"/>\r\n      </g>\r\n     </g>\r\n    </g>\r\n    <g id=\"ytick_4\">\r\n     <g id=\"line2d_6\">\r\n      <g>\r\n       <use style=\"stroke:#000000;stroke-width:0.8;\" x=\"66.053125\" xlink:href=\"#m5359a92fcf\" y=\"217.039016\"/>\r\n      </g>\r\n     </g>\r\n     <g id=\"text_7\">\r\n      <!-- 150000 -->\r\n      <g transform=\"translate(20.878125 220.838234)scale(0.1 -0.1)\">\r\n       <use xlink:href=\"#DejaVuSans-31\"/>\r\n       <use x=\"63.623047\" xlink:href=\"#DejaVuSans-35\"/>\r\n       <use x=\"127.246094\" xlink:href=\"#DejaVuSans-30\"/>\r\n       <use x=\"190.869141\" xlink:href=\"#DejaVuSans-30\"/>\r\n       <use x=\"254.492188\" xlink:href=\"#DejaVuSans-30\"/>\r\n       <use x=\"318.115234\" xlink:href=\"#DejaVuSans-30\"/>\r\n      </g>\r\n     </g>\r\n    </g>\r\n    <g id=\"ytick_5\">\r\n     <g id=\"line2d_7\">\r\n      <g>\r\n       <use style=\"stroke:#000000;stroke-width:0.8;\" x=\"66.053125\" xlink:href=\"#m5359a92fcf\" y=\"142.025354\"/>\r\n      </g>\r\n     </g>\r\n     <g id=\"text_8\">\r\n      <!-- 200000 -->\r\n      <g transform=\"translate(20.878125 145.824573)scale(0.1 -0.1)\">\r\n       <defs>\r\n        <path d=\"M 1228 531 \r\nL 3431 531 \r\nL 3431 0 \r\nL 469 0 \r\nL 469 531 \r\nQ 828 903 1448 1529 \r\nQ 2069 2156 2228 2338 \r\nQ 2531 2678 2651 2914 \r\nQ 2772 3150 2772 3378 \r\nQ 2772 3750 2511 3984 \r\nQ 2250 4219 1831 4219 \r\nQ 1534 4219 1204 4116 \r\nQ 875 4013 500 3803 \r\nL 500 4441 \r\nQ 881 4594 1212 4672 \r\nQ 1544 4750 1819 4750 \r\nQ 2544 4750 2975 4387 \r\nQ 3406 4025 3406 3419 \r\nQ 3406 3131 3298 2873 \r\nQ 3191 2616 2906 2266 \r\nQ 2828 2175 2409 1742 \r\nQ 1991 1309 1228 531 \r\nz\r\n\" id=\"DejaVuSans-32\" transform=\"scale(0.015625)\"/>\r\n       </defs>\r\n       <use xlink:href=\"#DejaVuSans-32\"/>\r\n       <use x=\"63.623047\" xlink:href=\"#DejaVuSans-30\"/>\r\n       <use x=\"127.246094\" xlink:href=\"#DejaVuSans-30\"/>\r\n       <use x=\"190.869141\" xlink:href=\"#DejaVuSans-30\"/>\r\n       <use x=\"254.492188\" xlink:href=\"#DejaVuSans-30\"/>\r\n       <use x=\"318.115234\" xlink:href=\"#DejaVuSans-30\"/>\r\n      </g>\r\n     </g>\r\n    </g>\r\n    <g id=\"ytick_6\">\r\n     <g id=\"line2d_8\">\r\n      <g>\r\n       <use style=\"stroke:#000000;stroke-width:0.8;\" x=\"66.053125\" xlink:href=\"#m5359a92fcf\" y=\"67.011693\"/>\r\n      </g>\r\n     </g>\r\n     <g id=\"text_9\">\r\n      <!-- 250000 -->\r\n      <g transform=\"translate(20.878125 70.810912)scale(0.1 -0.1)\">\r\n       <use xlink:href=\"#DejaVuSans-32\"/>\r\n       <use x=\"63.623047\" xlink:href=\"#DejaVuSans-35\"/>\r\n       <use x=\"127.246094\" xlink:href=\"#DejaVuSans-30\"/>\r\n       <use x=\"190.869141\" xlink:href=\"#DejaVuSans-30\"/>\r\n       <use x=\"254.492188\" xlink:href=\"#DejaVuSans-30\"/>\r\n       <use x=\"318.115234\" xlink:href=\"#DejaVuSans-30\"/>\r\n      </g>\r\n     </g>\r\n    </g>\r\n    <g id=\"text_10\">\r\n     <!-- count -->\r\n     <g transform=\"translate(14.798438 238.74625)rotate(-90)scale(0.1 -0.1)\">\r\n      <defs>\r\n       <path d=\"M 544 1381 \r\nL 544 3500 \r\nL 1119 3500 \r\nL 1119 1403 \r\nQ 1119 906 1312 657 \r\nQ 1506 409 1894 409 \r\nQ 2359 409 2629 706 \r\nQ 2900 1003 2900 1516 \r\nL 2900 3500 \r\nL 3475 3500 \r\nL 3475 0 \r\nL 2900 0 \r\nL 2900 538 \r\nQ 2691 219 2414 64 \r\nQ 2138 -91 1772 -91 \r\nQ 1169 -91 856 284 \r\nQ 544 659 544 1381 \r\nz\r\nM 1991 3584 \r\nL 1991 3584 \r\nz\r\n\" id=\"DejaVuSans-75\" transform=\"scale(0.015625)\"/>\r\n      </defs>\r\n      <use xlink:href=\"#DejaVuSans-63\"/>\r\n      <use x=\"54.980469\" xlink:href=\"#DejaVuSans-6f\"/>\r\n      <use x=\"116.162109\" xlink:href=\"#DejaVuSans-75\"/>\r\n      <use x=\"179.541016\" xlink:href=\"#DejaVuSans-6e\"/>\r\n      <use x=\"242.919922\" xlink:href=\"#DejaVuSans-74\"/>\r\n     </g>\r\n    </g>\r\n   </g>\r\n   <g id=\"patch_5\">\r\n    <path d=\"M 66.053125 442.08 \r\nL 66.053125 7.2 \r\n\" style=\"fill:none;stroke:#000000;stroke-linecap:square;stroke-linejoin:miter;stroke-width:0.8;\"/>\r\n   </g>\r\n   <g id=\"patch_6\">\r\n    <path d=\"M 735.653125 442.08 \r\nL 735.653125 7.2 \r\n\" style=\"fill:none;stroke:#000000;stroke-linecap:square;stroke-linejoin:miter;stroke-width:0.8;\"/>\r\n   </g>\r\n   <g id=\"patch_7\">\r\n    <path d=\"M 66.053125 442.08 \r\nL 735.653125 442.08 \r\n\" style=\"fill:none;stroke:#000000;stroke-linecap:square;stroke-linejoin:miter;stroke-width:0.8;\"/>\r\n   </g>\r\n   <g id=\"patch_8\">\r\n    <path d=\"M 66.053125 7.2 \r\nL 735.653125 7.2 \r\n\" style=\"fill:none;stroke:#000000;stroke-linecap:square;stroke-linejoin:miter;stroke-width:0.8;\"/>\r\n   </g>\r\n  </g>\r\n </g>\r\n <defs>\r\n  <clipPath id=\"p238e0d9129\">\r\n   <rect height=\"434.88\" width=\"669.6\" x=\"66.053125\" y=\"7.2\"/>\r\n  </clipPath>\r\n </defs>\r\n</svg>\r\n",
      "image/png": "[encoded data removed]"
     },
     "metadata": {
      "needs_background": "light"
     }
    }
   ],
   "source": [
    "ax = sns.countplot(x=pairs_df['target_class'])\n",
    "plt.xlabel('Records per target class of book pairs')\n",
    "ax.set_xticklabels(['non similar', 'similar']);"
   ]
  },
  {
   "cell_type": "code",
   "execution_count": 93,
   "metadata": {},
   "outputs": [
    {
     "output_type": "stream",
     "name": "stdout",
     "text": [
      "Book pairs dataframe serialized to CSV successfully.\n"
     ]
    }
   ],
   "source": [
    "pairs_df.to_csv('data/similar_book_pairs.csv')\n",
    "print(f'Book pairs dataframe serialized to CSV successfully.')"
   ]
  },
  {
   "cell_type": "code",
   "execution_count": null,
   "metadata": {},
   "outputs": [],
   "source": []
  }
 ]
}